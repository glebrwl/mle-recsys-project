{
 "cells": [
  {
   "cell_type": "markdown",
   "id": "f4095ae4-7294-4b28-853e-88d235002c97",
   "metadata": {},
   "source": [
    "# Инициализация"
   ]
  },
  {
   "cell_type": "markdown",
   "id": "2f2318d2-9df8-4911-915e-15b725c44f8a",
   "metadata": {},
   "source": [
    "Загружаем библиотеки необходимые для выполнения кода ноутбука."
   ]
  },
  {
   "cell_type": "code",
   "execution_count": 1,
   "id": "662d04e7-1b0b-4e4a-9ddf-4526d7fef119",
   "metadata": {},
   "outputs": [],
   "source": [
    "import logging\n",
    "\n",
    "import matplotlib.pyplot as plt\n",
    "import numpy as np\n",
    "import pandas as pd\n",
    "\n",
    "import boto3\n",
    "import os\n",
    "from dotenv import load_dotenv\n",
    "load_dotenv()\n",
    "\n",
    "%matplotlib inline\n",
    "%config InlineBackend.figure_format = 'png'\n",
    "%config InlineBackend.figure_format = 'retina'"
   ]
  },
  {
   "cell_type": "code",
   "execution_count": 2,
   "id": "e7d08317",
   "metadata": {},
   "outputs": [
    {
     "name": "stdout",
     "output_type": "stream",
     "text": [
      "10/2e6aa7fca0074270835b798cddee6024/artifacts/dataframe/cleaned_flats_data.csv\n",
      "10/2e6aa7fca0074270835b798cddee6024/artifacts/model/MLmodel\n",
      "10/2e6aa7fca0074270835b798cddee6024/artifacts/model/conda.yaml\n",
      "10/2e6aa7fca0074270835b798cddee6024/artifacts/model/input_example.json\n",
      "10/2e6aa7fca0074270835b798cddee6024/artifacts/model/model.cb\n",
      "10/2e6aa7fca0074270835b798cddee6024/artifacts/model/python_env.yaml\n",
      "10/2e6aa7fca0074270835b798cddee6024/artifacts/model/requirements.txt\n",
      "10/5c1384ee8e324fe9ae72161c4ed40234/artifacts/dataframe/cleaned_flats_data.csv\n",
      "10/5c1384ee8e324fe9ae72161c4ed40234/artifacts/model/MLmodel\n",
      "10/5c1384ee8e324fe9ae72161c4ed40234/artifacts/model/conda.yaml\n",
      "10/5c1384ee8e324fe9ae72161c4ed40234/artifacts/model/input_example.json\n",
      "10/5c1384ee8e324fe9ae72161c4ed40234/artifacts/model/model.pkl\n",
      "10/5c1384ee8e324fe9ae72161c4ed40234/artifacts/model/python_env.yaml\n",
      "10/5c1384ee8e324fe9ae72161c4ed40234/artifacts/model/requirements.txt\n",
      "10/6da881fd8ae846329c0207d7af3243b3/artifacts/dataframe/cleaned_flats_data.csv\n",
      "10/6da881fd8ae846329c0207d7af3243b3/artifacts/model/MLmodel\n",
      "10/6da881fd8ae846329c0207d7af3243b3/artifacts/model/conda.yaml\n",
      "10/6da881fd8ae846329c0207d7af3243b3/artifacts/model/input_example.json\n",
      "10/6da881fd8ae846329c0207d7af3243b3/artifacts/model/model.pkl\n",
      "10/6da881fd8ae846329c0207d7af3243b3/artifacts/model/python_env.yaml\n",
      "10/6da881fd8ae846329c0207d7af3243b3/artifacts/model/requirements.txt\n",
      "10/70f185891d0d4c4faac45beb52435491/artifacts/dataframe/cleaned_flats_data.csv\n",
      "10/70f185891d0d4c4faac45beb52435491/artifacts/features/selected_features.json\n",
      "10/70f185891d0d4c4faac45beb52435491/artifacts/model/MLmodel\n",
      "10/70f185891d0d4c4faac45beb52435491/artifacts/model/conda.yaml\n",
      "10/70f185891d0d4c4faac45beb52435491/artifacts/model/input_example.json\n",
      "10/70f185891d0d4c4faac45beb52435491/artifacts/model/model.pkl\n",
      "10/70f185891d0d4c4faac45beb52435491/artifacts/model/python_env.yaml\n",
      "10/70f185891d0d4c4faac45beb52435491/artifacts/model/requirements.txt\n",
      "10/8646070ed87e491895bafda973d7f9f9/artifacts/dataframe/cleaned_flats_data.csv\n",
      "10/8646070ed87e491895bafda973d7f9f9/artifacts/features/selected_features.json\n",
      "10/8646070ed87e491895bafda973d7f9f9/artifacts/model/MLmodel\n",
      "10/8646070ed87e491895bafda973d7f9f9/artifacts/model/conda.yaml\n",
      "10/8646070ed87e491895bafda973d7f9f9/artifacts/model/input_example.json\n",
      "10/8646070ed87e491895bafda973d7f9f9/artifacts/model/model.pkl\n",
      "10/8646070ed87e491895bafda973d7f9f9/artifacts/model/python_env.yaml\n",
      "10/8646070ed87e491895bafda973d7f9f9/artifacts/model/requirements.txt\n",
      "10/a3e64fa9549e4f209a61c333932bb8ff/artifacts/dataframe/cleaned_flats_data.csv\n",
      "10/a3e64fa9549e4f209a61c333932bb8ff/artifacts/model/MLmodel\n",
      "10/a3e64fa9549e4f209a61c333932bb8ff/artifacts/model/conda.yaml\n",
      "10/a3e64fa9549e4f209a61c333932bb8ff/artifacts/model/input_example.json\n",
      "10/a3e64fa9549e4f209a61c333932bb8ff/artifacts/model/model.pkl\n",
      "10/a3e64fa9549e4f209a61c333932bb8ff/artifacts/model/python_env.yaml\n",
      "10/a3e64fa9549e4f209a61c333932bb8ff/artifacts/model/requirements.txt\n",
      "10/cc1f3f8dbf6f4d1d8556dcf0129908bd/artifacts/dataframe/cleaned_flats_data.csv\n",
      "10/cc1f3f8dbf6f4d1d8556dcf0129908bd/artifacts/model/MLmodel\n",
      "10/cc1f3f8dbf6f4d1d8556dcf0129908bd/artifacts/model/conda.yaml\n",
      "10/cc1f3f8dbf6f4d1d8556dcf0129908bd/artifacts/model/input_example.json\n",
      "10/cc1f3f8dbf6f4d1d8556dcf0129908bd/artifacts/model/model.cb\n",
      "10/cc1f3f8dbf6f4d1d8556dcf0129908bd/artifacts/model/python_env.yaml\n",
      "10/cc1f3f8dbf6f4d1d8556dcf0129908bd/artifacts/model/requirements.txt\n",
      "10/d7b34025177c469796518f3ada790aa6/artifacts/dataframe/cleaned_flats_data.csv\n",
      "10/da43e6410fe442f887011446f5154f92/artifacts/areas_scatter.png\n",
      "10/da43e6410fe442f887011446f5154f92/artifacts/flats_floors_count.png\n",
      "10/da43e6410fe442f887011446f5154f92/artifacts/heatmap.png\n",
      "10/da43e6410fe442f887011446f5154f92/artifacts/output.png\n",
      "10/da43e6410fe442f887011446f5154f92/artifacts/price_dist.png\n",
      "10/da43e6410fe442f887011446f5154f92/artifacts/price_dist_by_rooms.png\n",
      "10/e956dd73f1e04e2ba5c1384344c24f29/artifacts/dataframe/cleaned_flats_data.csv\n",
      "10/e956dd73f1e04e2ba5c1384344c24f29/artifacts/model/MLmodel\n",
      "10/e956dd73f1e04e2ba5c1384344c24f29/artifacts/model/conda.yaml\n",
      "10/e956dd73f1e04e2ba5c1384344c24f29/artifacts/model/input_example.json\n",
      "10/e956dd73f1e04e2ba5c1384344c24f29/artifacts/model/model.pkl\n",
      "10/e956dd73f1e04e2ba5c1384344c24f29/artifacts/model/python_env.yaml\n",
      "10/e956dd73f1e04e2ba5c1384344c24f29/artifacts/model/requirements.txt\n",
      "10/edf10bc7a85d48278bd8555d02adc92b/artifacts/dataframe/cleaned_flats_data.csv\n",
      "10/edf10bc7a85d48278bd8555d02adc92b/artifacts/model/MLmodel\n",
      "10/edf10bc7a85d48278bd8555d02adc92b/artifacts/model/conda.yaml\n",
      "10/edf10bc7a85d48278bd8555d02adc92b/artifacts/model/input_example.json\n",
      "10/edf10bc7a85d48278bd8555d02adc92b/artifacts/model/model.pkl\n",
      "10/edf10bc7a85d48278bd8555d02adc92b/artifacts/model/python_env.yaml\n",
      "10/edf10bc7a85d48278bd8555d02adc92b/artifacts/model/requirements.txt\n",
      "10/f93b97efe93b408eb235c62bded447d4/artifacts/areas_scatter.png\n",
      "10/f93b97efe93b408eb235c62bded447d4/artifacts/flats_floors_count.png\n",
      "10/f93b97efe93b408eb235c62bded447d4/artifacts/heatmap.png\n",
      "10/f93b97efe93b408eb235c62bded447d4/artifacts/heatmap_phik.png\n",
      "10/f93b97efe93b408eb235c62bded447d4/artifacts/output.png\n",
      "10/f93b97efe93b408eb235c62bded447d4/artifacts/price_dist.png\n",
      "10/f93b97efe93b408eb235c62bded447d4/artifacts/price_dist_by_rooms.png\n",
      "3/0176379dda484030bea2699f6bbcfcc5/artifacts/dataframe/columns.txt\n",
      "3/0176379dda484030bea2699f6bbcfcc5/artifacts/dataframe/users_churn.csv\n",
      "3/01eab1a9efe34bb4b0fe30c045196e70/artifacts/dataframe/clean_users_churn.csv\n",
      "3/01eab1a9efe34bb4b0fe30c045196e70/artifacts/model/MLmodel\n",
      "3/01eab1a9efe34bb4b0fe30c045196e70/artifacts/model/conda.yaml\n",
      "3/01eab1a9efe34bb4b0fe30c045196e70/artifacts/model/model.pkl\n",
      "3/01eab1a9efe34bb4b0fe30c045196e70/artifacts/model/python_env.yaml\n",
      "3/01eab1a9efe34bb4b0fe30c045196e70/artifacts/model/requirements.txt\n",
      "3/114e174da288419ca136cddc22900381/artifacts/column_transformer/MLmodel\n",
      "3/114e174da288419ca136cddc22900381/artifacts/column_transformer/conda.yaml\n",
      "3/114e174da288419ca136cddc22900381/artifacts/column_transformer/model.pkl\n",
      "3/114e174da288419ca136cddc22900381/artifacts/column_transformer/python_env.yaml\n",
      "3/114e174da288419ca136cddc22900381/artifacts/column_transformer/requirements.txt\n",
      "3/6751278c979d4e34a1de6fdc5ecc2e07/artifacts/dataframe/columns.txt\n",
      "3/6751278c979d4e34a1de6fdc5ecc2e07/artifacts/dataframe/users_churn.csv\n",
      "3/6751278c979d4e34a1de6fdc5ecc2e07/artifacts/model/MLmodel\n",
      "3/6751278c979d4e34a1de6fdc5ecc2e07/artifacts/model/code/train.py\n",
      "3/6751278c979d4e34a1de6fdc5ecc2e07/artifacts/model/conda.yaml\n",
      "3/6751278c979d4e34a1de6fdc5ecc2e07/artifacts/model/input_example.json\n",
      "3/6751278c979d4e34a1de6fdc5ecc2e07/artifacts/model/model.pkl\n",
      "3/6751278c979d4e34a1de6fdc5ecc2e07/artifacts/model/python_env.yaml\n",
      "3/6751278c979d4e34a1de6fdc5ecc2e07/artifacts/model/requirements.txt\n",
      "3/886e2013ca014c7c8214fb397666870e/artifacts/dataframe/columns.txt\n",
      "3/886e2013ca014c7c8214fb397666870e/artifacts/dataframe/users_churn.csv\n",
      "3/8b4e4b9bebea45a68e2949d3701a7d00/artifacts/sbs.csv\n",
      "3/8b4e4b9bebea45a68e2949d3701a7d00/artifacts/sbs.png\n",
      "3/8b4e4b9bebea45a68e2949d3701a7d00/artifacts/sfs.csv\n",
      "3/8b4e4b9bebea45a68e2949d3701a7d00/artifacts/sfs.png\n",
      "3/9cb85e8c2dfb4a3da0535314e296e567/artifacts/dataframe/columns.txt\n",
      "3/9cb85e8c2dfb4a3da0535314e296e567/artifacts/dataframe/users_churn.csv\n",
      "3/a68a7b28b9ec4c77946e97ae0537d659/artifacts/dataframe/columns.txt\n",
      "3/a68a7b28b9ec4c77946e97ae0537d659/artifacts/dataframe/users_churn.csv\n",
      "3/a68a7b28b9ec4c77946e97ae0537d659/artifacts/model/MLmodel\n",
      "3/a68a7b28b9ec4c77946e97ae0537d659/artifacts/model/code/train.py\n",
      "3/a68a7b28b9ec4c77946e97ae0537d659/artifacts/model/conda.yaml\n",
      "3/a68a7b28b9ec4c77946e97ae0537d659/artifacts/model/input_example.json\n",
      "3/a68a7b28b9ec4c77946e97ae0537d659/artifacts/model/model.pkl\n",
      "3/a68a7b28b9ec4c77946e97ae0537d659/artifacts/model/python_env.yaml\n",
      "3/a68a7b28b9ec4c77946e97ae0537d659/artifacts/model/requirements.txt\n",
      "3/c1c53efb12984deab78740a3d0c8084f/artifacts/dataframe/columns.txt\n",
      "3/c1c53efb12984deab78740a3d0c8084f/artifacts/dataframe/users_churn.csv\n",
      "3/c1c53efb12984deab78740a3d0c8084f/artifacts/model/MLmodel\n",
      "3/c1c53efb12984deab78740a3d0c8084f/artifacts/model/code/train.py\n",
      "3/c1c53efb12984deab78740a3d0c8084f/artifacts/model/conda.yaml\n",
      "3/c1c53efb12984deab78740a3d0c8084f/artifacts/model/input_example.json\n",
      "3/c1c53efb12984deab78740a3d0c8084f/artifacts/model/model.pkl\n",
      "3/c1c53efb12984deab78740a3d0c8084f/artifacts/model/python_env.yaml\n",
      "3/c1c53efb12984deab78740a3d0c8084f/artifacts/model/requirements.txt\n",
      "3/cb39ab2a5fb848139be890f159c82f5d/artifacts/dataframe/clean_users_churn.csv\n",
      "3/cb39ab2a5fb848139be890f159c82f5d/artifacts/model/MLmodel\n",
      "3/cb39ab2a5fb848139be890f159c82f5d/artifacts/model/conda.yaml\n",
      "3/cb39ab2a5fb848139be890f159c82f5d/artifacts/model/model.pkl\n",
      "3/cb39ab2a5fb848139be890f159c82f5d/artifacts/model/python_env.yaml\n",
      "3/cb39ab2a5fb848139be890f159c82f5d/artifacts/model/requirements.txt\n",
      "3/d3051fde67fb4385998d97681fa7276d/artifacts/afc/MLmodel\n",
      "3/d3051fde67fb4385998d97681fa7276d/artifacts/afc/conda.yaml\n",
      "3/d3051fde67fb4385998d97681fa7276d/artifacts/afc/model.pkl\n",
      "3/d3051fde67fb4385998d97681fa7276d/artifacts/afc/python_env.yaml\n",
      "3/d3051fde67fb4385998d97681fa7276d/artifacts/afc/requirements.txt\n",
      "3/d6402fd2c459461d8e76458b339a054d/artifacts/dataframe/columns.txt\n",
      "3/d6402fd2c459461d8e76458b339a054d/artifacts/dataframe/users_churn.csv\n",
      "3/d74c9ca51824431392b68e3fec1c4f0c/artifacts/cat_features_1.png\n",
      "3/d74c9ca51824431392b68e3fec1c4f0c/artifacts/cat_features_2_binary_heatmap.png\n",
      "3/d74c9ca51824431392b68e3fec1c4f0c/artifacts/charges_by_date.png\n",
      "3/d74c9ca51824431392b68e3fec1c4f0c/artifacts/chargest_by_target_dist.png\n",
      "3/d74c9ca51824431392b68e3fec1c4f0c/artifacts/target_by_date.png\n",
      "3/d74c9ca51824431392b68e3fec1c4f0c/artifacts/target_count.png\n",
      "3/e22b1ab3402944da93c0f2368e11f187/artifacts/dataframe/users_churn.csv\n",
      "3/e22b1ab3402944da93c0f2368e11f187/artifacts/model/MLmodel\n",
      "3/e22b1ab3402944da93c0f2368e11f187/artifacts/model/conda.yaml\n",
      "3/e22b1ab3402944da93c0f2368e11f187/artifacts/model/model.pkl\n",
      "3/e22b1ab3402944da93c0f2368e11f187/artifacts/model/python_env.yaml\n",
      "3/e22b1ab3402944da93c0f2368e11f187/artifacts/model/requirements.txt\n",
      "3/e7f085084f7944ccbd92814a0ee24757/artifacts/dataframe/columns.txt\n",
      "3/e7f085084f7944ccbd92814a0ee24757/artifacts/dataframe/users_churn.csv\n",
      "3/e7f085084f7944ccbd92814a0ee24757/artifacts/model/MLmodel\n",
      "3/e7f085084f7944ccbd92814a0ee24757/artifacts/model/code/train.py\n",
      "3/e7f085084f7944ccbd92814a0ee24757/artifacts/model/conda.yaml\n",
      "3/e7f085084f7944ccbd92814a0ee24757/artifacts/model/input_example.json\n",
      "3/e7f085084f7944ccbd92814a0ee24757/artifacts/model/model.pkl\n",
      "3/e7f085084f7944ccbd92814a0ee24757/artifacts/model/python_env.yaml\n",
      "3/e7f085084f7944ccbd92814a0ee24757/artifacts/model/requirements.txt\n",
      "3/f2d4acf0d3814395b8758835a4ed3d63/artifacts/column_transformer/MLmodel\n",
      "3/f2d4acf0d3814395b8758835a4ed3d63/artifacts/column_transformer/conda.yaml\n",
      "3/f2d4acf0d3814395b8758835a4ed3d63/artifacts/column_transformer/model.pkl\n",
      "3/f2d4acf0d3814395b8758835a4ed3d63/artifacts/column_transformer/python_env.yaml\n",
      "3/f2d4acf0d3814395b8758835a4ed3d63/artifacts/column_transformer/requirements.txt\n",
      "3/f7803153cd8941ef89298ce5fd79302d/artifacts/dataframe/columns.txt\n",
      "3/f7803153cd8941ef89298ce5fd79302d/artifacts/dataframe/users_churn.csv\n",
      "6/0c092910b69347af969f59585539c21e/artifacts/dataframe/clean_users_churn.csv\n",
      "6/0c092910b69347af969f59585539c21e/artifacts/model/MLmodel\n",
      "6/0c092910b69347af969f59585539c21e/artifacts/model/conda.yaml\n",
      "6/0c092910b69347af969f59585539c21e/artifacts/model/model.pkl\n",
      "6/0c092910b69347af969f59585539c21e/artifacts/model/python_env.yaml\n",
      "6/0c092910b69347af969f59585539c21e/artifacts/model/requirements.txt\n",
      "6/6cdb98fb989c4724a62a8a6cb43a96b2/artifacts/dataframe/clean_users_churn.csv\n",
      "6/6cdb98fb989c4724a62a8a6cb43a96b2/artifacts/model/MLmodel\n",
      "6/6cdb98fb989c4724a62a8a6cb43a96b2/artifacts/model/conda.yaml\n",
      "6/6cdb98fb989c4724a62a8a6cb43a96b2/artifacts/model/model.pkl\n",
      "6/6cdb98fb989c4724a62a8a6cb43a96b2/artifacts/model/python_env.yaml\n",
      "6/6cdb98fb989c4724a62a8a6cb43a96b2/artifacts/model/requirements.txt\n",
      "8/05b20216c3a24155b03c31740534e46c/artifacts/dataframe/clean_users_churn.csv\n",
      "8/05b20216c3a24155b03c31740534e46c/artifacts/model/MLmodel\n",
      "8/05b20216c3a24155b03c31740534e46c/artifacts/model/conda.yaml\n",
      "8/05b20216c3a24155b03c31740534e46c/artifacts/model/model.pkl\n",
      "8/05b20216c3a24155b03c31740534e46c/artifacts/model/python_env.yaml\n",
      "8/05b20216c3a24155b03c31740534e46c/artifacts/model/requirements.txt\n",
      "8/158e23945c92467382858857d2ab0ccc/artifacts/cv/MLmodel\n",
      "8/158e23945c92467382858857d2ab0ccc/artifacts/cv/conda.yaml\n",
      "8/158e23945c92467382858857d2ab0ccc/artifacts/cv/model.pkl\n",
      "8/158e23945c92467382858857d2ab0ccc/artifacts/cv/python_env.yaml\n",
      "8/158e23945c92467382858857d2ab0ccc/artifacts/cv/requirements.txt\n",
      "8/158e23945c92467382858857d2ab0ccc/artifacts/models/MLmodel\n",
      "8/158e23945c92467382858857d2ab0ccc/artifacts/models/conda.yaml\n",
      "8/158e23945c92467382858857d2ab0ccc/artifacts/models/input_example.json\n",
      "8/158e23945c92467382858857d2ab0ccc/artifacts/models/model.cb\n",
      "8/158e23945c92467382858857d2ab0ccc/artifacts/models/python_env.yaml\n",
      "8/158e23945c92467382858857d2ab0ccc/artifacts/models/requirements.txt\n",
      "8/45d45454e66c43f8924763c6e0c8a8cf/artifacts/cv/MLmodel\n",
      "8/45d45454e66c43f8924763c6e0c8a8cf/artifacts/cv/conda.yaml\n",
      "8/45d45454e66c43f8924763c6e0c8a8cf/artifacts/cv/model.pkl\n",
      "8/45d45454e66c43f8924763c6e0c8a8cf/artifacts/cv/python_env.yaml\n",
      "8/45d45454e66c43f8924763c6e0c8a8cf/artifacts/cv/requirements.txt\n",
      "8/45d45454e66c43f8924763c6e0c8a8cf/artifacts/models/MLmodel\n",
      "8/45d45454e66c43f8924763c6e0c8a8cf/artifacts/models/conda.yaml\n",
      "8/45d45454e66c43f8924763c6e0c8a8cf/artifacts/models/input_example.json\n",
      "8/45d45454e66c43f8924763c6e0c8a8cf/artifacts/models/model.cb\n",
      "8/45d45454e66c43f8924763c6e0c8a8cf/artifacts/models/python_env.yaml\n",
      "8/45d45454e66c43f8924763c6e0c8a8cf/artifacts/models/requirements.txt\n",
      "8/fcc53539d83e41b9b6388ccf8c72f29d/artifacts/cv/MLmodel\n",
      "8/fcc53539d83e41b9b6388ccf8c72f29d/artifacts/cv/conda.yaml\n",
      "8/fcc53539d83e41b9b6388ccf8c72f29d/artifacts/cv/model.pkl\n",
      "8/fcc53539d83e41b9b6388ccf8c72f29d/artifacts/cv/python_env.yaml\n",
      "8/fcc53539d83e41b9b6388ccf8c72f29d/artifacts/cv/requirements.txt\n",
      "9/065240733af84788b178a14ef694f08a/artifacts/cv/MLmodel\n",
      "9/065240733af84788b178a14ef694f08a/artifacts/cv/conda.yaml\n",
      "9/065240733af84788b178a14ef694f08a/artifacts/cv/model.pkl\n",
      "9/065240733af84788b178a14ef694f08a/artifacts/cv/python_env.yaml\n",
      "9/065240733af84788b178a14ef694f08a/artifacts/cv/requirements.txt\n",
      "9/a7177949f25a4c498188dd8ab51722f6/artifacts/study/MLmodel\n",
      "9/a7177949f25a4c498188dd8ab51722f6/artifacts/study/conda.yaml\n",
      "9/a7177949f25a4c498188dd8ab51722f6/artifacts/study/model.pkl\n",
      "9/a7177949f25a4c498188dd8ab51722f6/artifacts/study/python_env.yaml\n",
      "9/a7177949f25a4c498188dd8ab51722f6/artifacts/study/requirements.txt\n",
      "cv_results/cv_res.json\n",
      "data/cleaned_flats_data.csv\n",
      "data/initial_data.csv\n",
      "models/fitted_model.pkl\n",
      "recsys/data/als_recommendations.csv\n",
      "recsys/data/events.parquet\n",
      "recsys/data/items.parquet\n"
     ]
    }
   ],
   "source": [
    "import boto3\n",
    "import os\n",
    "from dotenv import load_dotenv\n",
    "load_dotenv()\n",
    "\n",
    "def get_session_student():\n",
    "    session = boto3.session.Session()\n",
    "    return session.client(\n",
    "        service_name='s3',\n",
    "        endpoint_url='https://storage.yandexcloud.net',\n",
    "        aws_access_key_id=os.environ.get('AWS_ACCESS_KEY_ID_STUDENT'),\n",
    "        aws_secret_access_key=os.environ.get('AWS_SECRET_ACCESS_KEY_STUDENT')\n",
    "    )\n",
    " \n",
    "s3 = get_session_student()\n",
    "bucket_name = os.environ.get('S3_BUCKET_NAME')\n",
    " \n",
    "if s3.list_objects(Bucket=bucket_name).get('Contents'):\n",
    "    for key in s3.list_objects(Bucket=bucket_name)['Contents']:\n",
    "        print(key['Key'])\n",
    "\n",
    "\n",
    "# s3.delete_object(Bucket='s3-student-mle-20240625-3348db98ef', Key='data/initial_data.csv')"
   ]
  },
  {
   "cell_type": "code",
   "execution_count": 5,
   "id": "ddd076cf",
   "metadata": {},
   "outputs": [],
   "source": [
    "import io\n",
    "import csv\n",
    "\n",
    "def load_csv_from_s3(bucket_name, key_name, s3_client):\n",
    "    \"\"\"\n",
    "    Load a CSV file from S3 into memory.\n",
    "    Args:\n",
    "        bucket_name (str): The name of the S3 bucket.\n",
    "        key_name (str): The object key in S3.\n",
    "        s3_client: Boto3 S3 client.\n",
    "    Returns:\n",
    "        list: A list of rows from the CSV file.\n",
    "    \"\"\"\n",
    "    # Create a buffer\n",
    "    csv_buffer = io.BytesIO()\n",
    "    \n",
    "    # Download the file into the buffer\n",
    "    s3_client.download_fileobj(bucket_name, key_name, csv_buffer)\n",
    "    \n",
    "    # Reset the buffer's position to the start\n",
    "    csv_buffer.seek(0)\n",
    "    \n",
    "    # Read the CSV from the buffer\n",
    "    csv_reader = csv.reader(io.TextIOWrapper(csv_buffer, encoding='utf-8'))\n",
    "    rows = list(csv_reader)  # Convert to a list of rows\n",
    "    return rows\n",
    "\n",
    "# Call the function to load the CSV\n",
    "als_recommendations = load_csv_from_s3(\n",
    "    bucket_name=bucket_name,\n",
    "    key_name='recsys/data/als_recommendations.csv',\n",
    "    s3_client=s3\n",
    ")\n"
   ]
  },
  {
   "cell_type": "code",
   "execution_count": 12,
   "id": "d6d784ff",
   "metadata": {},
   "outputs": [
    {
     "name": "stdout",
     "output_type": "stream",
     "text": [
      "['user_id', 'item_ids', 'scores']\n",
      "['0', '275375,265629,381971,339789,282821,334138,347129,273369,217691,341440,280965,244600,221431,270458,308161,303527,296630,357305,342922,295936,307689,330464,339516,330401,384646,281950,223694,395826,287405,150675,307117,372756,384240,346372,196484,359454,353182,361435,338808,368654,380690,297129,276615,278750,385459,146858,237991,289481,244930,308801', '0.024032095,0.021947345,0.021340216,0.02116209,0.018825246,0.018749105,0.018598147,0.0184359,0.017945394,0.017935317,0.01771035,0.017701238,0.017419694,0.017080275,0.017061008,0.017039072,0.016647628,0.016442424,0.016253436,0.016218517,0.016213216,0.01605447,0.016006913,0.015540657,0.0155136045,0.015504968,0.014964655,0.014931646,0.014825653,0.014800899,0.0147728585,0.01460564,0.014505247,0.014467254,0.014449484,0.014408672,0.014329691,0.014276411,0.014205804,0.014149512,0.014119548,0.014108205,0.013888743,0.013869556,0.013830721,0.013405381,0.013338411,0.013331823,0.013264987,0.013171654']\n",
      "['1', '865604,836683,829320,888212,863034,902660,539360,870822,876846,463242,662419,576079,894016,889257,918708,876304,915729,853595,849895,539352,796777,769103,921438,832718,795379,855727,825152,906004,751876,795373,634046,852534,892055,886249,904055,573729,754538,834416,918425,709365,690843,533537,507747,830135,450921,726343,686927,513774,850748,592465', '0.05772479,0.0536853,0.05244249,0.052053016,0.052032024,0.051918954,0.049297128,0.048838478,0.04702685,0.04675637,0.045459114,0.044558704,0.043124042,0.041302238,0.037069798,0.03616448,0.03607143,0.035785984,0.03512767,0.034861956,0.034837987,0.03478408,0.034752347,0.034640756,0.03462478,0.03459022,0.034581993,0.034065027,0.034028888,0.033951998,0.033671193,0.033196002,0.033000372,0.03280407,0.032405853,0.03210753,0.032016803,0.031980295,0.031667784,0.03152178,0.03131598,0.031171104,0.031000827,0.030801494,0.030775854,0.030370891,0.030325558,0.029882738,0.029724937,0.02969549']\n"
     ]
    }
   ],
   "source": [
    "for i in range(3):\n",
    "    print(als_recommendations[i])"
   ]
  },
  {
   "cell_type": "markdown",
   "id": "bf80fbc5-b660-4fac-8fbb-a5cae77313b3",
   "metadata": {},
   "source": [
    "# === ЭТАП 1 ==="
   ]
  },
  {
   "cell_type": "markdown",
   "id": "5263a8b3-fe99-4204-8a2e-105182792c11",
   "metadata": {},
   "source": [
    "# Загрузка первичных данных"
   ]
  },
  {
   "cell_type": "markdown",
   "id": "1b54a6a5-1656-4e3c-99d1-49dc39451d33",
   "metadata": {},
   "source": [
    "Загружаем первичные данные из файлов:\n",
    "- tracks.parquet\n",
    "- catalog_names.parquet\n",
    "- interactions.parquet"
   ]
  },
  {
   "cell_type": "code",
   "execution_count": 3,
   "id": "5d4b8961-3f35-4e58-9d6b-3e2dbd2c4224",
   "metadata": {},
   "outputs": [],
   "source": [
    "tracks = pd.read_parquet(\"data/tracks.parquet\")\n",
    "catalog = pd.read_parquet(\"data/catalog_names.parquet\")\n",
    "interactions = pd.read_parquet(\"data/interactions.parquet\")"
   ]
  },
  {
   "cell_type": "markdown",
   "id": "e8f2a1f7-a05f-4f39-af90-5f4018aa6f9d",
   "metadata": {},
   "source": [
    "# Обзор данных"
   ]
  },
  {
   "cell_type": "markdown",
   "id": "46a85307-896c-4fac-9fcf-f0dffa90889e",
   "metadata": {},
   "source": [
    "Проверяем данные, есть ли с ними явные проблемы."
   ]
  },
  {
   "cell_type": "code",
   "execution_count": 4,
   "id": "c9f8f17e-9b56-4f5a-a463-f694a993effb",
   "metadata": {},
   "outputs": [
    {
     "name": "stdout",
     "output_type": "stream",
     "text": [
      "<class 'pandas.core.frame.DataFrame'>\n",
      "RangeIndex: 1000000 entries, 0 to 999999\n",
      "Data columns (total 4 columns):\n",
      " #   Column    Non-Null Count    Dtype \n",
      "---  ------    --------------    ----- \n",
      " 0   track_id  1000000 non-null  int64 \n",
      " 1   albums    1000000 non-null  object\n",
      " 2   artists   1000000 non-null  object\n",
      " 3   genres    1000000 non-null  object\n",
      "dtypes: int64(1), object(3)\n",
      "memory usage: 30.5+ MB\n"
     ]
    },
    {
     "data": {
      "text/html": [
       "<div>\n",
       "<style scoped>\n",
       "    .dataframe tbody tr th:only-of-type {\n",
       "        vertical-align: middle;\n",
       "    }\n",
       "\n",
       "    .dataframe tbody tr th {\n",
       "        vertical-align: top;\n",
       "    }\n",
       "\n",
       "    .dataframe thead th {\n",
       "        text-align: right;\n",
       "    }\n",
       "</style>\n",
       "<table border=\"1\" class=\"dataframe\">\n",
       "  <thead>\n",
       "    <tr style=\"text-align: right;\">\n",
       "      <th></th>\n",
       "      <th>track_id</th>\n",
       "      <th>albums</th>\n",
       "      <th>artists</th>\n",
       "      <th>genres</th>\n",
       "    </tr>\n",
       "  </thead>\n",
       "  <tbody>\n",
       "    <tr>\n",
       "      <th>999995</th>\n",
       "      <td>101478482</td>\n",
       "      <td>[21399811]</td>\n",
       "      <td>[5540395]</td>\n",
       "      <td>[3, 75]</td>\n",
       "    </tr>\n",
       "    <tr>\n",
       "      <th>999996</th>\n",
       "      <td>101490148</td>\n",
       "      <td>[21403052]</td>\n",
       "      <td>[9078726]</td>\n",
       "      <td>[11, 20]</td>\n",
       "    </tr>\n",
       "    <tr>\n",
       "      <th>999997</th>\n",
       "      <td>101493057</td>\n",
       "      <td>[21403883]</td>\n",
       "      <td>[11865715]</td>\n",
       "      <td>[44, 75]</td>\n",
       "    </tr>\n",
       "    <tr>\n",
       "      <th>999998</th>\n",
       "      <td>101495927</td>\n",
       "      <td>[21404975]</td>\n",
       "      <td>[4462686]</td>\n",
       "      <td>[3, 75]</td>\n",
       "    </tr>\n",
       "    <tr>\n",
       "      <th>999999</th>\n",
       "      <td>101521819</td>\n",
       "      <td>[21414638]</td>\n",
       "      <td>[5056591]</td>\n",
       "      <td>[3, 75]</td>\n",
       "    </tr>\n",
       "  </tbody>\n",
       "</table>\n",
       "</div>"
      ],
      "text/plain": [
       "         track_id      albums     artists    genres\n",
       "999995  101478482  [21399811]   [5540395]   [3, 75]\n",
       "999996  101490148  [21403052]   [9078726]  [11, 20]\n",
       "999997  101493057  [21403883]  [11865715]  [44, 75]\n",
       "999998  101495927  [21404975]   [4462686]   [3, 75]\n",
       "999999  101521819  [21414638]   [5056591]   [3, 75]"
      ]
     },
     "execution_count": 4,
     "metadata": {},
     "output_type": "execute_result"
    }
   ],
   "source": [
    "tracks.info()\n",
    "tracks.tail()"
   ]
  },
  {
   "cell_type": "code",
   "execution_count": 5,
   "id": "efd2e2eb-3bec-4ce1-87ac-232bab8bc0d0",
   "metadata": {},
   "outputs": [
    {
     "name": "stdout",
     "output_type": "stream",
     "text": [
      "<class 'pandas.core.frame.DataFrame'>\n",
      "RangeIndex: 1812471 entries, 0 to 1812470\n",
      "Data columns (total 3 columns):\n",
      " #   Column  Dtype \n",
      "---  ------  ----- \n",
      " 0   id      int64 \n",
      " 1   type    object\n",
      " 2   name    object\n",
      "dtypes: int64(1), object(2)\n",
      "memory usage: 41.5+ MB\n"
     ]
    },
    {
     "data": {
      "text/html": [
       "<div>\n",
       "<style scoped>\n",
       "    .dataframe tbody tr th:only-of-type {\n",
       "        vertical-align: middle;\n",
       "    }\n",
       "\n",
       "    .dataframe tbody tr th {\n",
       "        vertical-align: top;\n",
       "    }\n",
       "\n",
       "    .dataframe thead th {\n",
       "        text-align: right;\n",
       "    }\n",
       "</style>\n",
       "<table border=\"1\" class=\"dataframe\">\n",
       "  <thead>\n",
       "    <tr style=\"text-align: right;\">\n",
       "      <th></th>\n",
       "      <th>id</th>\n",
       "      <th>type</th>\n",
       "      <th>name</th>\n",
       "    </tr>\n",
       "  </thead>\n",
       "  <tbody>\n",
       "    <tr>\n",
       "      <th>1812466</th>\n",
       "      <td>101478482</td>\n",
       "      <td>track</td>\n",
       "      <td>На лицо</td>\n",
       "    </tr>\n",
       "    <tr>\n",
       "      <th>1812467</th>\n",
       "      <td>101490148</td>\n",
       "      <td>track</td>\n",
       "      <td>Без капли мысли</td>\n",
       "    </tr>\n",
       "    <tr>\n",
       "      <th>1812468</th>\n",
       "      <td>101493057</td>\n",
       "      <td>track</td>\n",
       "      <td>SKITTLES</td>\n",
       "    </tr>\n",
       "    <tr>\n",
       "      <th>1812469</th>\n",
       "      <td>101495927</td>\n",
       "      <td>track</td>\n",
       "      <td>Москва</td>\n",
       "    </tr>\n",
       "    <tr>\n",
       "      <th>1812470</th>\n",
       "      <td>101521819</td>\n",
       "      <td>track</td>\n",
       "      <td>Вокзал</td>\n",
       "    </tr>\n",
       "  </tbody>\n",
       "</table>\n",
       "</div>"
      ],
      "text/plain": [
       "                id   type             name\n",
       "1812466  101478482  track          На лицо\n",
       "1812467  101490148  track  Без капли мысли\n",
       "1812468  101493057  track         SKITTLES\n",
       "1812469  101495927  track           Москва\n",
       "1812470  101521819  track           Вокзал"
      ]
     },
     "execution_count": 5,
     "metadata": {},
     "output_type": "execute_result"
    }
   ],
   "source": [
    "catalog.info()\n",
    "catalog.tail()"
   ]
  },
  {
   "cell_type": "code",
   "execution_count": 6,
   "id": "305f126f",
   "metadata": {},
   "outputs": [
    {
     "name": "stdout",
     "output_type": "stream",
     "text": [
      "<class 'pandas.core.frame.DataFrame'>\n",
      "Index: 222629898 entries, 0 to 291\n",
      "Data columns (total 4 columns):\n",
      " #   Column      Dtype         \n",
      "---  ------      -----         \n",
      " 0   user_id     int32         \n",
      " 1   track_id    int32         \n",
      " 2   track_seq   int16         \n",
      " 3   started_at  datetime64[ns]\n",
      "dtypes: datetime64[ns](1), int16(1), int32(2)\n",
      "memory usage: 5.4 GB\n"
     ]
    },
    {
     "data": {
      "text/html": [
       "<div>\n",
       "<style scoped>\n",
       "    .dataframe tbody tr th:only-of-type {\n",
       "        vertical-align: middle;\n",
       "    }\n",
       "\n",
       "    .dataframe tbody tr th {\n",
       "        vertical-align: top;\n",
       "    }\n",
       "\n",
       "    .dataframe thead th {\n",
       "        text-align: right;\n",
       "    }\n",
       "</style>\n",
       "<table border=\"1\" class=\"dataframe\">\n",
       "  <thead>\n",
       "    <tr style=\"text-align: right;\">\n",
       "      <th></th>\n",
       "      <th>user_id</th>\n",
       "      <th>track_id</th>\n",
       "      <th>track_seq</th>\n",
       "      <th>started_at</th>\n",
       "    </tr>\n",
       "  </thead>\n",
       "  <tbody>\n",
       "    <tr>\n",
       "      <th>287</th>\n",
       "      <td>1374582</td>\n",
       "      <td>95514767</td>\n",
       "      <td>288</td>\n",
       "      <td>2022-12-29</td>\n",
       "    </tr>\n",
       "    <tr>\n",
       "      <th>288</th>\n",
       "      <td>1374582</td>\n",
       "      <td>97220301</td>\n",
       "      <td>289</td>\n",
       "      <td>2022-12-29</td>\n",
       "    </tr>\n",
       "    <tr>\n",
       "      <th>289</th>\n",
       "      <td>1374582</td>\n",
       "      <td>97241171</td>\n",
       "      <td>290</td>\n",
       "      <td>2022-12-29</td>\n",
       "    </tr>\n",
       "    <tr>\n",
       "      <th>290</th>\n",
       "      <td>1374582</td>\n",
       "      <td>98542641</td>\n",
       "      <td>291</td>\n",
       "      <td>2022-12-29</td>\n",
       "    </tr>\n",
       "    <tr>\n",
       "      <th>291</th>\n",
       "      <td>1374582</td>\n",
       "      <td>100736375</td>\n",
       "      <td>292</td>\n",
       "      <td>2022-12-30</td>\n",
       "    </tr>\n",
       "  </tbody>\n",
       "</table>\n",
       "</div>"
      ],
      "text/plain": [
       "     user_id   track_id  track_seq started_at\n",
       "287  1374582   95514767        288 2022-12-29\n",
       "288  1374582   97220301        289 2022-12-29\n",
       "289  1374582   97241171        290 2022-12-29\n",
       "290  1374582   98542641        291 2022-12-29\n",
       "291  1374582  100736375        292 2022-12-30"
      ]
     },
     "execution_count": 6,
     "metadata": {},
     "output_type": "execute_result"
    }
   ],
   "source": [
    "interactions.info()\n",
    "interactions.tail()"
   ]
  },
  {
   "cell_type": "code",
   "execution_count": 7,
   "id": "8b2ce6ef",
   "metadata": {},
   "outputs": [],
   "source": [
    "# Приведем тип user_id и track_id к int64\n",
    "\n",
    "interactions.reset_index(drop=True, inplace=True )\n",
    "interactions['user_id'] = interactions['user_id'].astype('int64')\n",
    "interactions['track_id'] = interactions['track_id'].astype('int64')"
   ]
  },
  {
   "cell_type": "code",
   "execution_count": 8,
   "id": "96203e5e",
   "metadata": {},
   "outputs": [
    {
     "data": {
      "text/html": [
       "<div>\n",
       "<style scoped>\n",
       "    .dataframe tbody tr th:only-of-type {\n",
       "        vertical-align: middle;\n",
       "    }\n",
       "\n",
       "    .dataframe tbody tr th {\n",
       "        vertical-align: top;\n",
       "    }\n",
       "\n",
       "    .dataframe thead th {\n",
       "        text-align: right;\n",
       "    }\n",
       "</style>\n",
       "<table border=\"1\" class=\"dataframe\">\n",
       "  <thead>\n",
       "    <tr style=\"text-align: right;\">\n",
       "      <th></th>\n",
       "      <th>track_id</th>\n",
       "      <th>albums</th>\n",
       "      <th>artists</th>\n",
       "      <th>genres</th>\n",
       "    </tr>\n",
       "  </thead>\n",
       "  <tbody>\n",
       "  </tbody>\n",
       "</table>\n",
       "</div>"
      ],
      "text/plain": [
       "Empty DataFrame\n",
       "Columns: [track_id, albums, artists, genres]\n",
       "Index: []"
      ]
     },
     "execution_count": 8,
     "metadata": {},
     "output_type": "execute_result"
    }
   ],
   "source": [
    "# Проверим наличие в треках неизвестных идентификаторов альбомов\n",
    "\n",
    "all_album_ids = set(catalog.loc[catalog['type'] == 'album', 'id'])\n",
    "potentially_unidentified_albums = tracks[~tracks['albums'].apply(set).apply(lambda x: x.issubset(all_album_ids))]\n",
    "potentially_unidentified_albums"
   ]
  },
  {
   "cell_type": "code",
   "execution_count": 9,
   "id": "a6041644",
   "metadata": {},
   "outputs": [
    {
     "data": {
      "text/html": [
       "<div>\n",
       "<style scoped>\n",
       "    .dataframe tbody tr th:only-of-type {\n",
       "        vertical-align: middle;\n",
       "    }\n",
       "\n",
       "    .dataframe tbody tr th {\n",
       "        vertical-align: top;\n",
       "    }\n",
       "\n",
       "    .dataframe thead th {\n",
       "        text-align: right;\n",
       "    }\n",
       "</style>\n",
       "<table border=\"1\" class=\"dataframe\">\n",
       "  <thead>\n",
       "    <tr style=\"text-align: right;\">\n",
       "      <th></th>\n",
       "      <th>track_id</th>\n",
       "      <th>albums</th>\n",
       "      <th>artists</th>\n",
       "      <th>genres</th>\n",
       "    </tr>\n",
       "  </thead>\n",
       "  <tbody>\n",
       "  </tbody>\n",
       "</table>\n",
       "</div>"
      ],
      "text/plain": [
       "Empty DataFrame\n",
       "Columns: [track_id, albums, artists, genres]\n",
       "Index: []"
      ]
     },
     "execution_count": 9,
     "metadata": {},
     "output_type": "execute_result"
    }
   ],
   "source": [
    "# Проверим наличие в треках неизвестных идентификаторов исполнителей\n",
    "\n",
    "all_artist_ids = set(catalog.loc[catalog['type'] == 'artist', 'id'])\n",
    "potentially_unidentified_artists = tracks[~tracks['artists'].apply(set).apply(lambda x: x.issubset(all_artist_ids))]\n",
    "potentially_unidentified_artists"
   ]
  },
  {
   "cell_type": "code",
   "execution_count": 10,
   "id": "5ef59bb9",
   "metadata": {},
   "outputs": [],
   "source": [
    "# Проверим наличие в треках неизвестных идентификаторов жанров\n",
    "\n",
    "all_genres_ids = set(catalog.loc[catalog['type'] == 'genre', 'id'])\n",
    "exploded_tracks = tracks.explode('genres')\n",
    "unidentified_genres = exploded_tracks[~exploded_tracks['genres'].apply(lambda x: True if x in all_genres_ids else False)]"
   ]
  },
  {
   "cell_type": "code",
   "execution_count": 11,
   "id": "29352b1a",
   "metadata": {},
   "outputs": [],
   "source": [
    "genre_ids = list(unidentified_genres['genres'].dropna().unique())\n",
    "genre_types = ['genre' for i in range(len(genre_ids))]\n",
    "genre_names = ['other' for i in range(len(genre_ids))]\n",
    "\n",
    "added_genres = pd.DataFrame({'id':genre_ids,\n",
    "                             'type':genre_types,\n",
    "                             'name':genre_names})\n",
    "catalog = pd.concat([catalog, added_genres], ignore_index=True)"
   ]
  },
  {
   "cell_type": "markdown",
   "id": "318b573a-9e2d-4808-95db-60cfb8bbdb73",
   "metadata": {
    "editable": true,
    "slideshow": {
     "slide_type": ""
    },
    "tags": []
   },
   "source": [
    "# Выводы"
   ]
  },
  {
   "cell_type": "markdown",
   "id": "caa96e12-36a8-4401-8f11-98627a49ae9d",
   "metadata": {},
   "source": [
    "Приведём выводы по первому знакомству с данными:\n",
    "- есть ли с данными явные проблемы,\n",
    "- какие корректирующие действия (в целом) были предприняты."
   ]
  },
  {
   "cell_type": "code",
   "execution_count": 12,
   "id": "16da6b65",
   "metadata": {},
   "outputs": [],
   "source": [
    "# С данными явных проблем не замечено, пришлось лишь привести колонки id треков \n",
    "# и пользователей из таблицы interactions, а также домоплнить таблицу каталога 30ю \n",
    "# идентификаторами неизвестных жанров и отнести их к категории other."
   ]
  },
  {
   "cell_type": "markdown",
   "id": "7bc3296b-eba6-4333-a78d-b9304aa87e3d",
   "metadata": {},
   "source": [
    "# === ЭТАП 2 ==="
   ]
  },
  {
   "cell_type": "markdown",
   "id": "68e73960-fd38-4e15-8db0-9a25c35dfd25",
   "metadata": {},
   "source": [
    "# EDA"
   ]
  },
  {
   "cell_type": "markdown",
   "id": "a30e823e-8e0f-4a76-a02e-8d1ba8bf0f8a",
   "metadata": {},
   "source": [
    "Распределение количества прослушанных треков."
   ]
  },
  {
   "cell_type": "code",
   "execution_count": 13,
   "id": "9bf5eaba-35f7-4da7-be59-9ab4a34b2423",
   "metadata": {},
   "outputs": [
    {
     "data": {
      "image/png": "[encoded data removed]",
      "text/plain": [
       "<Figure size 640x480 with 1 Axes>"
      ]
     },
     "metadata": {
      "image/png": {
       "height": 428,
       "width": 547
      }
     },
     "output_type": "display_data"
    }
   ],
   "source": [
    "user_aggregate_plays = interactions.groupby('user_id')\\\n",
    "    .agg({'track_id': 'count'})\\\n",
    "        .rename(columns={'track_id': 'n_tracks'})\n",
    "user_aggregate_plays = user_aggregate_plays.sort_values(by='n_tracks',\n",
    "                                                        ascending=False).reset_index()\n",
    "user_aggregate_plays_under_50 = user_aggregate_plays[user_aggregate_plays['n_tracks'] < 50]['n_tracks'].reset_index(drop=True)\n",
    "plt.hist(user_aggregate_plays['n_tracks'], bins=100);"
   ]
  },
  {
   "cell_type": "code",
   "execution_count": 14,
   "id": "9ebc0a68",
   "metadata": {},
   "outputs": [
    {
     "data": {
      "text/plain": [
       "(0.0, 30.0)"
      ]
     },
     "execution_count": 14,
     "metadata": {},
     "output_type": "execute_result"
    },
    {
     "data": {
      "image/png": "[encoded data removed]",
      "text/plain": [
       "<Figure size 640x480 with 1 Axes>"
      ]
     },
     "metadata": {
      "image/png": {
       "height": 413,
       "width": 587
      }
     },
     "output_type": "display_data"
    }
   ],
   "source": [
    "plt.hist(user_aggregate_plays_under_50)\n",
    "plt.xlim(0, 30)"
   ]
  },
  {
   "cell_type": "markdown",
   "id": "d765519a-18dd-4d30-9e29-cc2d84cacd79",
   "metadata": {},
   "source": [
    "Наиболее популярные треки"
   ]
  },
  {
   "cell_type": "code",
   "execution_count": 15,
   "id": "aecaf630-fde0-4860-b84a-42c933a9606e",
   "metadata": {},
   "outputs": [
    {
     "data": {
      "image/png": "[encoded data removed]",
      "text/plain": [
       "<Figure size 640x480 with 1 Axes>"
      ]
     },
     "metadata": {
      "image/png": {
       "height": 413,
       "width": 578
      }
     },
     "output_type": "display_data"
    }
   ],
   "source": [
    "track_aggregate_plays = interactions.groupby('track_id')\\\n",
    "    .agg({'user_id': 'count'})\\\n",
    "        .rename(columns={'user_id': 'num_plays'})\n",
    "track_aggregate_plays = track_aggregate_plays.sort_values(by='num_plays', \n",
    "                                                          ascending=False).reset_index()\n",
    "track_aggregate_plays_under_50 = track_aggregate_plays[track_aggregate_plays['num_plays'] < 50]['num_plays'].reset_index(drop=True)\n",
    "plt.hist(track_aggregate_plays_under_50);\n",
    "# plt.xlim(0, 30)"
   ]
  },
  {
   "cell_type": "code",
   "execution_count": 16,
   "id": "39f7a5bd",
   "metadata": {},
   "outputs": [
    {
     "data": {
      "text/html": [
       "<div>\n",
       "<style scoped>\n",
       "    .dataframe tbody tr th:only-of-type {\n",
       "        vertical-align: middle;\n",
       "    }\n",
       "\n",
       "    .dataframe tbody tr th {\n",
       "        vertical-align: top;\n",
       "    }\n",
       "\n",
       "    .dataframe thead th {\n",
       "        text-align: right;\n",
       "    }\n",
       "</style>\n",
       "<table border=\"1\" class=\"dataframe\">\n",
       "  <thead>\n",
       "    <tr style=\"text-align: right;\">\n",
       "      <th></th>\n",
       "      <th>track_id</th>\n",
       "      <th>num_plays</th>\n",
       "      <th>id</th>\n",
       "      <th>name</th>\n",
       "    </tr>\n",
       "  </thead>\n",
       "  <tbody>\n",
       "    <tr>\n",
       "      <th>0</th>\n",
       "      <td>53404</td>\n",
       "      <td>111062</td>\n",
       "      <td>53404</td>\n",
       "      <td>Smells Like Teen Spirit</td>\n",
       "    </tr>\n",
       "    <tr>\n",
       "      <th>1</th>\n",
       "      <td>33311009</td>\n",
       "      <td>106921</td>\n",
       "      <td>33311009</td>\n",
       "      <td>Believer</td>\n",
       "    </tr>\n",
       "    <tr>\n",
       "      <th>2</th>\n",
       "      <td>178529</td>\n",
       "      <td>101924</td>\n",
       "      <td>178529</td>\n",
       "      <td>Numb</td>\n",
       "    </tr>\n",
       "    <tr>\n",
       "      <th>3</th>\n",
       "      <td>35505245</td>\n",
       "      <td>99490</td>\n",
       "      <td>35505245</td>\n",
       "      <td>I Got Love</td>\n",
       "    </tr>\n",
       "    <tr>\n",
       "      <th>4</th>\n",
       "      <td>65851540</td>\n",
       "      <td>86670</td>\n",
       "      <td>65851540</td>\n",
       "      <td>Юность</td>\n",
       "    </tr>\n",
       "    <tr>\n",
       "      <th>5</th>\n",
       "      <td>24692821</td>\n",
       "      <td>86246</td>\n",
       "      <td>24692821</td>\n",
       "      <td>Way Down We Go</td>\n",
       "    </tr>\n",
       "    <tr>\n",
       "      <th>6</th>\n",
       "      <td>32947997</td>\n",
       "      <td>85886</td>\n",
       "      <td>32947997</td>\n",
       "      <td>Shape of You</td>\n",
       "    </tr>\n",
       "    <tr>\n",
       "      <th>7</th>\n",
       "      <td>51241318</td>\n",
       "      <td>85244</td>\n",
       "      <td>51241318</td>\n",
       "      <td>In The End</td>\n",
       "    </tr>\n",
       "    <tr>\n",
       "      <th>8</th>\n",
       "      <td>795836</td>\n",
       "      <td>85042</td>\n",
       "      <td>795836</td>\n",
       "      <td>Shape Of My Heart</td>\n",
       "    </tr>\n",
       "    <tr>\n",
       "      <th>9</th>\n",
       "      <td>45499814</td>\n",
       "      <td>84748</td>\n",
       "      <td>45499814</td>\n",
       "      <td>Life</td>\n",
       "    </tr>\n",
       "  </tbody>\n",
       "</table>\n",
       "</div>"
      ],
      "text/plain": [
       "   track_id  num_plays        id                     name\n",
       "0     53404     111062     53404  Smells Like Teen Spirit\n",
       "1  33311009     106921  33311009                 Believer\n",
       "2    178529     101924    178529                     Numb\n",
       "3  35505245      99490  35505245               I Got Love\n",
       "4  65851540      86670  65851540                   Юность\n",
       "5  24692821      86246  24692821           Way Down We Go\n",
       "6  32947997      85886  32947997             Shape of You\n",
       "7  51241318      85244  51241318               In The End\n",
       "8    795836      85042    795836        Shape Of My Heart\n",
       "9  45499814      84748  45499814                     Life"
      ]
     },
     "execution_count": 16,
     "metadata": {},
     "output_type": "execute_result"
    }
   ],
   "source": [
    "pd.merge(track_aggregate_plays, \n",
    "         catalog[catalog['type'] == 'track'][['id', 'name']],\n",
    "         left_on='track_id',\n",
    "         right_on='id',\n",
    "         how='left').head(10)"
   ]
  },
  {
   "cell_type": "markdown",
   "id": "709eb244",
   "metadata": {},
   "source": [
    "Топ 5 треков от nirvana, imagine dragons, lin park и муджус"
   ]
  },
  {
   "cell_type": "markdown",
   "id": "3f0a0520",
   "metadata": {},
   "source": [
    "Наиболее популярные жанры"
   ]
  },
  {
   "cell_type": "code",
   "execution_count": 17,
   "id": "99b38157",
   "metadata": {},
   "outputs": [
    {
     "data": {
      "text/html": [
       "<div>\n",
       "<style scoped>\n",
       "    .dataframe tbody tr th:only-of-type {\n",
       "        vertical-align: middle;\n",
       "    }\n",
       "\n",
       "    .dataframe tbody tr th {\n",
       "        vertical-align: top;\n",
       "    }\n",
       "\n",
       "    .dataframe thead th {\n",
       "        text-align: right;\n",
       "    }\n",
       "</style>\n",
       "<table border=\"1\" class=\"dataframe\">\n",
       "  <thead>\n",
       "    <tr style=\"text-align: right;\">\n",
       "      <th></th>\n",
       "      <th>genres</th>\n",
       "      <th>num_plays</th>\n",
       "      <th>id</th>\n",
       "      <th>name</th>\n",
       "    </tr>\n",
       "  </thead>\n",
       "  <tbody>\n",
       "    <tr>\n",
       "      <th>0</th>\n",
       "      <td>11</td>\n",
       "      <td>55578312</td>\n",
       "      <td>11</td>\n",
       "      <td>pop</td>\n",
       "    </tr>\n",
       "    <tr>\n",
       "      <th>1</th>\n",
       "      <td>75</td>\n",
       "      <td>37799821</td>\n",
       "      <td>75</td>\n",
       "      <td>rap</td>\n",
       "    </tr>\n",
       "    <tr>\n",
       "      <th>2</th>\n",
       "      <td>102</td>\n",
       "      <td>31092013</td>\n",
       "      <td>102</td>\n",
       "      <td>allrock</td>\n",
       "    </tr>\n",
       "    <tr>\n",
       "      <th>3</th>\n",
       "      <td>20</td>\n",
       "      <td>26626241</td>\n",
       "      <td>20</td>\n",
       "      <td>ruspop</td>\n",
       "    </tr>\n",
       "    <tr>\n",
       "      <th>4</th>\n",
       "      <td>3</td>\n",
       "      <td>25303695</td>\n",
       "      <td>3</td>\n",
       "      <td>rusrap</td>\n",
       "    </tr>\n",
       "    <tr>\n",
       "      <th>5</th>\n",
       "      <td>68</td>\n",
       "      <td>20120981</td>\n",
       "      <td>68</td>\n",
       "      <td>electronics</td>\n",
       "    </tr>\n",
       "    <tr>\n",
       "      <th>6</th>\n",
       "      <td>16</td>\n",
       "      <td>16291557</td>\n",
       "      <td>16</td>\n",
       "      <td>dance</td>\n",
       "    </tr>\n",
       "    <tr>\n",
       "      <th>7</th>\n",
       "      <td>2</td>\n",
       "      <td>13166147</td>\n",
       "      <td>2</td>\n",
       "      <td>rusrock</td>\n",
       "    </tr>\n",
       "    <tr>\n",
       "      <th>8</th>\n",
       "      <td>14</td>\n",
       "      <td>12772644</td>\n",
       "      <td>14</td>\n",
       "      <td>rock</td>\n",
       "    </tr>\n",
       "    <tr>\n",
       "      <th>9</th>\n",
       "      <td>47</td>\n",
       "      <td>12437375</td>\n",
       "      <td>47</td>\n",
       "      <td>metal</td>\n",
       "    </tr>\n",
       "  </tbody>\n",
       "</table>\n",
       "</div>"
      ],
      "text/plain": [
       "   genres  num_plays   id         name\n",
       "0      11   55578312   11          pop\n",
       "1      75   37799821   75          rap\n",
       "2     102   31092013  102      allrock\n",
       "3      20   26626241   20       ruspop\n",
       "4       3   25303695    3       rusrap\n",
       "5      68   20120981   68  electronics\n",
       "6      16   16291557   16        dance\n",
       "7       2   13166147    2      rusrock\n",
       "8      14   12772644   14         rock\n",
       "9      47   12437375   47        metal"
      ]
     },
     "execution_count": 17,
     "metadata": {},
     "output_type": "execute_result"
    }
   ],
   "source": [
    "enriched_track_plays=  pd.merge(track_aggregate_plays, \n",
    "                                tracks[['track_id', 'genres']], \n",
    "                                left_on='track_id',\n",
    "                                right_on='track_id', \n",
    "                                how='left')\n",
    "\n",
    "enriched_track_plays_exploded = enriched_track_plays.explode('genres')\n",
    "genres_agg = enriched_track_plays_exploded.groupby('genres')\\\n",
    "    .agg({'num_plays':'sum'})\\\n",
    "        .sort_values('num_plays', ascending=False)\\\n",
    "            .reset_index()\n",
    "\n",
    "pd.merge(genres_agg,\n",
    "         catalog[catalog['type'] == 'genre'][['id', 'name']],\n",
    "         left_on='genres',\n",
    "         right_on='id').head(10)"
   ]
  },
  {
   "cell_type": "markdown",
   "id": "91ac5ee7",
   "metadata": {},
   "source": [
    "Видим, что самые популярные жанры - поп, рэп, рок, русские поп и рэп"
   ]
  },
  {
   "cell_type": "markdown",
   "id": "15254e66-e80e-473b-ba24-abebea5ccac7",
   "metadata": {},
   "source": [
    "Треки, которые никто не прослушал"
   ]
  },
  {
   "cell_type": "code",
   "execution_count": 18,
   "id": "50bc50c6-2d83-4c7e-97fa-3e7627978438",
   "metadata": {},
   "outputs": [
    {
     "data": {
      "text/plain": [
       "set()"
      ]
     },
     "execution_count": 18,
     "metadata": {},
     "output_type": "execute_result"
    }
   ],
   "source": [
    "set(tracks['track_id']) - set(enriched_track_plays['track_id'])"
   ]
  },
  {
   "cell_type": "code",
   "execution_count": 19,
   "id": "1364b2ef",
   "metadata": {},
   "outputs": [
    {
     "data": {
      "text/html": [
       "<div>\n",
       "<style scoped>\n",
       "    .dataframe tbody tr th:only-of-type {\n",
       "        vertical-align: middle;\n",
       "    }\n",
       "\n",
       "    .dataframe tbody tr th {\n",
       "        vertical-align: top;\n",
       "    }\n",
       "\n",
       "    .dataframe thead th {\n",
       "        text-align: right;\n",
       "    }\n",
       "</style>\n",
       "<table border=\"1\" class=\"dataframe\">\n",
       "  <thead>\n",
       "    <tr style=\"text-align: right;\">\n",
       "      <th></th>\n",
       "      <th>track_id</th>\n",
       "      <th>num_plays</th>\n",
       "      <th>genres</th>\n",
       "    </tr>\n",
       "  </thead>\n",
       "  <tbody>\n",
       "    <tr>\n",
       "      <th>946210</th>\n",
       "      <td>26</td>\n",
       "      <td>5</td>\n",
       "      <td>[11, 21]</td>\n",
       "    </tr>\n",
       "    <tr>\n",
       "      <th>946211</th>\n",
       "      <td>101223525</td>\n",
       "      <td>5</td>\n",
       "      <td>[44, 75]</td>\n",
       "    </tr>\n",
       "    <tr>\n",
       "      <th>946212</th>\n",
       "      <td>101223837</td>\n",
       "      <td>5</td>\n",
       "      <td>[70]</td>\n",
       "    </tr>\n",
       "    <tr>\n",
       "      <th>946213</th>\n",
       "      <td>101224609</td>\n",
       "      <td>5</td>\n",
       "      <td>[11, 20]</td>\n",
       "    </tr>\n",
       "    <tr>\n",
       "      <th>946214</th>\n",
       "      <td>101227724</td>\n",
       "      <td>5</td>\n",
       "      <td>[16]</td>\n",
       "    </tr>\n",
       "    <tr>\n",
       "      <th>...</th>\n",
       "      <td>...</td>\n",
       "      <td>...</td>\n",
       "      <td>...</td>\n",
       "    </tr>\n",
       "    <tr>\n",
       "      <th>999995</th>\n",
       "      <td>84391078</td>\n",
       "      <td>5</td>\n",
       "      <td>[62]</td>\n",
       "    </tr>\n",
       "    <tr>\n",
       "      <th>999996</th>\n",
       "      <td>84391079</td>\n",
       "      <td>5</td>\n",
       "      <td>[62]</td>\n",
       "    </tr>\n",
       "    <tr>\n",
       "      <th>999997</th>\n",
       "      <td>84391080</td>\n",
       "      <td>5</td>\n",
       "      <td>[62]</td>\n",
       "    </tr>\n",
       "    <tr>\n",
       "      <th>999998</th>\n",
       "      <td>34766819</td>\n",
       "      <td>5</td>\n",
       "      <td>[13]</td>\n",
       "    </tr>\n",
       "    <tr>\n",
       "      <th>999999</th>\n",
       "      <td>34766901</td>\n",
       "      <td>5</td>\n",
       "      <td>[11]</td>\n",
       "    </tr>\n",
       "  </tbody>\n",
       "</table>\n",
       "<p>53790 rows × 3 columns</p>\n",
       "</div>"
      ],
      "text/plain": [
       "         track_id  num_plays    genres\n",
       "946210         26          5  [11, 21]\n",
       "946211  101223525          5  [44, 75]\n",
       "946212  101223837          5      [70]\n",
       "946213  101224609          5  [11, 20]\n",
       "946214  101227724          5      [16]\n",
       "...           ...        ...       ...\n",
       "999995   84391078          5      [62]\n",
       "999996   84391079          5      [62]\n",
       "999997   84391080          5      [62]\n",
       "999998   34766819          5      [13]\n",
       "999999   34766901          5      [11]\n",
       "\n",
       "[53790 rows x 3 columns]"
      ]
     },
     "execution_count": 19,
     "metadata": {},
     "output_type": "execute_result"
    }
   ],
   "source": [
    "enriched_track_plays[enriched_track_plays['num_plays'] == 5]"
   ]
  },
  {
   "cell_type": "markdown",
   "id": "1344cc81",
   "metadata": {},
   "source": [
    "Прям совсем непрослушанных треков нет, но наименее прослушанныых треков 53к записей из 1kk"
   ]
  },
  {
   "cell_type": "markdown",
   "id": "0d850a07-ef1e-462f-891a-1cf89f2e24ef",
   "metadata": {},
   "source": [
    "# Преобразование данных"
   ]
  },
  {
   "cell_type": "markdown",
   "id": "fabcf8d2-1192-4df5-b20b-fbb84689f57a",
   "metadata": {},
   "source": [
    "Преобразуем данные в формат, более пригодный для дальнейшего использования в расчётах рекомендаций."
   ]
  },
  {
   "cell_type": "code",
   "execution_count": 4,
   "id": "a425556a-9382-45ca-a04e-f1981a522126",
   "metadata": {},
   "outputs": [],
   "source": [
    "items = tracks.copy()\n",
    "events = interactions.copy()\n",
    "\n",
    "del tracks \n",
    "del interactions"
   ]
  },
  {
   "cell_type": "code",
   "execution_count": 5,
   "id": "c2eefd2d",
   "metadata": {},
   "outputs": [
    {
     "name": "stdout",
     "output_type": "stream",
     "text": [
      "Variable   Type         Data/Info\n",
      "---------------------------------\n",
      "catalog    DataFrame                    id   type<...>1812471 rows x 3 columns]\n",
      "events     DataFrame         user_id   track_id  <...>2629898 rows x 4 columns]\n",
      "items      DataFrame             track_id        <...>1000000 rows x 4 columns]\n"
     ]
    }
   ],
   "source": [
    "%whos DataFrame"
   ]
  },
  {
   "cell_type": "code",
   "execution_count": 22,
   "id": "2ec45801",
   "metadata": {},
   "outputs": [],
   "source": [
    "del added_genres\n",
    "del catalog \n",
    "del enriched_track_plays\n",
    "del enriched_track_plays_exploded\n",
    "del exploded_tracks\n",
    "del genres_agg\n",
    "del potentially_unidentified_albums\n",
    "del potentially_unidentified_artists\n",
    "del track_aggregate_plays\n",
    "del unidentified_genres\n",
    "del user_aggregate_plays"
   ]
  },
  {
   "cell_type": "code",
   "execution_count": 6,
   "id": "17ef7601",
   "metadata": {},
   "outputs": [
    {
     "name": "stderr",
     "output_type": "stream",
     "text": [
      "/tmp/ipykernel_3147/1875784261.py:9: SettingWithCopyWarning: \n",
      "A value is trying to be set on a copy of a slice from a DataFrame\n",
      "\n",
      "See the caveats in the documentation: https://pandas.pydata.org/pandas-docs/stable/user_guide/indexing.html#returning-a-view-versus-a-copy\n",
      "  filtered_events.rename(columns=cols_to_rename, inplace=True)\n"
     ]
    }
   ],
   "source": [
    "user_counts = events['user_id'].value_counts()\n",
    "uids = user_counts[user_counts > 5].index\n",
    "\n",
    "filtered_events = events[events['user_id'].isin(uids)]\n",
    "# filtered_events.sort_values(by='user_id', inplace=True)\n",
    "filtered_events.reset_index(drop=True, inplace=True)\n",
    "\n",
    "cols_to_rename = {'track_id': 'item_id'}\n",
    "filtered_events.rename(columns=cols_to_rename, inplace=True)\n",
    "items.rename(columns=cols_to_rename, inplace=True)"
   ]
  },
  {
   "cell_type": "code",
   "execution_count": 10,
   "id": "0bcedd4c",
   "metadata": {},
   "outputs": [
    {
     "data": {
      "text/html": [
       "<div>\n",
       "<style scoped>\n",
       "    .dataframe tbody tr th:only-of-type {\n",
       "        vertical-align: middle;\n",
       "    }\n",
       "\n",
       "    .dataframe tbody tr th {\n",
       "        vertical-align: top;\n",
       "    }\n",
       "\n",
       "    .dataframe thead th {\n",
       "        text-align: right;\n",
       "    }\n",
       "</style>\n",
       "<table border=\"1\" class=\"dataframe\">\n",
       "  <thead>\n",
       "    <tr style=\"text-align: right;\">\n",
       "      <th></th>\n",
       "      <th>user_id</th>\n",
       "      <th>item_id</th>\n",
       "      <th>track_seq</th>\n",
       "      <th>started_at</th>\n",
       "    </tr>\n",
       "  </thead>\n",
       "  <tbody>\n",
       "    <tr>\n",
       "      <th>0</th>\n",
       "      <td>0</td>\n",
       "      <td>99262</td>\n",
       "      <td>1</td>\n",
       "      <td>2022-07-17</td>\n",
       "    </tr>\n",
       "    <tr>\n",
       "      <th>1</th>\n",
       "      <td>0</td>\n",
       "      <td>589498</td>\n",
       "      <td>2</td>\n",
       "      <td>2022-07-19</td>\n",
       "    </tr>\n",
       "    <tr>\n",
       "      <th>2</th>\n",
       "      <td>0</td>\n",
       "      <td>590262</td>\n",
       "      <td>3</td>\n",
       "      <td>2022-07-21</td>\n",
       "    </tr>\n",
       "    <tr>\n",
       "      <th>3</th>\n",
       "      <td>0</td>\n",
       "      <td>590303</td>\n",
       "      <td>4</td>\n",
       "      <td>2022-07-22</td>\n",
       "    </tr>\n",
       "    <tr>\n",
       "      <th>4</th>\n",
       "      <td>0</td>\n",
       "      <td>590692</td>\n",
       "      <td>5</td>\n",
       "      <td>2022-07-22</td>\n",
       "    </tr>\n",
       "    <tr>\n",
       "      <th>...</th>\n",
       "      <td>...</td>\n",
       "      <td>...</td>\n",
       "      <td>...</td>\n",
       "      <td>...</td>\n",
       "    </tr>\n",
       "    <tr>\n",
       "      <th>222619418</th>\n",
       "      <td>1374582</td>\n",
       "      <td>95514767</td>\n",
       "      <td>288</td>\n",
       "      <td>2022-12-29</td>\n",
       "    </tr>\n",
       "    <tr>\n",
       "      <th>222619419</th>\n",
       "      <td>1374582</td>\n",
       "      <td>97220301</td>\n",
       "      <td>289</td>\n",
       "      <td>2022-12-29</td>\n",
       "    </tr>\n",
       "    <tr>\n",
       "      <th>222619420</th>\n",
       "      <td>1374582</td>\n",
       "      <td>97241171</td>\n",
       "      <td>290</td>\n",
       "      <td>2022-12-29</td>\n",
       "    </tr>\n",
       "    <tr>\n",
       "      <th>222619421</th>\n",
       "      <td>1374582</td>\n",
       "      <td>98542641</td>\n",
       "      <td>291</td>\n",
       "      <td>2022-12-29</td>\n",
       "    </tr>\n",
       "    <tr>\n",
       "      <th>222619422</th>\n",
       "      <td>1374582</td>\n",
       "      <td>100736375</td>\n",
       "      <td>292</td>\n",
       "      <td>2022-12-30</td>\n",
       "    </tr>\n",
       "  </tbody>\n",
       "</table>\n",
       "<p>222619423 rows × 4 columns</p>\n",
       "</div>"
      ],
      "text/plain": [
       "           user_id    item_id  track_seq started_at\n",
       "0                0      99262          1 2022-07-17\n",
       "1                0     589498          2 2022-07-19\n",
       "2                0     590262          3 2022-07-21\n",
       "3                0     590303          4 2022-07-22\n",
       "4                0     590692          5 2022-07-22\n",
       "...            ...        ...        ...        ...\n",
       "222619418  1374582   95514767        288 2022-12-29\n",
       "222619419  1374582   97220301        289 2022-12-29\n",
       "222619420  1374582   97241171        290 2022-12-29\n",
       "222619421  1374582   98542641        291 2022-12-29\n",
       "222619422  1374582  100736375        292 2022-12-30\n",
       "\n",
       "[222619423 rows x 4 columns]"
      ]
     },
     "execution_count": 10,
     "metadata": {},
     "output_type": "execute_result"
    }
   ],
   "source": [
    "filtered_events"
   ]
  },
  {
   "cell_type": "markdown",
   "id": "4d1be653-eed8-4fa0-a9c5-3811b080d71d",
   "metadata": {},
   "source": [
    "# Сохранение данных"
   ]
  },
  {
   "cell_type": "markdown",
   "id": "36f1314a-3af3-4faf-a0b1-3045173d1500",
   "metadata": {},
   "source": [
    "Сохраним данные в двух файлах в персональном S3-бакете по пути `recsys/data/`:\n",
    "- `items.parquet` — все данные о музыкальных треках,\n",
    "- `events.parquet` — все данные о взаимодействиях."
   ]
  },
  {
   "cell_type": "code",
   "execution_count": 18,
   "id": "9f77af17-7705-4fae-9aad-db579b39faad",
   "metadata": {},
   "outputs": [
    {
     "name": "stdout",
     "output_type": "stream",
     "text": [
      "Uploaded recsys/data/events.parquet to s3-student-mle-20240625-3348db98ef.\n",
      "Uploaded recsys/data/items.parquet to s3-student-mle-20240625-3348db98ef.\n",
      "Uploaded recsys/data/catalog.parquet to s3-student-mle-20240625-3348db98ef.\n"
     ]
    }
   ],
   "source": [
    "import io\n",
    "\n",
    "def put_df_to_s3(df: pd.DataFrame, bucket_name: str, file_key: str, s3_client):\n",
    "    buffer = io.BytesIO()\n",
    "    df.to_parquet(buffer, index=False)\n",
    "    buffer.seek(0)\n",
    "    \n",
    "    s3_client.put_object(Bucket=bucket_name, Key=file_key, Body=buffer)\n",
    "    print(f\"Uploaded {file_key} to {bucket_name}.\")\n",
    "\n",
    "put_df_to_s3(filtered_events, bucket_name, 'recsys/data/events.parquet', s3)\n",
    "put_df_to_s3(items, bucket_name, 'recsys/data/items.parquet', s3)\n",
    "put_df_to_s3(catalog, bucket_name, 'recsys/data/catalog.parquet', s3)\n"
   ]
  },
  {
   "cell_type": "code",
   "execution_count": null,
   "id": "19bcdae0",
   "metadata": {},
   "outputs": [
    {
     "name": "stdout",
     "output_type": "stream",
     "text": [
      "10/2e6aa7fca0074270835b798cddee6024/artifacts/dataframe/cleaned_flats_data.csv\n",
      "10/2e6aa7fca0074270835b798cddee6024/artifacts/model/MLmodel\n",
      "10/2e6aa7fca0074270835b798cddee6024/artifacts/model/conda.yaml\n",
      "10/2e6aa7fca0074270835b798cddee6024/artifacts/model/input_example.json\n",
      "10/2e6aa7fca0074270835b798cddee6024/artifacts/model/model.cb\n",
      "10/2e6aa7fca0074270835b798cddee6024/artifacts/model/python_env.yaml\n",
      "10/2e6aa7fca0074270835b798cddee6024/artifacts/model/requirements.txt\n",
      "10/5c1384ee8e324fe9ae72161c4ed40234/artifacts/dataframe/cleaned_flats_data.csv\n",
      "10/5c1384ee8e324fe9ae72161c4ed40234/artifacts/model/MLmodel\n",
      "10/5c1384ee8e324fe9ae72161c4ed40234/artifacts/model/conda.yaml\n",
      "10/5c1384ee8e324fe9ae72161c4ed40234/artifacts/model/input_example.json\n",
      "10/5c1384ee8e324fe9ae72161c4ed40234/artifacts/model/model.pkl\n",
      "10/5c1384ee8e324fe9ae72161c4ed40234/artifacts/model/python_env.yaml\n",
      "10/5c1384ee8e324fe9ae72161c4ed40234/artifacts/model/requirements.txt\n",
      "10/6da881fd8ae846329c0207d7af3243b3/artifacts/dataframe/cleaned_flats_data.csv\n",
      "10/6da881fd8ae846329c0207d7af3243b3/artifacts/model/MLmodel\n",
      "10/6da881fd8ae846329c0207d7af3243b3/artifacts/model/conda.yaml\n",
      "10/6da881fd8ae846329c0207d7af3243b3/artifacts/model/input_example.json\n",
      "10/6da881fd8ae846329c0207d7af3243b3/artifacts/model/model.pkl\n",
      "10/6da881fd8ae846329c0207d7af3243b3/artifacts/model/python_env.yaml\n",
      "10/6da881fd8ae846329c0207d7af3243b3/artifacts/model/requirements.txt\n",
      "10/70f185891d0d4c4faac45beb52435491/artifacts/dataframe/cleaned_flats_data.csv\n",
      "10/70f185891d0d4c4faac45beb52435491/artifacts/features/selected_features.json\n",
      "10/70f185891d0d4c4faac45beb52435491/artifacts/model/MLmodel\n",
      "10/70f185891d0d4c4faac45beb52435491/artifacts/model/conda.yaml\n",
      "10/70f185891d0d4c4faac45beb52435491/artifacts/model/input_example.json\n",
      "10/70f185891d0d4c4faac45beb52435491/artifacts/model/model.pkl\n",
      "10/70f185891d0d4c4faac45beb52435491/artifacts/model/python_env.yaml\n",
      "10/70f185891d0d4c4faac45beb52435491/artifacts/model/requirements.txt\n",
      "10/8646070ed87e491895bafda973d7f9f9/artifacts/dataframe/cleaned_flats_data.csv\n",
      "10/8646070ed87e491895bafda973d7f9f9/artifacts/features/selected_features.json\n",
      "10/8646070ed87e491895bafda973d7f9f9/artifacts/model/MLmodel\n",
      "10/8646070ed87e491895bafda973d7f9f9/artifacts/model/conda.yaml\n",
      "10/8646070ed87e491895bafda973d7f9f9/artifacts/model/input_example.json\n",
      "10/8646070ed87e491895bafda973d7f9f9/artifacts/model/model.pkl\n",
      "10/8646070ed87e491895bafda973d7f9f9/artifacts/model/python_env.yaml\n",
      "10/8646070ed87e491895bafda973d7f9f9/artifacts/model/requirements.txt\n",
      "10/a3e64fa9549e4f209a61c333932bb8ff/artifacts/dataframe/cleaned_flats_data.csv\n",
      "10/a3e64fa9549e4f209a61c333932bb8ff/artifacts/model/MLmodel\n",
      "10/a3e64fa9549e4f209a61c333932bb8ff/artifacts/model/conda.yaml\n",
      "10/a3e64fa9549e4f209a61c333932bb8ff/artifacts/model/input_example.json\n",
      "10/a3e64fa9549e4f209a61c333932bb8ff/artifacts/model/model.pkl\n",
      "10/a3e64fa9549e4f209a61c333932bb8ff/artifacts/model/python_env.yaml\n",
      "10/a3e64fa9549e4f209a61c333932bb8ff/artifacts/model/requirements.txt\n",
      "10/cc1f3f8dbf6f4d1d8556dcf0129908bd/artifacts/dataframe/cleaned_flats_data.csv\n",
      "10/cc1f3f8dbf6f4d1d8556dcf0129908bd/artifacts/model/MLmodel\n",
      "10/cc1f3f8dbf6f4d1d8556dcf0129908bd/artifacts/model/conda.yaml\n",
      "10/cc1f3f8dbf6f4d1d8556dcf0129908bd/artifacts/model/input_example.json\n",
      "10/cc1f3f8dbf6f4d1d8556dcf0129908bd/artifacts/model/model.cb\n",
      "10/cc1f3f8dbf6f4d1d8556dcf0129908bd/artifacts/model/python_env.yaml\n",
      "10/cc1f3f8dbf6f4d1d8556dcf0129908bd/artifacts/model/requirements.txt\n",
      "10/d7b34025177c469796518f3ada790aa6/artifacts/dataframe/cleaned_flats_data.csv\n",
      "10/da43e6410fe442f887011446f5154f92/artifacts/areas_scatter.png\n",
      "10/da43e6410fe442f887011446f5154f92/artifacts/flats_floors_count.png\n",
      "10/da43e6410fe442f887011446f5154f92/artifacts/heatmap.png\n",
      "10/da43e6410fe442f887011446f5154f92/artifacts/output.png\n",
      "10/da43e6410fe442f887011446f5154f92/artifacts/price_dist.png\n",
      "10/da43e6410fe442f887011446f5154f92/artifacts/price_dist_by_rooms.png\n",
      "10/e956dd73f1e04e2ba5c1384344c24f29/artifacts/dataframe/cleaned_flats_data.csv\n",
      "10/e956dd73f1e04e2ba5c1384344c24f29/artifacts/model/MLmodel\n",
      "10/e956dd73f1e04e2ba5c1384344c24f29/artifacts/model/conda.yaml\n",
      "10/e956dd73f1e04e2ba5c1384344c24f29/artifacts/model/input_example.json\n",
      "10/e956dd73f1e04e2ba5c1384344c24f29/artifacts/model/model.pkl\n",
      "10/e956dd73f1e04e2ba5c1384344c24f29/artifacts/model/python_env.yaml\n",
      "10/e956dd73f1e04e2ba5c1384344c24f29/artifacts/model/requirements.txt\n",
      "10/edf10bc7a85d48278bd8555d02adc92b/artifacts/dataframe/cleaned_flats_data.csv\n",
      "10/edf10bc7a85d48278bd8555d02adc92b/artifacts/model/MLmodel\n",
      "10/edf10bc7a85d48278bd8555d02adc92b/artifacts/model/conda.yaml\n",
      "10/edf10bc7a85d48278bd8555d02adc92b/artifacts/model/input_example.json\n",
      "10/edf10bc7a85d48278bd8555d02adc92b/artifacts/model/model.pkl\n",
      "10/edf10bc7a85d48278bd8555d02adc92b/artifacts/model/python_env.yaml\n",
      "10/edf10bc7a85d48278bd8555d02adc92b/artifacts/model/requirements.txt\n",
      "10/f93b97efe93b408eb235c62bded447d4/artifacts/areas_scatter.png\n",
      "10/f93b97efe93b408eb235c62bded447d4/artifacts/flats_floors_count.png\n",
      "10/f93b97efe93b408eb235c62bded447d4/artifacts/heatmap.png\n",
      "10/f93b97efe93b408eb235c62bded447d4/artifacts/heatmap_phik.png\n",
      "10/f93b97efe93b408eb235c62bded447d4/artifacts/output.png\n",
      "10/f93b97efe93b408eb235c62bded447d4/artifacts/price_dist.png\n",
      "10/f93b97efe93b408eb235c62bded447d4/artifacts/price_dist_by_rooms.png\n",
      "3/0176379dda484030bea2699f6bbcfcc5/artifacts/dataframe/columns.txt\n",
      "3/0176379dda484030bea2699f6bbcfcc5/artifacts/dataframe/users_churn.csv\n",
      "3/01eab1a9efe34bb4b0fe30c045196e70/artifacts/dataframe/clean_users_churn.csv\n",
      "3/01eab1a9efe34bb4b0fe30c045196e70/artifacts/model/MLmodel\n",
      "3/01eab1a9efe34bb4b0fe30c045196e70/artifacts/model/conda.yaml\n",
      "3/01eab1a9efe34bb4b0fe30c045196e70/artifacts/model/model.pkl\n",
      "3/01eab1a9efe34bb4b0fe30c045196e70/artifacts/model/python_env.yaml\n",
      "3/01eab1a9efe34bb4b0fe30c045196e70/artifacts/model/requirements.txt\n",
      "3/114e174da288419ca136cddc22900381/artifacts/column_transformer/MLmodel\n",
      "3/114e174da288419ca136cddc22900381/artifacts/column_transformer/conda.yaml\n",
      "3/114e174da288419ca136cddc22900381/artifacts/column_transformer/model.pkl\n",
      "3/114e174da288419ca136cddc22900381/artifacts/column_transformer/python_env.yaml\n",
      "3/114e174da288419ca136cddc22900381/artifacts/column_transformer/requirements.txt\n",
      "3/6751278c979d4e34a1de6fdc5ecc2e07/artifacts/dataframe/columns.txt\n",
      "3/6751278c979d4e34a1de6fdc5ecc2e07/artifacts/dataframe/users_churn.csv\n",
      "3/6751278c979d4e34a1de6fdc5ecc2e07/artifacts/model/MLmodel\n",
      "3/6751278c979d4e34a1de6fdc5ecc2e07/artifacts/model/code/train.py\n",
      "3/6751278c979d4e34a1de6fdc5ecc2e07/artifacts/model/conda.yaml\n",
      "3/6751278c979d4e34a1de6fdc5ecc2e07/artifacts/model/input_example.json\n",
      "3/6751278c979d4e34a1de6fdc5ecc2e07/artifacts/model/model.pkl\n",
      "3/6751278c979d4e34a1de6fdc5ecc2e07/artifacts/model/python_env.yaml\n",
      "3/6751278c979d4e34a1de6fdc5ecc2e07/artifacts/model/requirements.txt\n",
      "3/886e2013ca014c7c8214fb397666870e/artifacts/dataframe/columns.txt\n",
      "3/886e2013ca014c7c8214fb397666870e/artifacts/dataframe/users_churn.csv\n",
      "3/8b4e4b9bebea45a68e2949d3701a7d00/artifacts/sbs.csv\n",
      "3/8b4e4b9bebea45a68e2949d3701a7d00/artifacts/sbs.png\n",
      "3/8b4e4b9bebea45a68e2949d3701a7d00/artifacts/sfs.csv\n",
      "3/8b4e4b9bebea45a68e2949d3701a7d00/artifacts/sfs.png\n",
      "3/9cb85e8c2dfb4a3da0535314e296e567/artifacts/dataframe/columns.txt\n",
      "3/9cb85e8c2dfb4a3da0535314e296e567/artifacts/dataframe/users_churn.csv\n",
      "3/a68a7b28b9ec4c77946e97ae0537d659/artifacts/dataframe/columns.txt\n",
      "3/a68a7b28b9ec4c77946e97ae0537d659/artifacts/dataframe/users_churn.csv\n",
      "3/a68a7b28b9ec4c77946e97ae0537d659/artifacts/model/MLmodel\n",
      "3/a68a7b28b9ec4c77946e97ae0537d659/artifacts/model/code/train.py\n",
      "3/a68a7b28b9ec4c77946e97ae0537d659/artifacts/model/conda.yaml\n",
      "3/a68a7b28b9ec4c77946e97ae0537d659/artifacts/model/input_example.json\n",
      "3/a68a7b28b9ec4c77946e97ae0537d659/artifacts/model/model.pkl\n",
      "3/a68a7b28b9ec4c77946e97ae0537d659/artifacts/model/python_env.yaml\n",
      "3/a68a7b28b9ec4c77946e97ae0537d659/artifacts/model/requirements.txt\n",
      "3/c1c53efb12984deab78740a3d0c8084f/artifacts/dataframe/columns.txt\n",
      "3/c1c53efb12984deab78740a3d0c8084f/artifacts/dataframe/users_churn.csv\n",
      "3/c1c53efb12984deab78740a3d0c8084f/artifacts/model/MLmodel\n",
      "3/c1c53efb12984deab78740a3d0c8084f/artifacts/model/code/train.py\n",
      "3/c1c53efb12984deab78740a3d0c8084f/artifacts/model/conda.yaml\n",
      "3/c1c53efb12984deab78740a3d0c8084f/artifacts/model/input_example.json\n",
      "3/c1c53efb12984deab78740a3d0c8084f/artifacts/model/model.pkl\n",
      "3/c1c53efb12984deab78740a3d0c8084f/artifacts/model/python_env.yaml\n",
      "3/c1c53efb12984deab78740a3d0c8084f/artifacts/model/requirements.txt\n",
      "3/cb39ab2a5fb848139be890f159c82f5d/artifacts/dataframe/clean_users_churn.csv\n",
      "3/cb39ab2a5fb848139be890f159c82f5d/artifacts/model/MLmodel\n",
      "3/cb39ab2a5fb848139be890f159c82f5d/artifacts/model/conda.yaml\n",
      "3/cb39ab2a5fb848139be890f159c82f5d/artifacts/model/model.pkl\n",
      "3/cb39ab2a5fb848139be890f159c82f5d/artifacts/model/python_env.yaml\n",
      "3/cb39ab2a5fb848139be890f159c82f5d/artifacts/model/requirements.txt\n",
      "3/d3051fde67fb4385998d97681fa7276d/artifacts/afc/MLmodel\n",
      "3/d3051fde67fb4385998d97681fa7276d/artifacts/afc/conda.yaml\n",
      "3/d3051fde67fb4385998d97681fa7276d/artifacts/afc/model.pkl\n",
      "3/d3051fde67fb4385998d97681fa7276d/artifacts/afc/python_env.yaml\n",
      "3/d3051fde67fb4385998d97681fa7276d/artifacts/afc/requirements.txt\n",
      "3/d6402fd2c459461d8e76458b339a054d/artifacts/dataframe/columns.txt\n",
      "3/d6402fd2c459461d8e76458b339a054d/artifacts/dataframe/users_churn.csv\n",
      "3/d74c9ca51824431392b68e3fec1c4f0c/artifacts/cat_features_1.png\n",
      "3/d74c9ca51824431392b68e3fec1c4f0c/artifacts/cat_features_2_binary_heatmap.png\n",
      "3/d74c9ca51824431392b68e3fec1c4f0c/artifacts/charges_by_date.png\n",
      "3/d74c9ca51824431392b68e3fec1c4f0c/artifacts/chargest_by_target_dist.png\n",
      "3/d74c9ca51824431392b68e3fec1c4f0c/artifacts/target_by_date.png\n",
      "3/d74c9ca51824431392b68e3fec1c4f0c/artifacts/target_count.png\n",
      "3/e22b1ab3402944da93c0f2368e11f187/artifacts/dataframe/users_churn.csv\n",
      "3/e22b1ab3402944da93c0f2368e11f187/artifacts/model/MLmodel\n",
      "3/e22b1ab3402944da93c0f2368e11f187/artifacts/model/conda.yaml\n",
      "3/e22b1ab3402944da93c0f2368e11f187/artifacts/model/model.pkl\n",
      "3/e22b1ab3402944da93c0f2368e11f187/artifacts/model/python_env.yaml\n",
      "3/e22b1ab3402944da93c0f2368e11f187/artifacts/model/requirements.txt\n",
      "3/e7f085084f7944ccbd92814a0ee24757/artifacts/dataframe/columns.txt\n",
      "3/e7f085084f7944ccbd92814a0ee24757/artifacts/dataframe/users_churn.csv\n",
      "3/e7f085084f7944ccbd92814a0ee24757/artifacts/model/MLmodel\n",
      "3/e7f085084f7944ccbd92814a0ee24757/artifacts/model/code/train.py\n",
      "3/e7f085084f7944ccbd92814a0ee24757/artifacts/model/conda.yaml\n",
      "3/e7f085084f7944ccbd92814a0ee24757/artifacts/model/input_example.json\n",
      "3/e7f085084f7944ccbd92814a0ee24757/artifacts/model/model.pkl\n",
      "3/e7f085084f7944ccbd92814a0ee24757/artifacts/model/python_env.yaml\n",
      "3/e7f085084f7944ccbd92814a0ee24757/artifacts/model/requirements.txt\n",
      "3/f2d4acf0d3814395b8758835a4ed3d63/artifacts/column_transformer/MLmodel\n",
      "3/f2d4acf0d3814395b8758835a4ed3d63/artifacts/column_transformer/conda.yaml\n",
      "3/f2d4acf0d3814395b8758835a4ed3d63/artifacts/column_transformer/model.pkl\n",
      "3/f2d4acf0d3814395b8758835a4ed3d63/artifacts/column_transformer/python_env.yaml\n",
      "3/f2d4acf0d3814395b8758835a4ed3d63/artifacts/column_transformer/requirements.txt\n",
      "3/f7803153cd8941ef89298ce5fd79302d/artifacts/dataframe/columns.txt\n",
      "3/f7803153cd8941ef89298ce5fd79302d/artifacts/dataframe/users_churn.csv\n",
      "6/0c092910b69347af969f59585539c21e/artifacts/dataframe/clean_users_churn.csv\n",
      "6/0c092910b69347af969f59585539c21e/artifacts/model/MLmodel\n",
      "6/0c092910b69347af969f59585539c21e/artifacts/model/conda.yaml\n",
      "6/0c092910b69347af969f59585539c21e/artifacts/model/model.pkl\n",
      "6/0c092910b69347af969f59585539c21e/artifacts/model/python_env.yaml\n",
      "6/0c092910b69347af969f59585539c21e/artifacts/model/requirements.txt\n",
      "6/6cdb98fb989c4724a62a8a6cb43a96b2/artifacts/dataframe/clean_users_churn.csv\n",
      "6/6cdb98fb989c4724a62a8a6cb43a96b2/artifacts/model/MLmodel\n",
      "6/6cdb98fb989c4724a62a8a6cb43a96b2/artifacts/model/conda.yaml\n",
      "6/6cdb98fb989c4724a62a8a6cb43a96b2/artifacts/model/model.pkl\n",
      "6/6cdb98fb989c4724a62a8a6cb43a96b2/artifacts/model/python_env.yaml\n",
      "6/6cdb98fb989c4724a62a8a6cb43a96b2/artifacts/model/requirements.txt\n",
      "8/05b20216c3a24155b03c31740534e46c/artifacts/dataframe/clean_users_churn.csv\n",
      "8/05b20216c3a24155b03c31740534e46c/artifacts/model/MLmodel\n",
      "8/05b20216c3a24155b03c31740534e46c/artifacts/model/conda.yaml\n",
      "8/05b20216c3a24155b03c31740534e46c/artifacts/model/model.pkl\n",
      "8/05b20216c3a24155b03c31740534e46c/artifacts/model/python_env.yaml\n",
      "8/05b20216c3a24155b03c31740534e46c/artifacts/model/requirements.txt\n",
      "8/158e23945c92467382858857d2ab0ccc/artifacts/cv/MLmodel\n",
      "8/158e23945c92467382858857d2ab0ccc/artifacts/cv/conda.yaml\n",
      "8/158e23945c92467382858857d2ab0ccc/artifacts/cv/model.pkl\n",
      "8/158e23945c92467382858857d2ab0ccc/artifacts/cv/python_env.yaml\n",
      "8/158e23945c92467382858857d2ab0ccc/artifacts/cv/requirements.txt\n",
      "8/158e23945c92467382858857d2ab0ccc/artifacts/models/MLmodel\n",
      "8/158e23945c92467382858857d2ab0ccc/artifacts/models/conda.yaml\n",
      "8/158e23945c92467382858857d2ab0ccc/artifacts/models/input_example.json\n",
      "8/158e23945c92467382858857d2ab0ccc/artifacts/models/model.cb\n",
      "8/158e23945c92467382858857d2ab0ccc/artifacts/models/python_env.yaml\n",
      "8/158e23945c92467382858857d2ab0ccc/artifacts/models/requirements.txt\n",
      "8/45d45454e66c43f8924763c6e0c8a8cf/artifacts/cv/MLmodel\n",
      "8/45d45454e66c43f8924763c6e0c8a8cf/artifacts/cv/conda.yaml\n",
      "8/45d45454e66c43f8924763c6e0c8a8cf/artifacts/cv/model.pkl\n",
      "8/45d45454e66c43f8924763c6e0c8a8cf/artifacts/cv/python_env.yaml\n",
      "8/45d45454e66c43f8924763c6e0c8a8cf/artifacts/cv/requirements.txt\n",
      "8/45d45454e66c43f8924763c6e0c8a8cf/artifacts/models/MLmodel\n",
      "8/45d45454e66c43f8924763c6e0c8a8cf/artifacts/models/conda.yaml\n",
      "8/45d45454e66c43f8924763c6e0c8a8cf/artifacts/models/input_example.json\n",
      "8/45d45454e66c43f8924763c6e0c8a8cf/artifacts/models/model.cb\n",
      "8/45d45454e66c43f8924763c6e0c8a8cf/artifacts/models/python_env.yaml\n",
      "8/45d45454e66c43f8924763c6e0c8a8cf/artifacts/models/requirements.txt\n",
      "8/fcc53539d83e41b9b6388ccf8c72f29d/artifacts/cv/MLmodel\n",
      "8/fcc53539d83e41b9b6388ccf8c72f29d/artifacts/cv/conda.yaml\n",
      "8/fcc53539d83e41b9b6388ccf8c72f29d/artifacts/cv/model.pkl\n",
      "8/fcc53539d83e41b9b6388ccf8c72f29d/artifacts/cv/python_env.yaml\n",
      "8/fcc53539d83e41b9b6388ccf8c72f29d/artifacts/cv/requirements.txt\n",
      "9/065240733af84788b178a14ef694f08a/artifacts/cv/MLmodel\n",
      "9/065240733af84788b178a14ef694f08a/artifacts/cv/conda.yaml\n",
      "9/065240733af84788b178a14ef694f08a/artifacts/cv/model.pkl\n",
      "9/065240733af84788b178a14ef694f08a/artifacts/cv/python_env.yaml\n",
      "9/065240733af84788b178a14ef694f08a/artifacts/cv/requirements.txt\n",
      "9/a7177949f25a4c498188dd8ab51722f6/artifacts/study/MLmodel\n",
      "9/a7177949f25a4c498188dd8ab51722f6/artifacts/study/conda.yaml\n",
      "9/a7177949f25a4c498188dd8ab51722f6/artifacts/study/model.pkl\n",
      "9/a7177949f25a4c498188dd8ab51722f6/artifacts/study/python_env.yaml\n",
      "9/a7177949f25a4c498188dd8ab51722f6/artifacts/study/requirements.txt\n",
      "cv_results/cv_res.json\n",
      "data/cleaned_flats_data.csv\n",
      "data/initial_data.csv\n",
      "models/fitted_model.pkl\n",
      "recsys/data/als_recommendations.csv\n",
      "recsys/data/catalog.parquet\n",
      "recsys/data/events.parquet\n",
      "recsys/data/items.parquet\n"
     ]
    }
   ],
   "source": [
    " \n",
    "if s3.list_objects(Bucket=bucket_name).get('Contents'):\n",
    "    for key in s3.list_objects(Bucket=bucket_name)['Contents']:\n",
    "        print(key['Key'])"
   ]
  },
  {
   "cell_type": "markdown",
   "id": "72ecbbed-c560-44d9-9c14-86c7dc76f399",
   "metadata": {},
   "source": [
    "# Очистка памяти"
   ]
  },
  {
   "cell_type": "markdown",
   "id": "b5358ede-ba6e-4c4f-bd73-5b9344f0ba79",
   "metadata": {},
   "source": [
    "Здесь, может понадобится очистка памяти для высвобождения ресурсов для выполнения кода ниже. \n",
    "\n",
    "Приведите соответствующие код, комментарии, например:\n",
    "- код для удаление более ненужных переменных,\n",
    "- комментарий, что следует перезапустить kernel, выполнить такие-то начальные секции и продолжить с этапа 3."
   ]
  },
  {
   "cell_type": "code",
   "execution_count": 20,
   "id": "767fe920-e12e-4ad8-b04e-56e8091fac9f",
   "metadata": {},
   "outputs": [
    {
     "name": "stdout",
     "output_type": "stream",
     "text": [
      "Variable          Type         Data/Info\n",
      "----------------------------------------\n",
      "catalog           DataFrame                    id   type<...>1812471 rows x 3 columns]\n",
      "events            DataFrame         user_id   track_id  <...>2629898 rows x 4 columns]\n",
      "filtered_events   DataFrame               user_id    ite<...>2619423 rows x 4 columns]\n",
      "items             DataFrame              item_id        <...>1000000 rows x 4 columns]\n"
     ]
    }
   ],
   "source": [
    "%whos DataFrame"
   ]
  },
  {
   "cell_type": "code",
   "execution_count": 21,
   "id": "72e67169",
   "metadata": {},
   "outputs": [],
   "source": [
    "del events"
   ]
  },
  {
   "cell_type": "markdown",
   "id": "708503df-ee89-4cf3-8489-093dc478e2a8",
   "metadata": {},
   "source": [
    "# === ЭТАП 3 ==="
   ]
  },
  {
   "cell_type": "markdown",
   "id": "fd77de22-e10f-4b42-85c1-8fb6f805fe68",
   "metadata": {},
   "source": [
    "# Загрузка данных"
   ]
  },
  {
   "cell_type": "markdown",
   "id": "780a4241-1ecd-4a3e-bbb3-fc2f6ca94f68",
   "metadata": {},
   "source": [
    "Если необходимо, то загружаем items.parquet, events.parquet."
   ]
  },
  {
   "cell_type": "code",
   "execution_count": null,
   "id": "5db1e801-5845-4ce3-86f2-c2fa30f68cc5",
   "metadata": {},
   "outputs": [],
   "source": [
    "import boto3\n",
    "import os\n",
    "import io\n",
    "import csv\n",
    "from dotenv import load_dotenv\n",
    "load_dotenv()\n",
    "\n",
    "def get_session_student():\n",
    "    session = boto3.session.Session()\n",
    "    return session.client(\n",
    "        service_name='s3',\n",
    "        endpoint_url='https://storage.yandexcloud.net',\n",
    "        aws_access_key_id=os.environ.get('AWS_ACCESS_KEY_ID_STUDENT'),\n",
    "        aws_secret_access_key=os.environ.get('AWS_SECRET_ACCESS_KEY_STUDENT')\n",
    "    )\n",
    "\n",
    "def load_csv_from_s3(bucket_name, key_name, s3_client):\n",
    "    csv_buffer = io.BytesIO()\n",
    "    s3_client.download_fileobj(bucket_name, key_name, csv_buffer)\n",
    "    csv_buffer.seek(0)\n",
    "    csv_reader = csv.reader(io.TextIOWrapper(csv_buffer, encoding='utf-8'))\n",
    "    rows = list(csv_reader) \n",
    "    return rows\n",
    " \n",
    "s3 = get_session_student()\n",
    "bucket_name = os.environ.get('S3_BUCKET_NAME')\n",
    "\n",
    "events = load_csv_from_s3(\n",
    "    bucket_name=bucket_name,\n",
    "    key_name='recsys/data/events.parquet',\n",
    "    s3_client=s3\n",
    ")\n",
    "\n",
    "items = load_csv_from_s3(\n",
    "    bucket_name=bucket_name,\n",
    "    key_name='recsys/data/items.parquet',\n",
    "    s3_client=s3\n",
    ")\n",
    "\n",
    "# als_recommendations = load_csv_from_s3(\n",
    "#     bucket_name=bucket_name,\n",
    "#     key_name='recsys/data/als_recommendations.csv',\n",
    "#     s3_client=s3\n",
    "# )"
   ]
  },
  {
   "cell_type": "markdown",
   "id": "a694c023-6477-490b-939d-1cfa6f5f1b72",
   "metadata": {},
   "source": [
    "# Разбиение данных"
   ]
  },
  {
   "cell_type": "markdown",
   "id": "fbd5f6e0-54e7-4428-8678-eabce505d82c",
   "metadata": {},
   "source": [
    "Разбиваем данные на тренировочную, тестовую выборки."
   ]
  },
  {
   "cell_type": "code",
   "execution_count": 36,
   "id": "26fe3e3c-8c5f-4437-bf13-9191adef08bb",
   "metadata": {},
   "outputs": [],
   "source": [
    "date_to_slice_by = pd.to_datetime('2022-12-16')\n",
    "train_idices = events['started_at'] < date_to_slice_by\n",
    "\n",
    "events_train = events[train_idices].copy()\n",
    "events_test = events[~train_idices].copy()"
   ]
  },
  {
   "cell_type": "code",
   "execution_count": 43,
   "id": "a2ff4d2e",
   "metadata": {},
   "outputs": [
    {
     "name": "stdout",
     "output_type": "stream",
     "text": [
      "Num users in train:  1339127\n",
      "Num users in test:  781881\n",
      "Num common users:  751404\n",
      "Num cold users:  30477\n"
     ]
    }
   ],
   "source": [
    "users_train = events_train['user_id'].drop_duplicates()\n",
    "users_test = events_test['user_id'].drop_duplicates()\n",
    "\n",
    "common_users = set(users_train).intersection(set(users_test))\n",
    "cold_users = list(set(users_test) - set(users_train))\n",
    "\n",
    "print('Num users in train: ', str(len(users_train)))\n",
    "print('Num users in test: ', str(len(users_test)))\n",
    "print('Num common users: ', str(len(common_users)))\n",
    "print('Num cold users: ', str(len(cold_users)))"
   ]
  },
  {
   "cell_type": "markdown",
   "id": "9131c7e6-8852-4556-b510-51f7253cc299",
   "metadata": {},
   "source": [
    "# Топ популярных"
   ]
  },
  {
   "cell_type": "markdown",
   "id": "dd70d43a-88cc-4719-b291-feaed7136f30",
   "metadata": {},
   "source": [
    "Рассчитаем рекомендации как топ популярных."
   ]
  },
  {
   "cell_type": "code",
   "execution_count": 47,
   "id": "ee45e200-b7d6-4f56-9077-aad431689b96",
   "metadata": {},
   "outputs": [],
   "source": [
    "track_aggregate_plays = events.groupby('item_id')\\\n",
    "    .agg({'user_id': 'count'})\\\n",
    "        .rename(columns={'user_id': 'num_plays'})\n",
    "track_aggregate_plays = track_aggregate_plays.sort_values(by='num_plays', \n",
    "                                                          ascending=False).reset_index()"
   ]
  },
  {
   "cell_type": "code",
   "execution_count": 51,
   "id": "b0b5c52e",
   "metadata": {},
   "outputs": [
    {
     "data": {
      "text/html": [
       "<div>\n",
       "<style scoped>\n",
       "    .dataframe tbody tr th:only-of-type {\n",
       "        vertical-align: middle;\n",
       "    }\n",
       "\n",
       "    .dataframe tbody tr th {\n",
       "        vertical-align: top;\n",
       "    }\n",
       "\n",
       "    .dataframe thead th {\n",
       "        text-align: right;\n",
       "    }\n",
       "</style>\n",
       "<table border=\"1\" class=\"dataframe\">\n",
       "  <thead>\n",
       "    <tr style=\"text-align: right;\">\n",
       "      <th></th>\n",
       "      <th>id</th>\n",
       "      <th>type</th>\n",
       "      <th>name</th>\n",
       "    </tr>\n",
       "  </thead>\n",
       "  <tbody>\n",
       "    <tr>\n",
       "      <th>0</th>\n",
       "      <td>3</td>\n",
       "      <td>album</td>\n",
       "      <td>Taller Children</td>\n",
       "    </tr>\n",
       "    <tr>\n",
       "      <th>1</th>\n",
       "      <td>12</td>\n",
       "      <td>album</td>\n",
       "      <td>Wild Young Hearts</td>\n",
       "    </tr>\n",
       "    <tr>\n",
       "      <th>2</th>\n",
       "      <td>13</td>\n",
       "      <td>album</td>\n",
       "      <td>Lonesome Crow</td>\n",
       "    </tr>\n",
       "    <tr>\n",
       "      <th>3</th>\n",
       "      <td>17</td>\n",
       "      <td>album</td>\n",
       "      <td>Graffiti Soul</td>\n",
       "    </tr>\n",
       "    <tr>\n",
       "      <th>4</th>\n",
       "      <td>26</td>\n",
       "      <td>album</td>\n",
       "      <td>Blues Six Pack</td>\n",
       "    </tr>\n",
       "    <tr>\n",
       "      <th>...</th>\n",
       "      <td>...</td>\n",
       "      <td>...</td>\n",
       "      <td>...</td>\n",
       "    </tr>\n",
       "    <tr>\n",
       "      <th>1812466</th>\n",
       "      <td>101478482</td>\n",
       "      <td>track</td>\n",
       "      <td>На лицо</td>\n",
       "    </tr>\n",
       "    <tr>\n",
       "      <th>1812467</th>\n",
       "      <td>101490148</td>\n",
       "      <td>track</td>\n",
       "      <td>Без капли мысли</td>\n",
       "    </tr>\n",
       "    <tr>\n",
       "      <th>1812468</th>\n",
       "      <td>101493057</td>\n",
       "      <td>track</td>\n",
       "      <td>SKITTLES</td>\n",
       "    </tr>\n",
       "    <tr>\n",
       "      <th>1812469</th>\n",
       "      <td>101495927</td>\n",
       "      <td>track</td>\n",
       "      <td>Москва</td>\n",
       "    </tr>\n",
       "    <tr>\n",
       "      <th>1812470</th>\n",
       "      <td>101521819</td>\n",
       "      <td>track</td>\n",
       "      <td>Вокзал</td>\n",
       "    </tr>\n",
       "  </tbody>\n",
       "</table>\n",
       "<p>1812471 rows × 3 columns</p>\n",
       "</div>"
      ],
      "text/plain": [
       "                id   type               name\n",
       "0                3  album    Taller Children\n",
       "1               12  album  Wild Young Hearts\n",
       "2               13  album      Lonesome Crow\n",
       "3               17  album      Graffiti Soul\n",
       "4               26  album     Blues Six Pack\n",
       "...            ...    ...                ...\n",
       "1812466  101478482  track            На лицо\n",
       "1812467  101490148  track    Без капли мысли\n",
       "1812468  101493057  track           SKITTLES\n",
       "1812469  101495927  track             Москва\n",
       "1812470  101521819  track             Вокзал\n",
       "\n",
       "[1812471 rows x 3 columns]"
      ]
     },
     "execution_count": 51,
     "metadata": {},
     "output_type": "execute_result"
    }
   ],
   "source": [
    "catalog"
   ]
  },
  {
   "cell_type": "code",
   "execution_count": 56,
   "id": "7690c86f-7aa9-46ed-bba5-2c837626411e",
   "metadata": {},
   "outputs": [
    {
     "name": "stdout",
     "output_type": "stream",
     "text": [
      "Uploaded recsys/data/top_popular.parquet to s3-student-mle-20240625-3348db98ef.\n"
     ]
    }
   ],
   "source": [
    "top_popular = pd.merge(track_aggregate_plays.loc[:99, :], \n",
    "                       catalog[catalog['type'] == 'track'], \n",
    "                       left_on='item_id', \n",
    "                       right_on='id',\n",
    "                       how='left').drop(['id', 'type'], axis=1)\n",
    "\n",
    "put_df_to_s3(top_popular, bucket_name, 'recsys/data/top_popular.parquet', s3)"
   ]
  },
  {
   "cell_type": "markdown",
   "id": "2ad231f2-6158-421a-b7fa-01d8bc3ed572",
   "metadata": {},
   "source": [
    "# Персональные"
   ]
  },
  {
   "cell_type": "markdown",
   "id": "86159460-cd9d-4b63-8248-604ea3c9aebf",
   "metadata": {},
   "source": [
    "Рассчитаем персональные рекомендации."
   ]
  },
  {
   "cell_type": "code",
   "execution_count": null,
   "id": "d2944822-569c-4f9b-82dc-70a7fa2d542e",
   "metadata": {},
   "outputs": [],
   "source": []
  },
  {
   "cell_type": "code",
   "execution_count": null,
   "id": "1e8cdb58-3a8c-45ad-8e5f-7f950314aa56",
   "metadata": {},
   "outputs": [],
   "source": []
  },
  {
   "cell_type": "markdown",
   "id": "5f09dc7e-7c91-4355-860a-b9cfb9f33f15",
   "metadata": {},
   "source": [
    "# Похожие"
   ]
  },
  {
   "cell_type": "markdown",
   "id": "1dfcb683-b440-40a8-9975-894156a53872",
   "metadata": {},
   "source": [
    "Рассчитаем похожие, они позже пригодятся для онлайн-рекомендаций."
   ]
  },
  {
   "cell_type": "code",
   "execution_count": null,
   "id": "a75d07ee-4b12-4ce5-aa85-e45cb7a7a4f0",
   "metadata": {},
   "outputs": [],
   "source": []
  },
  {
   "cell_type": "code",
   "execution_count": null,
   "id": "ce370904-4c49-4152-8706-416074ea9b9a",
   "metadata": {},
   "outputs": [],
   "source": []
  },
  {
   "cell_type": "markdown",
   "id": "0087a3e7-ca9f-42cd-944c-944222c1baef",
   "metadata": {},
   "source": [
    "# Построение признаков"
   ]
  },
  {
   "cell_type": "markdown",
   "id": "e82a32e1-b90b-4eaf-9439-fc8deab9f34b",
   "metadata": {},
   "source": [
    "Построим три признака, можно больше, для ранжирующей модели."
   ]
  },
  {
   "cell_type": "code",
   "execution_count": null,
   "id": "05b4ae84-406a-44a4-abec-4f80f93e3004",
   "metadata": {},
   "outputs": [],
   "source": []
  },
  {
   "cell_type": "code",
   "execution_count": null,
   "id": "00f84c35-f544-4c3d-ad53-9b1d2b684c75",
   "metadata": {},
   "outputs": [],
   "source": []
  },
  {
   "cell_type": "markdown",
   "id": "47bcf88d-b236-46f0-a6f3-38ddd64895fe",
   "metadata": {},
   "source": [
    "# Ранжирование рекомендаций"
   ]
  },
  {
   "cell_type": "markdown",
   "id": "e8cd8223-3418-4493-8c87-1f76286ebda0",
   "metadata": {},
   "source": [
    "Построим ранжирующую модель, чтобы сделать рекомендации более точными. Отранжируем рекомендации."
   ]
  },
  {
   "cell_type": "code",
   "execution_count": null,
   "id": "79f1dd92-32a9-463d-827e-8bb9ee5bbb54",
   "metadata": {},
   "outputs": [],
   "source": []
  },
  {
   "cell_type": "code",
   "execution_count": null,
   "id": "6dbe4db4-1ac5-44da-a13c-8e7f9768ab73",
   "metadata": {},
   "outputs": [],
   "source": []
  },
  {
   "cell_type": "markdown",
   "id": "b3c84071-45b5-4a15-a683-e0ab034a3128",
   "metadata": {},
   "source": [
    "# Оценка качества"
   ]
  },
  {
   "cell_type": "markdown",
   "id": "1b107fe4-554e-42b1-87d9-c435a52bb77a",
   "metadata": {},
   "source": [
    "Проверим оценку качества трёх типов рекомендаций: \n",
    "\n",
    "- топ популярных,\n",
    "- персональных, полученных при помощи ALS,\n",
    "- итоговых\n",
    "  \n",
    "по четырем метрикам: recall, precision, coverage, novelty."
   ]
  },
  {
   "cell_type": "code",
   "execution_count": null,
   "id": "94d6f388-aecb-443e-8647-14014e932d4d",
   "metadata": {},
   "outputs": [],
   "source": []
  },
  {
   "cell_type": "code",
   "execution_count": null,
   "id": "26df411f-14c1-4848-8797-f37afe449cc6",
   "metadata": {},
   "outputs": [],
   "source": []
  },
  {
   "cell_type": "markdown",
   "id": "f1c8d38c-32b0-46a4-96f0-cd01dac708bc",
   "metadata": {},
   "source": [
    "# === Выводы, метрики ==="
   ]
  },
  {
   "cell_type": "markdown",
   "id": "f7d7d5d8-7d1e-4fdf-a6cd-83e5ce92c684",
   "metadata": {},
   "source": [
    "Основные выводы при работе над расчётом рекомендаций, рассчитанные метрики."
   ]
  },
  {
   "cell_type": "code",
   "execution_count": null,
   "id": "6403097d-db36-46d9-8952-613c9bd51b05",
   "metadata": {},
   "outputs": [],
   "source": []
  },
  {
   "cell_type": "code",
   "execution_count": null,
   "id": "986cfdd5-6f2e-4de6-8666-85804c87d04b",
   "metadata": {},
   "outputs": [],
   "source": []
  }
 ],
 "metadata": {
  "kernelspec": {
   "display_name": ".venv_recsys_start",
   "language": "python",
   "name": "python3"
  },
  "language_info": {
   "codemirror_mode": {
    "name": "ipython",
    "version": 3
   },
   "file_extension": ".py",
   "mimetype": "text/x-python",
   "name": "python",
   "nbconvert_exporter": "python",
   "pygments_lexer": "ipython3",
   "version": "3.10.12"
  }
 },
 "nbformat": 4,
 "nbformat_minor": 5
}
