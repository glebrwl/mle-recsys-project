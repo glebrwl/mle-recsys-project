{
 "cells": [
  {
   "cell_type": "markdown",
   "id": "cc9940c4",
   "metadata": {},
   "source": [
    "Привет, меня зовут Артем Носенко и я буду проверять твой проект.\n",
    "<br>Небольшая вступительная часть и начнем работу)\n",
    "<br> Если не против, то предлагаю общаться на «ты». Если это не удобно - дай знать, и мы перейдем на \"вы\". Моя основная цель — не указать на совершенные ошибки, а поделиться своим опытом и помочь сделать твой проект лучше. Для этого я буду использовать разный стиль оформления комментариев.\n",
    "<div class=\"alert alert-block alert-success\">\n",
    "✔️ Все хорошо.\n",
    "</div>\n",
    "\n",
    "<div class=\"alert alert-warning\">\n",
    "⚠️ Критических замечаний нет, но есть возможность сделать твою работу лучше.\n",
    "</div>\n",
    "\n",
    "<div class=\"alert alert-block alert-danger\">\n",
    "❌ Если требуются исправления. Работа не может быть принята с красными комментариями.\n",
    "</div>\n",
    "\n",
    "\n",
    "Давай работать над проектом в диалоге: если ты что-то меняешь в проекте по моим рекомендациям — пиши об этом.\n",
    "Будет очень хорошо, если ты будешь помечать свои действия следующим образом:\n",
    "<div class=\"alert alert-block alert-info\">\n",
    "<b>Комментарий студента:</b> ...\n",
    "</div>\n",
    "Пожалуйста, не перемещай, не изменяй и не удаляй мои комментарии. Всё это поможет выполнить повторную проверку твоего проекта оперативнее».\n"
   ]
  },
  {
   "cell_type": "markdown",
   "id": "b38717f7",
   "metadata": {},
   "source": [
    "<div class=\"alert alert-block alert-info\">\n",
    "<b>Артем, привет. Спасибо за проверку проекта!</b> ...\n",
    "</div>"
   ]
  },
  {
   "cell_type": "markdown",
   "id": "f4095ae4-7294-4b28-853e-88d235002c97",
   "metadata": {},
   "source": [
    "# Инициализация"
   ]
  },
  {
   "cell_type": "markdown",
   "id": "2f2318d2-9df8-4911-915e-15b725c44f8a",
   "metadata": {},
   "source": [
    "Загружаем библиотеки необходимые для выполнения кода ноутбука."
   ]
  },
  {
   "cell_type": "code",
   "execution_count": 1,
   "id": "662d04e7-1b0b-4e4a-9ddf-4526d7fef119",
   "metadata": {
    "trusted": false
   },
   "outputs": [],
   "source": [
    "import logging\n",
    "\n",
    "import matplotlib.pyplot as plt\n",
    "import numpy as np\n",
    "import pandas as pd\n",
    "\n",
    "import boto3\n",
    "import os\n",
    "from dotenv import load_dotenv\n",
    "load_dotenv()\n",
    "\n",
    "%matplotlib inline\n",
    "%config InlineBackend.figure_format = 'png'\n",
    "%config InlineBackend.figure_format = 'retina'"
   ]
  },
  {
   "cell_type": "code",
   "execution_count": 2,
   "id": "e7d08317",
   "metadata": {
    "trusted": false
   },
   "outputs": [
    {
     "name": "stdout",
     "output_type": "stream",
     "text": [
      "recsys/data/als_recommendations.npz\n",
      "recsys/data/catalog.parquet\n",
      "recsys/data/events.parquet\n",
      "recsys/data/genres_encoder.npy\n",
      "recsys/data/items.parquet\n",
      "recsys/data/items_encoder.npy\n",
      "recsys/data/user_encoder.npy\n",
      "recsys/recommendations/personal_als.parquet\n",
      "recsys/recommendations/similar.parquet\n",
      "recsys/recommendations/top_popular.parquet\n"
     ]
    }
   ],
   "source": [
    "import boto3\n",
    "import os\n",
    "from dotenv import load_dotenv\n",
    "load_dotenv()\n",
    "\n",
    "def get_session_student():\n",
    "    session = boto3.session.Session()\n",
    "    return session.client(\n",
    "        service_name='s3',\n",
    "        endpoint_url='https://storage.yandexcloud.net',\n",
    "        aws_access_key_id=os.environ.get('AWS_ACCESS_KEY_ID_STUDENT'),\n",
    "        aws_secret_access_key=os.environ.get('AWS_SECRET_ACCESS_KEY_STUDENT')\n",
    "    )\n",
    " \n",
    "s3 = get_session_student()\n",
    "bucket_name = os.environ.get('S3_BUCKET_NAME')\n",
    " \n",
    "if s3.list_objects(Bucket=bucket_name).get('Contents'):\n",
    "    for key in s3.list_objects(Bucket=bucket_name)['Contents']:\n",
    "        if 'recsys' in key['Key']:\n",
    "            print(key['Key'])\n",
    "\n",
    "\n",
    "# s3.delete_object(Bucket='s3-student-mle-20240625-3348db98ef', Key='data/initial_data.csv')"
   ]
  },
  {
   "cell_type": "code",
   "execution_count": 5,
   "id": "ddd076cf",
   "metadata": {
    "trusted": false
   },
   "outputs": [],
   "source": [
    "import io\n",
    "import csv\n",
    "\n",
    "def load_csv_from_s3(bucket_name, key_name, s3_client):\n",
    "    \"\"\"\n",
    "    Load a CSV file from S3 into memory.\n",
    "    Args:\n",
    "        bucket_name (str): The name of the S3 bucket.\n",
    "        key_name (str): The object key in S3.\n",
    "        s3_client: Boto3 S3 client.\n",
    "    Returns:\n",
    "        list: A list of rows from the CSV file.\n",
    "    \"\"\"\n",
    "    # Create a buffer\n",
    "    csv_buffer = io.BytesIO()\n",
    "    \n",
    "    # Download the file into the buffer\n",
    "    s3_client.download_fileobj(bucket_name, key_name, csv_buffer)\n",
    "    \n",
    "    # Reset the buffer's position to the start\n",
    "    csv_buffer.seek(0)\n",
    "    \n",
    "    # Read the CSV from the buffer\n",
    "    csv_reader = csv.reader(io.TextIOWrapper(csv_buffer, encoding='utf-8'))\n",
    "    rows = list(csv_reader)  # Convert to a list of rows\n",
    "    return rows\n",
    "\n",
    "# Call the function to load the CSV\n",
    "als_recommendations = load_csv_from_s3(\n",
    "    bucket_name=bucket_name,\n",
    "    key_name='recsys/data/als_recommendations.csv',\n",
    "    s3_client=s3\n",
    ")\n"
   ]
  },
  {
   "cell_type": "code",
   "execution_count": 12,
   "id": "d6d784ff",
   "metadata": {
    "trusted": false
   },
   "outputs": [
    {
     "name": "stdout",
     "output_type": "stream",
     "text": [
      "['user_id', 'item_ids', 'scores']\n",
      "['0', '275375,265629,381971,339789,282821,334138,347129,273369,217691,341440,280965,244600,221431,270458,308161,303527,296630,357305,342922,295936,307689,330464,339516,330401,384646,281950,223694,395826,287405,150675,307117,372756,384240,346372,196484,359454,353182,361435,338808,368654,380690,297129,276615,278750,385459,146858,237991,289481,244930,308801', '0.024032095,0.021947345,0.021340216,0.02116209,0.018825246,0.018749105,0.018598147,0.0184359,0.017945394,0.017935317,0.01771035,0.017701238,0.017419694,0.017080275,0.017061008,0.017039072,0.016647628,0.016442424,0.016253436,0.016218517,0.016213216,0.01605447,0.016006913,0.015540657,0.0155136045,0.015504968,0.014964655,0.014931646,0.014825653,0.014800899,0.0147728585,0.01460564,0.014505247,0.014467254,0.014449484,0.014408672,0.014329691,0.014276411,0.014205804,0.014149512,0.014119548,0.014108205,0.013888743,0.013869556,0.013830721,0.013405381,0.013338411,0.013331823,0.013264987,0.013171654']\n",
      "['1', '865604,836683,829320,888212,863034,902660,539360,870822,876846,463242,662419,576079,894016,889257,918708,876304,915729,853595,849895,539352,796777,769103,921438,832718,795379,855727,825152,906004,751876,795373,634046,852534,892055,886249,904055,573729,754538,834416,918425,709365,690843,533537,507747,830135,450921,726343,686927,513774,850748,592465', '0.05772479,0.0536853,0.05244249,0.052053016,0.052032024,0.051918954,0.049297128,0.048838478,0.04702685,0.04675637,0.045459114,0.044558704,0.043124042,0.041302238,0.037069798,0.03616448,0.03607143,0.035785984,0.03512767,0.034861956,0.034837987,0.03478408,0.034752347,0.034640756,0.03462478,0.03459022,0.034581993,0.034065027,0.034028888,0.033951998,0.033671193,0.033196002,0.033000372,0.03280407,0.032405853,0.03210753,0.032016803,0.031980295,0.031667784,0.03152178,0.03131598,0.031171104,0.031000827,0.030801494,0.030775854,0.030370891,0.030325558,0.029882738,0.029724937,0.02969549']\n"
     ]
    }
   ],
   "source": [
    "np.random.seed(42)\n",
    "\n",
    "for i in range(3):\n",
    "    print(als_recommendations[i])"
   ]
  },
  {
   "cell_type": "markdown",
   "id": "563a6640",
   "metadata": {},
   "source": [
    "<b>Комментарий от ревьюера v1</b>\n",
    "<div class=\"alert alert-block alert-success\">\n",
    "✔️ Импорты сделаны, отлично! Также приведены основные функции, которые будут использоваться в проекте!\n",
    "</div>\n",
    "\n",
    "<div class=\"alert alert-warning\">\n",
    "\n",
    "⚠️ Стоило сразу зафиксировать `SEED` (random state).Это поможет тебе добиться воспроизводимости результатов.\n",
    "</div>"
   ]
  },
  {
   "cell_type": "markdown",
   "id": "a267cd77",
   "metadata": {},
   "source": [
    "<div class=\"alert alert-block alert-info\">\n",
    "<b>Согласен, зафиксировал seed в предыдущей ячейке с кодом</b> ...\n",
    "</div>"
   ]
  },
  {
   "cell_type": "markdown",
   "id": "bf80fbc5-b660-4fac-8fbb-a5cae77313b3",
   "metadata": {},
   "source": [
    "# === ЭТАП 1 ==="
   ]
  },
  {
   "cell_type": "markdown",
   "id": "5263a8b3-fe99-4204-8a2e-105182792c11",
   "metadata": {},
   "source": [
    "# Загрузка первичных данных"
   ]
  },
  {
   "cell_type": "markdown",
   "id": "1b54a6a5-1656-4e3c-99d1-49dc39451d33",
   "metadata": {},
   "source": [
    "Загружаем первичные данные из файлов:\n",
    "- tracks.parquet\n",
    "- catalog_names.parquet\n",
    "- interactions.parquet"
   ]
  },
  {
   "cell_type": "code",
   "execution_count": 3,
   "id": "5d4b8961-3f35-4e58-9d6b-3e2dbd2c4224",
   "metadata": {
    "trusted": false
   },
   "outputs": [],
   "source": [
    "tracks = pd.read_parquet(\"data/tracks.parquet\")\n",
    "catalog = pd.read_parquet(\"data/catalog_names.parquet\")\n",
    "interactions = pd.read_parquet(\"data/interactions.parquet\")"
   ]
  },
  {
   "cell_type": "markdown",
   "id": "e8f2a1f7-a05f-4f39-af90-5f4018aa6f9d",
   "metadata": {},
   "source": [
    "# Обзор данных"
   ]
  },
  {
   "cell_type": "markdown",
   "id": "46a85307-896c-4fac-9fcf-f0dffa90889e",
   "metadata": {},
   "source": [
    "Проверяем данные, есть ли с ними явные проблемы."
   ]
  },
  {
   "cell_type": "code",
   "execution_count": 4,
   "id": "c9f8f17e-9b56-4f5a-a463-f694a993effb",
   "metadata": {
    "trusted": false
   },
   "outputs": [
    {
     "name": "stdout",
     "output_type": "stream",
     "text": [
      "<class 'pandas.core.frame.DataFrame'>\n",
      "RangeIndex: 1000000 entries, 0 to 999999\n",
      "Data columns (total 4 columns):\n",
      " #   Column    Non-Null Count    Dtype \n",
      "---  ------    --------------    ----- \n",
      " 0   track_id  1000000 non-null  int64 \n",
      " 1   albums    1000000 non-null  object\n",
      " 2   artists   1000000 non-null  object\n",
      " 3   genres    1000000 non-null  object\n",
      "dtypes: int64(1), object(3)\n",
      "memory usage: 30.5+ MB\n"
     ]
    },
    {
     "data": {
      "text/html": [
       "<div>\n",
       "<style scoped>\n",
       "    .dataframe tbody tr th:only-of-type {\n",
       "        vertical-align: middle;\n",
       "    }\n",
       "\n",
       "    .dataframe tbody tr th {\n",
       "        vertical-align: top;\n",
       "    }\n",
       "\n",
       "    .dataframe thead th {\n",
       "        text-align: right;\n",
       "    }\n",
       "</style>\n",
       "<table border=\"1\" class=\"dataframe\">\n",
       "  <thead>\n",
       "    <tr style=\"text-align: right;\">\n",
       "      <th></th>\n",
       "      <th>track_id</th>\n",
       "      <th>albums</th>\n",
       "      <th>artists</th>\n",
       "      <th>genres</th>\n",
       "    </tr>\n",
       "  </thead>\n",
       "  <tbody>\n",
       "    <tr>\n",
       "      <th>999995</th>\n",
       "      <td>101478482</td>\n",
       "      <td>[21399811]</td>\n",
       "      <td>[5540395]</td>\n",
       "      <td>[3, 75]</td>\n",
       "    </tr>\n",
       "    <tr>\n",
       "      <th>999996</th>\n",
       "      <td>101490148</td>\n",
       "      <td>[21403052]</td>\n",
       "      <td>[9078726]</td>\n",
       "      <td>[11, 20]</td>\n",
       "    </tr>\n",
       "    <tr>\n",
       "      <th>999997</th>\n",
       "      <td>101493057</td>\n",
       "      <td>[21403883]</td>\n",
       "      <td>[11865715]</td>\n",
       "      <td>[44, 75]</td>\n",
       "    </tr>\n",
       "    <tr>\n",
       "      <th>999998</th>\n",
       "      <td>101495927</td>\n",
       "      <td>[21404975]</td>\n",
       "      <td>[4462686]</td>\n",
       "      <td>[3, 75]</td>\n",
       "    </tr>\n",
       "    <tr>\n",
       "      <th>999999</th>\n",
       "      <td>101521819</td>\n",
       "      <td>[21414638]</td>\n",
       "      <td>[5056591]</td>\n",
       "      <td>[3, 75]</td>\n",
       "    </tr>\n",
       "  </tbody>\n",
       "</table>\n",
       "</div>"
      ],
      "text/plain": [
       "         track_id      albums     artists    genres\n",
       "999995  101478482  [21399811]   [5540395]   [3, 75]\n",
       "999996  101490148  [21403052]   [9078726]  [11, 20]\n",
       "999997  101493057  [21403883]  [11865715]  [44, 75]\n",
       "999998  101495927  [21404975]   [4462686]   [3, 75]\n",
       "999999  101521819  [21414638]   [5056591]   [3, 75]"
      ]
     },
     "execution_count": 4,
     "metadata": {},
     "output_type": "execute_result"
    }
   ],
   "source": [
    "tracks.info()\n",
    "tracks.tail()"
   ]
  },
  {
   "cell_type": "code",
   "execution_count": 5,
   "id": "efd2e2eb-3bec-4ce1-87ac-232bab8bc0d0",
   "metadata": {
    "trusted": false
   },
   "outputs": [
    {
     "name": "stdout",
     "output_type": "stream",
     "text": [
      "<class 'pandas.core.frame.DataFrame'>\n",
      "RangeIndex: 1812471 entries, 0 to 1812470\n",
      "Data columns (total 3 columns):\n",
      " #   Column  Dtype \n",
      "---  ------  ----- \n",
      " 0   id      int64 \n",
      " 1   type    object\n",
      " 2   name    object\n",
      "dtypes: int64(1), object(2)\n",
      "memory usage: 41.5+ MB\n"
     ]
    },
    {
     "data": {
      "text/html": [
       "<div>\n",
       "<style scoped>\n",
       "    .dataframe tbody tr th:only-of-type {\n",
       "        vertical-align: middle;\n",
       "    }\n",
       "\n",
       "    .dataframe tbody tr th {\n",
       "        vertical-align: top;\n",
       "    }\n",
       "\n",
       "    .dataframe thead th {\n",
       "        text-align: right;\n",
       "    }\n",
       "</style>\n",
       "<table border=\"1\" class=\"dataframe\">\n",
       "  <thead>\n",
       "    <tr style=\"text-align: right;\">\n",
       "      <th></th>\n",
       "      <th>id</th>\n",
       "      <th>type</th>\n",
       "      <th>name</th>\n",
       "    </tr>\n",
       "  </thead>\n",
       "  <tbody>\n",
       "    <tr>\n",
       "      <th>1812466</th>\n",
       "      <td>101478482</td>\n",
       "      <td>track</td>\n",
       "      <td>На лицо</td>\n",
       "    </tr>\n",
       "    <tr>\n",
       "      <th>1812467</th>\n",
       "      <td>101490148</td>\n",
       "      <td>track</td>\n",
       "      <td>Без капли мысли</td>\n",
       "    </tr>\n",
       "    <tr>\n",
       "      <th>1812468</th>\n",
       "      <td>101493057</td>\n",
       "      <td>track</td>\n",
       "      <td>SKITTLES</td>\n",
       "    </tr>\n",
       "    <tr>\n",
       "      <th>1812469</th>\n",
       "      <td>101495927</td>\n",
       "      <td>track</td>\n",
       "      <td>Москва</td>\n",
       "    </tr>\n",
       "    <tr>\n",
       "      <th>1812470</th>\n",
       "      <td>101521819</td>\n",
       "      <td>track</td>\n",
       "      <td>Вокзал</td>\n",
       "    </tr>\n",
       "  </tbody>\n",
       "</table>\n",
       "</div>"
      ],
      "text/plain": [
       "                id   type             name\n",
       "1812466  101478482  track          На лицо\n",
       "1812467  101490148  track  Без капли мысли\n",
       "1812468  101493057  track         SKITTLES\n",
       "1812469  101495927  track           Москва\n",
       "1812470  101521819  track           Вокзал"
      ]
     },
     "execution_count": 5,
     "metadata": {},
     "output_type": "execute_result"
    }
   ],
   "source": [
    "catalog.info()\n",
    "catalog.tail()"
   ]
  },
  {
   "cell_type": "code",
   "execution_count": 6,
   "id": "305f126f",
   "metadata": {
    "trusted": false
   },
   "outputs": [
    {
     "name": "stdout",
     "output_type": "stream",
     "text": [
      "<class 'pandas.core.frame.DataFrame'>\n",
      "Index: 222629898 entries, 0 to 291\n",
      "Data columns (total 4 columns):\n",
      " #   Column      Dtype         \n",
      "---  ------      -----         \n",
      " 0   user_id     int32         \n",
      " 1   track_id    int32         \n",
      " 2   track_seq   int16         \n",
      " 3   started_at  datetime64[ns]\n",
      "dtypes: datetime64[ns](1), int16(1), int32(2)\n",
      "memory usage: 5.4 GB\n"
     ]
    },
    {
     "data": {
      "text/html": [
       "<div>\n",
       "<style scoped>\n",
       "    .dataframe tbody tr th:only-of-type {\n",
       "        vertical-align: middle;\n",
       "    }\n",
       "\n",
       "    .dataframe tbody tr th {\n",
       "        vertical-align: top;\n",
       "    }\n",
       "\n",
       "    .dataframe thead th {\n",
       "        text-align: right;\n",
       "    }\n",
       "</style>\n",
       "<table border=\"1\" class=\"dataframe\">\n",
       "  <thead>\n",
       "    <tr style=\"text-align: right;\">\n",
       "      <th></th>\n",
       "      <th>user_id</th>\n",
       "      <th>track_id</th>\n",
       "      <th>track_seq</th>\n",
       "      <th>started_at</th>\n",
       "    </tr>\n",
       "  </thead>\n",
       "  <tbody>\n",
       "    <tr>\n",
       "      <th>287</th>\n",
       "      <td>1374582</td>\n",
       "      <td>95514767</td>\n",
       "      <td>288</td>\n",
       "      <td>2022-12-29</td>\n",
       "    </tr>\n",
       "    <tr>\n",
       "      <th>288</th>\n",
       "      <td>1374582</td>\n",
       "      <td>97220301</td>\n",
       "      <td>289</td>\n",
       "      <td>2022-12-29</td>\n",
       "    </tr>\n",
       "    <tr>\n",
       "      <th>289</th>\n",
       "      <td>1374582</td>\n",
       "      <td>97241171</td>\n",
       "      <td>290</td>\n",
       "      <td>2022-12-29</td>\n",
       "    </tr>\n",
       "    <tr>\n",
       "      <th>290</th>\n",
       "      <td>1374582</td>\n",
       "      <td>98542641</td>\n",
       "      <td>291</td>\n",
       "      <td>2022-12-29</td>\n",
       "    </tr>\n",
       "    <tr>\n",
       "      <th>291</th>\n",
       "      <td>1374582</td>\n",
       "      <td>100736375</td>\n",
       "      <td>292</td>\n",
       "      <td>2022-12-30</td>\n",
       "    </tr>\n",
       "  </tbody>\n",
       "</table>\n",
       "</div>"
      ],
      "text/plain": [
       "     user_id   track_id  track_seq started_at\n",
       "287  1374582   95514767        288 2022-12-29\n",
       "288  1374582   97220301        289 2022-12-29\n",
       "289  1374582   97241171        290 2022-12-29\n",
       "290  1374582   98542641        291 2022-12-29\n",
       "291  1374582  100736375        292 2022-12-30"
      ]
     },
     "execution_count": 6,
     "metadata": {},
     "output_type": "execute_result"
    }
   ],
   "source": [
    "interactions.info()\n",
    "interactions.tail()"
   ]
  },
  {
   "cell_type": "code",
   "execution_count": 7,
   "id": "8b2ce6ef",
   "metadata": {
    "trusted": false
   },
   "outputs": [],
   "source": [
    "# Приведем тип user_id и track_id к int64\n",
    "\n",
    "interactions.reset_index(drop=True, inplace=True )\n",
    "interactions['user_id'] = interactions['user_id'].astype('int64')\n",
    "interactions['track_id'] = interactions['track_id'].astype('int64')"
   ]
  },
  {
   "cell_type": "code",
   "execution_count": 8,
   "id": "96203e5e",
   "metadata": {
    "trusted": false
   },
   "outputs": [
    {
     "data": {
      "text/html": [
       "<div>\n",
       "<style scoped>\n",
       "    .dataframe tbody tr th:only-of-type {\n",
       "        vertical-align: middle;\n",
       "    }\n",
       "\n",
       "    .dataframe tbody tr th {\n",
       "        vertical-align: top;\n",
       "    }\n",
       "\n",
       "    .dataframe thead th {\n",
       "        text-align: right;\n",
       "    }\n",
       "</style>\n",
       "<table border=\"1\" class=\"dataframe\">\n",
       "  <thead>\n",
       "    <tr style=\"text-align: right;\">\n",
       "      <th></th>\n",
       "      <th>track_id</th>\n",
       "      <th>albums</th>\n",
       "      <th>artists</th>\n",
       "      <th>genres</th>\n",
       "    </tr>\n",
       "  </thead>\n",
       "  <tbody>\n",
       "  </tbody>\n",
       "</table>\n",
       "</div>"
      ],
      "text/plain": [
       "Empty DataFrame\n",
       "Columns: [track_id, albums, artists, genres]\n",
       "Index: []"
      ]
     },
     "execution_count": 8,
     "metadata": {},
     "output_type": "execute_result"
    }
   ],
   "source": [
    "# Проверим наличие в треках неизвестных идентификаторов альбомов\n",
    "\n",
    "all_album_ids = set(catalog.loc[catalog['type'] == 'album', 'id'])\n",
    "potentially_unidentified_albums = tracks[~tracks['albums'].apply(set).apply(lambda x: x.issubset(all_album_ids))]\n",
    "potentially_unidentified_albums"
   ]
  },
  {
   "cell_type": "code",
   "execution_count": 9,
   "id": "a6041644",
   "metadata": {
    "trusted": false
   },
   "outputs": [
    {
     "data": {
      "text/html": [
       "<div>\n",
       "<style scoped>\n",
       "    .dataframe tbody tr th:only-of-type {\n",
       "        vertical-align: middle;\n",
       "    }\n",
       "\n",
       "    .dataframe tbody tr th {\n",
       "        vertical-align: top;\n",
       "    }\n",
       "\n",
       "    .dataframe thead th {\n",
       "        text-align: right;\n",
       "    }\n",
       "</style>\n",
       "<table border=\"1\" class=\"dataframe\">\n",
       "  <thead>\n",
       "    <tr style=\"text-align: right;\">\n",
       "      <th></th>\n",
       "      <th>track_id</th>\n",
       "      <th>albums</th>\n",
       "      <th>artists</th>\n",
       "      <th>genres</th>\n",
       "    </tr>\n",
       "  </thead>\n",
       "  <tbody>\n",
       "  </tbody>\n",
       "</table>\n",
       "</div>"
      ],
      "text/plain": [
       "Empty DataFrame\n",
       "Columns: [track_id, albums, artists, genres]\n",
       "Index: []"
      ]
     },
     "execution_count": 9,
     "metadata": {},
     "output_type": "execute_result"
    }
   ],
   "source": [
    "# Проверим наличие в треках неизвестных идентификаторов исполнителей\n",
    "\n",
    "all_artist_ids = set(catalog.loc[catalog['type'] == 'artist', 'id'])\n",
    "potentially_unidentified_artists = tracks[~tracks['artists'].apply(set).apply(lambda x: x.issubset(all_artist_ids))]\n",
    "potentially_unidentified_artists"
   ]
  },
  {
   "cell_type": "code",
   "execution_count": 10,
   "id": "5ef59bb9",
   "metadata": {
    "trusted": false
   },
   "outputs": [],
   "source": [
    "# Проверим наличие в треках неизвестных идентификаторов жанров\n",
    "\n",
    "all_genres_ids = set(catalog.loc[catalog['type'] == 'genre', 'id'])\n",
    "exploded_tracks = tracks.explode('genres')\n",
    "unidentified_genres = exploded_tracks[~exploded_tracks['genres'].apply(lambda x: True if x in all_genres_ids else False)]"
   ]
  },
  {
   "cell_type": "code",
   "execution_count": 11,
   "id": "29352b1a",
   "metadata": {
    "trusted": false
   },
   "outputs": [],
   "source": [
    "genre_ids = list(unidentified_genres['genres'].dropna().unique())\n",
    "genre_types = ['genre' for i in range(len(genre_ids))]\n",
    "genre_names = ['other' for i in range(len(genre_ids))]\n",
    "\n",
    "added_genres = pd.DataFrame({'id':genre_ids,\n",
    "                             'type':genre_types,\n",
    "                             'name':genre_names})\n",
    "catalog = pd.concat([catalog, added_genres], ignore_index=True)"
   ]
  },
  {
   "cell_type": "markdown",
   "id": "318b573a-9e2d-4808-95db-60cfb8bbdb73",
   "metadata": {
    "slideshow": {
     "slide_type": ""
    },
    "tags": []
   },
   "source": [
    "# Выводы"
   ]
  },
  {
   "cell_type": "markdown",
   "id": "caa96e12-36a8-4401-8f11-98627a49ae9d",
   "metadata": {},
   "source": [
    "Приведём выводы по первому знакомству с данными:\n",
    "- есть ли с данными явные проблемы,\n",
    "- какие корректирующие действия (в целом) были предприняты."
   ]
  },
  {
   "cell_type": "code",
   "execution_count": 12,
   "id": "16da6b65",
   "metadata": {
    "trusted": false
   },
   "outputs": [],
   "source": [
    "# С данными явных проблем не замечено, пришлось лишь привести колонки id треков \n",
    "# и пользователей из таблицы interactions, а также дополнить таблицу каталога 30ю \n",
    "# идентификаторами неизвестных жанров и отнести их к категории other."
   ]
  },
  {
   "cell_type": "markdown",
   "id": "b61336cc",
   "metadata": {},
   "source": [
    "<b>Комментарий от ревьюера v1</b>\n",
    "<div class=\"alert alert-block alert-success\">\n",
    "✔️ ОК!\n",
    "</div>"
   ]
  },
  {
   "cell_type": "markdown",
   "id": "7bc3296b-eba6-4333-a78d-b9304aa87e3d",
   "metadata": {},
   "source": [
    "# === ЭТАП 2 ==="
   ]
  },
  {
   "cell_type": "markdown",
   "id": "68e73960-fd38-4e15-8db0-9a25c35dfd25",
   "metadata": {},
   "source": [
    "# EDA"
   ]
  },
  {
   "cell_type": "markdown",
   "id": "a30e823e-8e0f-4a76-a02e-8d1ba8bf0f8a",
   "metadata": {},
   "source": [
    "Распределение количества прослушанных треков."
   ]
  },
  {
   "cell_type": "code",
   "execution_count": 25,
   "id": "9bf5eaba-35f7-4da7-be59-9ab4a34b2423",
   "metadata": {
    "trusted": false
   },
   "outputs": [
    {
     "data": {
      "image/png": "[encoded data removed]",
      "text/plain": [
       "<Figure size 640x480 with 1 Axes>"
      ]
     },
     "metadata": {
      "image/png": {
       "height": 469,
       "width": 602
      }
     },
     "output_type": "display_data"
    }
   ],
   "source": [
    "user_aggregate_plays = interactions.groupby('user_id')\\\n",
    "    .agg({'track_id': 'count'})\\\n",
    "        .rename(columns={'track_id': 'n_tracks'})\n",
    "user_aggregate_plays = user_aggregate_plays.sort_values(by='n_tracks',\n",
    "                                                        ascending=False).reset_index()\n",
    "user_aggregate_plays_under_50 = user_aggregate_plays[user_aggregate_plays['n_tracks'] < 50]['n_tracks'].reset_index(drop=True)\n",
    "\n",
    "plt.title(\"Распределение пользователей по кол-ву прослушанных треков\")\n",
    "plt.hist(user_aggregate_plays['n_tracks'], bins=100);\n",
    "plt.xlabel(\"Кол-во прослушанных треков\");\n",
    "plt.ylabel(\"Кол-во пользователей\");"
   ]
  },
  {
   "cell_type": "code",
   "execution_count": 20,
   "id": "abca37d1",
   "metadata": {},
   "outputs": [],
   "source": [
    "user_aggregate_plays['n_tracks_log'] = np.log(user_aggregate_plays['n_tracks'])"
   ]
  },
  {
   "cell_type": "code",
   "execution_count": 23,
   "id": "9db435ca",
   "metadata": {},
   "outputs": [
    {
     "data": {
      "image/png": "[encoded data removed]",
      "text/plain": [
       "<Figure size 640x480 with 1 Axes>"
      ]
     },
     "metadata": {
      "image/png": {
       "height": 454,
       "width": 589
      }
     },
     "output_type": "display_data"
    }
   ],
   "source": [
    "plt.title(\"Логарифмическая шкала\")\n",
    "plt.hist(user_aggregate_plays['n_tracks_log'], bins=100);\n",
    "plt.xlabel(\"Кол-во прослушанных треков\");\n",
    "plt.ylabel(\"Кол-во пользователей\");"
   ]
  },
  {
   "cell_type": "markdown",
   "id": "1f35f1a3",
   "metadata": {},
   "source": [
    "<b>Комментарий от ревьюера v1</b>\n",
    "<div class=\"alert alert-block alert-success\">\n",
    "✔️ Импорты сделаны, отлично! \n",
    "</div>\n",
    "\n",
    "<div class=\"alert alert-warning\">\n",
    "\n",
    "⚠️ Нагляднее было бы, если оси были подписаны. Также стоит рассмотреть применения логарифмической шкалы для оси Y.\n",
    "</div>"
   ]
  },
  {
   "cell_type": "markdown",
   "id": "ca10a755",
   "metadata": {},
   "source": [
    "<div class=\"alert alert-block alert-info\">\n",
    "<b>Добавил подписи и лог шкалу</b> ...\n",
    "</div>"
   ]
  },
  {
   "cell_type": "code",
   "execution_count": 27,
   "id": "9ebc0a68",
   "metadata": {
    "trusted": false
   },
   "outputs": [
    {
     "data": {
      "image/png": "[encoded data removed]",
      "text/plain": [
       "<Figure size 640x480 with 1 Axes>"
      ]
     },
     "metadata": {
      "image/png": {
       "height": 454,
       "width": 616
      }
     },
     "output_type": "display_data"
    }
   ],
   "source": [
    "plt.title(\"Распределение пользователей прослушавших до 30 треков\")\n",
    "\n",
    "plt.hist(user_aggregate_plays_under_50);\n",
    "plt.xlim(0, 30);\n",
    "\n",
    "plt.xlabel(\"Кол-во прослушанных треков\");\n",
    "plt.ylabel(\"Кол-во пользователей\");"
   ]
  },
  {
   "cell_type": "markdown",
   "id": "d765519a-18dd-4d30-9e29-cc2d84cacd79",
   "metadata": {},
   "source": [
    "Наиболее популярные треки"
   ]
  },
  {
   "cell_type": "code",
   "execution_count": 29,
   "id": "aecaf630-fde0-4860-b84a-42c933a9606e",
   "metadata": {
    "trusted": false
   },
   "outputs": [
    {
     "data": {
      "image/png": "[encoded data removed]",
      "text/plain": [
       "<Figure size 640x480 with 1 Axes>"
      ]
     },
     "metadata": {
      "image/png": {
       "height": 454,
       "width": 598
      }
     },
     "output_type": "display_data"
    }
   ],
   "source": [
    "track_aggregate_plays = interactions.groupby('track_id')\\\n",
    "    .agg({'user_id': 'count'})\\\n",
    "        .rename(columns={'user_id': 'num_plays'})\n",
    "track_aggregate_plays = track_aggregate_plays.sort_values(by='num_plays', \n",
    "                                                          ascending=False).reset_index()\n",
    "track_aggregate_plays_under_50 = track_aggregate_plays[track_aggregate_plays['num_plays'] < 50]['num_plays'].reset_index(drop=True)\n",
    "\n",
    "plt.title(\"Распределение треков по прослушиваниям\");\n",
    "plt.hist(track_aggregate_plays_under_50);\n",
    "plt.xlabel(\"Кол-во прослушиваний\");\n",
    "plt.ylabel(\"Кол-во треков\");"
   ]
  },
  {
   "cell_type": "code",
   "execution_count": 16,
   "id": "39f7a5bd",
   "metadata": {
    "trusted": false
   },
   "outputs": [
    {
     "data": {
      "text/html": [
       "<div>\n",
       "<style scoped>\n",
       "    .dataframe tbody tr th:only-of-type {\n",
       "        vertical-align: middle;\n",
       "    }\n",
       "\n",
       "    .dataframe tbody tr th {\n",
       "        vertical-align: top;\n",
       "    }\n",
       "\n",
       "    .dataframe thead th {\n",
       "        text-align: right;\n",
       "    }\n",
       "</style>\n",
       "<table border=\"1\" class=\"dataframe\">\n",
       "  <thead>\n",
       "    <tr style=\"text-align: right;\">\n",
       "      <th></th>\n",
       "      <th>track_id</th>\n",
       "      <th>num_plays</th>\n",
       "      <th>id</th>\n",
       "      <th>name</th>\n",
       "    </tr>\n",
       "  </thead>\n",
       "  <tbody>\n",
       "    <tr>\n",
       "      <th>0</th>\n",
       "      <td>53404</td>\n",
       "      <td>111062</td>\n",
       "      <td>53404</td>\n",
       "      <td>Smells Like Teen Spirit</td>\n",
       "    </tr>\n",
       "    <tr>\n",
       "      <th>1</th>\n",
       "      <td>33311009</td>\n",
       "      <td>106921</td>\n",
       "      <td>33311009</td>\n",
       "      <td>Believer</td>\n",
       "    </tr>\n",
       "    <tr>\n",
       "      <th>2</th>\n",
       "      <td>178529</td>\n",
       "      <td>101924</td>\n",
       "      <td>178529</td>\n",
       "      <td>Numb</td>\n",
       "    </tr>\n",
       "    <tr>\n",
       "      <th>3</th>\n",
       "      <td>35505245</td>\n",
       "      <td>99490</td>\n",
       "      <td>35505245</td>\n",
       "      <td>I Got Love</td>\n",
       "    </tr>\n",
       "    <tr>\n",
       "      <th>4</th>\n",
       "      <td>65851540</td>\n",
       "      <td>86670</td>\n",
       "      <td>65851540</td>\n",
       "      <td>Юность</td>\n",
       "    </tr>\n",
       "    <tr>\n",
       "      <th>5</th>\n",
       "      <td>24692821</td>\n",
       "      <td>86246</td>\n",
       "      <td>24692821</td>\n",
       "      <td>Way Down We Go</td>\n",
       "    </tr>\n",
       "    <tr>\n",
       "      <th>6</th>\n",
       "      <td>32947997</td>\n",
       "      <td>85886</td>\n",
       "      <td>32947997</td>\n",
       "      <td>Shape of You</td>\n",
       "    </tr>\n",
       "    <tr>\n",
       "      <th>7</th>\n",
       "      <td>51241318</td>\n",
       "      <td>85244</td>\n",
       "      <td>51241318</td>\n",
       "      <td>In The End</td>\n",
       "    </tr>\n",
       "    <tr>\n",
       "      <th>8</th>\n",
       "      <td>795836</td>\n",
       "      <td>85042</td>\n",
       "      <td>795836</td>\n",
       "      <td>Shape Of My Heart</td>\n",
       "    </tr>\n",
       "    <tr>\n",
       "      <th>9</th>\n",
       "      <td>45499814</td>\n",
       "      <td>84748</td>\n",
       "      <td>45499814</td>\n",
       "      <td>Life</td>\n",
       "    </tr>\n",
       "  </tbody>\n",
       "</table>\n",
       "</div>"
      ],
      "text/plain": [
       "   track_id  num_plays        id                     name\n",
       "0     53404     111062     53404  Smells Like Teen Spirit\n",
       "1  33311009     106921  33311009                 Believer\n",
       "2    178529     101924    178529                     Numb\n",
       "3  35505245      99490  35505245               I Got Love\n",
       "4  65851540      86670  65851540                   Юность\n",
       "5  24692821      86246  24692821           Way Down We Go\n",
       "6  32947997      85886  32947997             Shape of You\n",
       "7  51241318      85244  51241318               In The End\n",
       "8    795836      85042    795836        Shape Of My Heart\n",
       "9  45499814      84748  45499814                     Life"
      ]
     },
     "execution_count": 16,
     "metadata": {},
     "output_type": "execute_result"
    }
   ],
   "source": [
    "pd.merge(track_aggregate_plays, \n",
    "         catalog[catalog['type'] == 'track'][['id', 'name']],\n",
    "         left_on='track_id',\n",
    "         right_on='id',\n",
    "         how='left').head(10)"
   ]
  },
  {
   "cell_type": "markdown",
   "id": "709eb244",
   "metadata": {},
   "source": [
    "Топ 5 треков от nirvana, imagine dragons, lin park и муджус"
   ]
  },
  {
   "cell_type": "markdown",
   "id": "b066ec96",
   "metadata": {},
   "source": [
    "<b>Комментарий от ревьюера v1</b>\n",
    "<div class=\"alert alert-block alert-success\">\n",
    "✔️ Выглядит логично! Спасибо за визуализацию!\n",
    "</div>"
   ]
  },
  {
   "cell_type": "markdown",
   "id": "3f0a0520",
   "metadata": {},
   "source": [
    "Наиболее популярные жанры"
   ]
  },
  {
   "cell_type": "code",
   "execution_count": 17,
   "id": "99b38157",
   "metadata": {
    "trusted": false
   },
   "outputs": [
    {
     "data": {
      "text/html": [
       "<div>\n",
       "<style scoped>\n",
       "    .dataframe tbody tr th:only-of-type {\n",
       "        vertical-align: middle;\n",
       "    }\n",
       "\n",
       "    .dataframe tbody tr th {\n",
       "        vertical-align: top;\n",
       "    }\n",
       "\n",
       "    .dataframe thead th {\n",
       "        text-align: right;\n",
       "    }\n",
       "</style>\n",
       "<table border=\"1\" class=\"dataframe\">\n",
       "  <thead>\n",
       "    <tr style=\"text-align: right;\">\n",
       "      <th></th>\n",
       "      <th>genres</th>\n",
       "      <th>num_plays</th>\n",
       "      <th>id</th>\n",
       "      <th>name</th>\n",
       "    </tr>\n",
       "  </thead>\n",
       "  <tbody>\n",
       "    <tr>\n",
       "      <th>0</th>\n",
       "      <td>11</td>\n",
       "      <td>55578312</td>\n",
       "      <td>11</td>\n",
       "      <td>pop</td>\n",
       "    </tr>\n",
       "    <tr>\n",
       "      <th>1</th>\n",
       "      <td>75</td>\n",
       "      <td>37799821</td>\n",
       "      <td>75</td>\n",
       "      <td>rap</td>\n",
       "    </tr>\n",
       "    <tr>\n",
       "      <th>2</th>\n",
       "      <td>102</td>\n",
       "      <td>31092013</td>\n",
       "      <td>102</td>\n",
       "      <td>allrock</td>\n",
       "    </tr>\n",
       "    <tr>\n",
       "      <th>3</th>\n",
       "      <td>20</td>\n",
       "      <td>26626241</td>\n",
       "      <td>20</td>\n",
       "      <td>ruspop</td>\n",
       "    </tr>\n",
       "    <tr>\n",
       "      <th>4</th>\n",
       "      <td>3</td>\n",
       "      <td>25303695</td>\n",
       "      <td>3</td>\n",
       "      <td>rusrap</td>\n",
       "    </tr>\n",
       "    <tr>\n",
       "      <th>5</th>\n",
       "      <td>68</td>\n",
       "      <td>20120981</td>\n",
       "      <td>68</td>\n",
       "      <td>electronics</td>\n",
       "    </tr>\n",
       "    <tr>\n",
       "      <th>6</th>\n",
       "      <td>16</td>\n",
       "      <td>16291557</td>\n",
       "      <td>16</td>\n",
       "      <td>dance</td>\n",
       "    </tr>\n",
       "    <tr>\n",
       "      <th>7</th>\n",
       "      <td>2</td>\n",
       "      <td>13166147</td>\n",
       "      <td>2</td>\n",
       "      <td>rusrock</td>\n",
       "    </tr>\n",
       "    <tr>\n",
       "      <th>8</th>\n",
       "      <td>14</td>\n",
       "      <td>12772644</td>\n",
       "      <td>14</td>\n",
       "      <td>rock</td>\n",
       "    </tr>\n",
       "    <tr>\n",
       "      <th>9</th>\n",
       "      <td>47</td>\n",
       "      <td>12437375</td>\n",
       "      <td>47</td>\n",
       "      <td>metal</td>\n",
       "    </tr>\n",
       "  </tbody>\n",
       "</table>\n",
       "</div>"
      ],
      "text/plain": [
       "   genres  num_plays   id         name\n",
       "0      11   55578312   11          pop\n",
       "1      75   37799821   75          rap\n",
       "2     102   31092013  102      allrock\n",
       "3      20   26626241   20       ruspop\n",
       "4       3   25303695    3       rusrap\n",
       "5      68   20120981   68  electronics\n",
       "6      16   16291557   16        dance\n",
       "7       2   13166147    2      rusrock\n",
       "8      14   12772644   14         rock\n",
       "9      47   12437375   47        metal"
      ]
     },
     "execution_count": 17,
     "metadata": {},
     "output_type": "execute_result"
    }
   ],
   "source": [
    "enriched_track_plays=  pd.merge(track_aggregate_plays, \n",
    "                                tracks[['track_id', 'genres']], \n",
    "                                left_on='track_id',\n",
    "                                right_on='track_id', \n",
    "                                how='left')\n",
    "\n",
    "enriched_track_plays_exploded = enriched_track_plays.explode('genres')\n",
    "genres_agg = enriched_track_plays_exploded.groupby('genres')\\\n",
    "    .agg({'num_plays':'sum'})\\\n",
    "        .sort_values('num_plays', ascending=False)\\\n",
    "            .reset_index()\n",
    "\n",
    "pd.merge(genres_agg,\n",
    "         catalog[catalog['type'] == 'genre'][['id', 'name']],\n",
    "         left_on='genres',\n",
    "         right_on='id').head(10)"
   ]
  },
  {
   "cell_type": "markdown",
   "id": "91ac5ee7",
   "metadata": {},
   "source": [
    "Видим, что самые популярные жанры - поп, рэп, рок, русские поп и рэп"
   ]
  },
  {
   "cell_type": "markdown",
   "id": "15254e66-e80e-473b-ba24-abebea5ccac7",
   "metadata": {},
   "source": [
    "Треки, которые никто не прослушал"
   ]
  },
  {
   "cell_type": "code",
   "execution_count": 18,
   "id": "50bc50c6-2d83-4c7e-97fa-3e7627978438",
   "metadata": {
    "trusted": false
   },
   "outputs": [
    {
     "data": {
      "text/plain": [
       "set()"
      ]
     },
     "execution_count": 18,
     "metadata": {},
     "output_type": "execute_result"
    }
   ],
   "source": [
    "set(tracks['track_id']) - set(enriched_track_plays['track_id'])"
   ]
  },
  {
   "cell_type": "code",
   "execution_count": 19,
   "id": "1364b2ef",
   "metadata": {
    "trusted": false
   },
   "outputs": [
    {
     "data": {
      "text/html": [
       "<div>\n",
       "<style scoped>\n",
       "    .dataframe tbody tr th:only-of-type {\n",
       "        vertical-align: middle;\n",
       "    }\n",
       "\n",
       "    .dataframe tbody tr th {\n",
       "        vertical-align: top;\n",
       "    }\n",
       "\n",
       "    .dataframe thead th {\n",
       "        text-align: right;\n",
       "    }\n",
       "</style>\n",
       "<table border=\"1\" class=\"dataframe\">\n",
       "  <thead>\n",
       "    <tr style=\"text-align: right;\">\n",
       "      <th></th>\n",
       "      <th>track_id</th>\n",
       "      <th>num_plays</th>\n",
       "      <th>genres</th>\n",
       "    </tr>\n",
       "  </thead>\n",
       "  <tbody>\n",
       "    <tr>\n",
       "      <th>946210</th>\n",
       "      <td>26</td>\n",
       "      <td>5</td>\n",
       "      <td>[11, 21]</td>\n",
       "    </tr>\n",
       "    <tr>\n",
       "      <th>946211</th>\n",
       "      <td>101223525</td>\n",
       "      <td>5</td>\n",
       "      <td>[44, 75]</td>\n",
       "    </tr>\n",
       "    <tr>\n",
       "      <th>946212</th>\n",
       "      <td>101223837</td>\n",
       "      <td>5</td>\n",
       "      <td>[70]</td>\n",
       "    </tr>\n",
       "    <tr>\n",
       "      <th>946213</th>\n",
       "      <td>101224609</td>\n",
       "      <td>5</td>\n",
       "      <td>[11, 20]</td>\n",
       "    </tr>\n",
       "    <tr>\n",
       "      <th>946214</th>\n",
       "      <td>101227724</td>\n",
       "      <td>5</td>\n",
       "      <td>[16]</td>\n",
       "    </tr>\n",
       "    <tr>\n",
       "      <th>...</th>\n",
       "      <td>...</td>\n",
       "      <td>...</td>\n",
       "      <td>...</td>\n",
       "    </tr>\n",
       "    <tr>\n",
       "      <th>999995</th>\n",
       "      <td>84391078</td>\n",
       "      <td>5</td>\n",
       "      <td>[62]</td>\n",
       "    </tr>\n",
       "    <tr>\n",
       "      <th>999996</th>\n",
       "      <td>84391079</td>\n",
       "      <td>5</td>\n",
       "      <td>[62]</td>\n",
       "    </tr>\n",
       "    <tr>\n",
       "      <th>999997</th>\n",
       "      <td>84391080</td>\n",
       "      <td>5</td>\n",
       "      <td>[62]</td>\n",
       "    </tr>\n",
       "    <tr>\n",
       "      <th>999998</th>\n",
       "      <td>34766819</td>\n",
       "      <td>5</td>\n",
       "      <td>[13]</td>\n",
       "    </tr>\n",
       "    <tr>\n",
       "      <th>999999</th>\n",
       "      <td>34766901</td>\n",
       "      <td>5</td>\n",
       "      <td>[11]</td>\n",
       "    </tr>\n",
       "  </tbody>\n",
       "</table>\n",
       "<p>53790 rows × 3 columns</p>\n",
       "</div>"
      ],
      "text/plain": [
       "         track_id  num_plays    genres\n",
       "946210         26          5  [11, 21]\n",
       "946211  101223525          5  [44, 75]\n",
       "946212  101223837          5      [70]\n",
       "946213  101224609          5  [11, 20]\n",
       "946214  101227724          5      [16]\n",
       "...           ...        ...       ...\n",
       "999995   84391078          5      [62]\n",
       "999996   84391079          5      [62]\n",
       "999997   84391080          5      [62]\n",
       "999998   34766819          5      [13]\n",
       "999999   34766901          5      [11]\n",
       "\n",
       "[53790 rows x 3 columns]"
      ]
     },
     "execution_count": 19,
     "metadata": {},
     "output_type": "execute_result"
    }
   ],
   "source": [
    "enriched_track_plays[enriched_track_plays['num_plays'] == 5]"
   ]
  },
  {
   "cell_type": "markdown",
   "id": "1344cc81",
   "metadata": {},
   "source": [
    "Прям совсем непрослушанных треков нет, но наименее прослушанных треков 53к записей из 1kk"
   ]
  },
  {
   "cell_type": "markdown",
   "id": "0d850a07-ef1e-462f-891a-1cf89f2e24ef",
   "metadata": {},
   "source": [
    "# Преобразование данных"
   ]
  },
  {
   "cell_type": "markdown",
   "id": "fabcf8d2-1192-4df5-b20b-fbb84689f57a",
   "metadata": {},
   "source": [
    "Преобразуем данные в формат, более пригодный для дальнейшего использования в расчётах рекомендаций."
   ]
  },
  {
   "cell_type": "code",
   "execution_count": 20,
   "id": "a425556a-9382-45ca-a04e-f1981a522126",
   "metadata": {
    "trusted": false
   },
   "outputs": [],
   "source": [
    "items = tracks.copy()\n",
    "events = interactions.copy()\n",
    "\n",
    "del tracks \n",
    "del interactions"
   ]
  },
  {
   "cell_type": "code",
   "execution_count": 8,
   "id": "c2eefd2d",
   "metadata": {
    "trusted": false
   },
   "outputs": [
    {
     "name": "stdout",
     "output_type": "stream",
     "text": [
      "Variable       Type         Data/Info\n",
      "-------------------------------------\n",
      "catalog        DataFrame                    id   type<...>1812471 rows x 3 columns]\n",
      "events         DataFrame               user_id    ite<...>2619423 rows x 4 columns]\n",
      "events_test    DataFrame               user_id    ite<...>3896365 rows x 4 columns]\n",
      "events_train   DataFrame               user_id   item<...>8723058 rows x 4 columns]\n",
      "items          DataFrame              item_id        <...>1000000 rows x 4 columns]\n"
     ]
    }
   ],
   "source": [
    "%whos DataFrame"
   ]
  },
  {
   "cell_type": "code",
   "execution_count": 22,
   "id": "2ec45801",
   "metadata": {
    "trusted": false
   },
   "outputs": [],
   "source": [
    "del added_genres\n",
    "del catalog \n",
    "del enriched_track_plays\n",
    "del enriched_track_plays_exploded\n",
    "del exploded_tracks\n",
    "del genres_agg\n",
    "del potentially_unidentified_albums\n",
    "del potentially_unidentified_artists\n",
    "del track_aggregate_plays\n",
    "del unidentified_genres\n",
    "del user_aggregate_plays"
   ]
  },
  {
   "cell_type": "code",
   "execution_count": 22,
   "id": "17ef7601",
   "metadata": {
    "trusted": false
   },
   "outputs": [],
   "source": [
    "user_counts = events['user_id'].value_counts()\n",
    "uids = user_counts[user_counts > 5].index\n",
    "\n",
    "filtered_events = events[events['user_id'].isin(uids)]\n",
    "# filtered_events.sort_values(by='user_id', inplace=True)\n",
    "filtered_events.reset_index(drop=True, inplace=True)\n",
    "\n",
    "cols_to_rename = {'track_id': 'item_id'}\n",
    "filtered_events.rename(columns=cols_to_rename, inplace=True)\n",
    "items.rename(columns=cols_to_rename, inplace=True)"
   ]
  },
  {
   "cell_type": "markdown",
   "id": "4d1be653-eed8-4fa0-a9c5-3811b080d71d",
   "metadata": {},
   "source": [
    "# Сохранение данных"
   ]
  },
  {
   "cell_type": "markdown",
   "id": "36f1314a-3af3-4faf-a0b1-3045173d1500",
   "metadata": {},
   "source": [
    "Сохраним данные в двух файлах в персональном S3-бакете по пути `recsys/data/`:\n",
    "- `items.parquet` — все данные о музыкальных треках,\n",
    "- `events.parquet` — все данные о взаимодействиях."
   ]
  },
  {
   "cell_type": "code",
   "execution_count": null,
   "id": "737e617a",
   "metadata": {
    "trusted": false
   },
   "outputs": [],
   "source": [
    "# s3.delete_object(Bucket='s3-student-mle-20240625-3348db98ef', \n",
    "#                  Key='recsys/data/events.parquet')\n",
    "# s3.delete_object(Bucket='s3-student-mle-20240625-3348db98ef', \n",
    "#                  Key='recsys/data/items.parquet')\n",
    "# s3.delete_object(Bucket='s3-student-mle-20240625-3348db98ef', \n",
    "#                  Key='recsys/data/catalog.parquet')"
   ]
  },
  {
   "cell_type": "code",
   "execution_count": null,
   "id": "9f77af17-7705-4fae-9aad-db579b39faad",
   "metadata": {
    "trusted": false
   },
   "outputs": [],
   "source": [
    "import io\n",
    "\n",
    "def put_df_to_s3(df: pd.DataFrame, bucket_name: str, file_key: str, s3_client):\n",
    "    buffer = io.BytesIO()\n",
    "    df.to_parquet(buffer, index=False)\n",
    "    buffer.seek(0)\n",
    "    \n",
    "    s3_client.put_object(Bucket=bucket_name, Key=file_key, Body=buffer)\n",
    "    print(f\"Uploaded {file_key} to {bucket_name}.\")\n",
    "\n",
    "put_df_to_s3(filtered_events, bucket_name, 'recsys/data/events.parquet', s3)\n",
    "put_df_to_s3(items, bucket_name, 'recsys/data/items.parquet', s3)\n",
    "put_df_to_s3(catalog, bucket_name, 'recsys/data/catalog.parquet', s3)\n"
   ]
  },
  {
   "cell_type": "code",
   "execution_count": 3,
   "id": "19bcdae0",
   "metadata": {
    "trusted": false
   },
   "outputs": [
    {
     "name": "stdout",
     "output_type": "stream",
     "text": [
      "recsys/data/als_recommendations.csv\n",
      "recsys/data/catalog.parquet\n",
      "recsys/data/events.parquet\n",
      "recsys/data/items.parquet\n",
      "recsys/data/top_popular.parquet\n"
     ]
    }
   ],
   "source": [
    " \n",
    "if s3.list_objects(Bucket=bucket_name).get('Contents'):\n",
    "    for key in s3.list_objects(Bucket=bucket_name)['Contents']:\n",
    "        if 'recsys' in str(key['Key']):\n",
    "            print(key['Key'])"
   ]
  },
  {
   "cell_type": "markdown",
   "id": "72ecbbed-c560-44d9-9c14-86c7dc76f399",
   "metadata": {},
   "source": [
    "# Очистка памяти"
   ]
  },
  {
   "cell_type": "markdown",
   "id": "b5358ede-ba6e-4c4f-bd73-5b9344f0ba79",
   "metadata": {},
   "source": [
    "Здесь, может понадобится очистка памяти для высвобождения ресурсов для выполнения кода ниже. \n",
    "\n",
    "Приведите соответствующие код, комментарии, например:\n",
    "- код для удаление более ненужных переменных,\n",
    "- комментарий, что следует перезапустить kernel, выполнить такие-то начальные секции и продолжить с этапа 3."
   ]
  },
  {
   "cell_type": "code",
   "execution_count": 20,
   "id": "767fe920-e12e-4ad8-b04e-56e8091fac9f",
   "metadata": {
    "trusted": false
   },
   "outputs": [
    {
     "name": "stdout",
     "output_type": "stream",
     "text": [
      "Variable          Type         Data/Info\n",
      "----------------------------------------\n",
      "catalog           DataFrame                    id   type<...>1812471 rows x 3 columns]\n",
      "events            DataFrame         user_id   track_id  <...>2629898 rows x 4 columns]\n",
      "filtered_events   DataFrame               user_id    ite<...>2619423 rows x 4 columns]\n",
      "items             DataFrame              item_id        <...>1000000 rows x 4 columns]\n"
     ]
    }
   ],
   "source": [
    "%whos DataFrame"
   ]
  },
  {
   "cell_type": "code",
   "execution_count": 21,
   "id": "72e67169",
   "metadata": {
    "trusted": false
   },
   "outputs": [],
   "source": [
    "del events"
   ]
  },
  {
   "cell_type": "markdown",
   "id": "0b9a6595",
   "metadata": {},
   "source": [
    " <b>Комментарий от ревьюера v1</b>\n",
    " \n",
    "<div class=\"alert alert-block alert-success\">\n",
    "✔️ EDA проведен, отлично!\n",
    "</div>\n",
    "\n",
    "<div class=\"alert alert-warning\">\n",
    "⚠️ После EDA хотелось бы видеть выводы и выдвинутые гипотезы, которые можно проверить при моделировании. Ведь в этом ценность EDA.\n",
    "</div>"
   ]
  },
  {
   "cell_type": "markdown",
   "id": "03ad2df7",
   "metadata": {},
   "source": [
    "<div class=\"alert alert-block alert-info\">\n",
    "<b>Ага, добавил небольшие выводы ниже</b>\n",
    "</div>"
   ]
  },
  {
   "cell_type": "markdown",
   "id": "a4103934",
   "metadata": {},
   "source": [
    "Мы видим, что большинство пользователей либо не пользуются сервисом, либо прослушивают какое-то миннимальное количество треков, например до 5.\n",
    "Наши данные не включают треки, для которых нет прослушиваний, и наименьшее количество прослешиваний для трека равно 5. В то же время, большинство треков находится в начале распределения и были прослушаны в районе 5-15 раз.\n",
    "\n",
    "Из этого может следовать, что рекоммендации через популярные треки может хорошо себя показать, так как пользователи не склонны к самостоятельному поиску и иизучению треков."
   ]
  },
  {
   "cell_type": "markdown",
   "id": "708503df-ee89-4cf3-8489-093dc478e2a8",
   "metadata": {},
   "source": [
    "# === ЭТАП 3 ==="
   ]
  },
  {
   "cell_type": "markdown",
   "id": "fd77de22-e10f-4b42-85c1-8fb6f805fe68",
   "metadata": {},
   "source": [
    "# Загрузка данных"
   ]
  },
  {
   "cell_type": "markdown",
   "id": "780a4241-1ecd-4a3e-bbb3-fc2f6ca94f68",
   "metadata": {},
   "source": [
    "Если необходимо, то загружаем items.parquet, events.parquet."
   ]
  },
  {
   "cell_type": "code",
   "execution_count": 36,
   "id": "185effee",
   "metadata": {
    "trusted": false
   },
   "outputs": [],
   "source": [
    "import warnings\n",
    "warnings.filterwarnings('ignore')\n",
    "\n",
    "import logging\n",
    "\n",
    "# !pip install matplotlib\n",
    "import matplotlib.pyplot as plt\n",
    "import numpy as np\n",
    "import pandas as pd\n",
    "\n",
    "%matplotlib inline\n",
    "%config InlineBackend.figure_format = 'png'\n",
    "%config InlineBackend.figure_format = 'retina'"
   ]
  },
  {
   "cell_type": "code",
   "execution_count": 37,
   "id": "6c0cdb8a",
   "metadata": {
    "trusted": false
   },
   "outputs": [],
   "source": [
    "# !pip install boto3\n",
    "# !pip install python-dotenv"
   ]
  },
  {
   "cell_type": "code",
   "execution_count": 38,
   "id": "5db1e801-5845-4ce3-86f2-c2fa30f68cc5",
   "metadata": {
    "trusted": false
   },
   "outputs": [],
   "source": [
    "import boto3\n",
    "import os\n",
    "import io\n",
    "import csv\n",
    "from dotenv import load_dotenv\n",
    "load_dotenv()\n",
    "\n",
    "def get_session_student():\n",
    "    session = boto3.session.Session()\n",
    "    return session.client(\n",
    "        service_name='s3',\n",
    "        endpoint_url='https://storage.yandexcloud.net',\n",
    "        aws_access_key_id=os.environ.get('AWS_ACCESS_KEY_ID_STUDENT'),\n",
    "        aws_secret_access_key=os.environ.get('AWS_SECRET_ACCESS_KEY_STUDENT')\n",
    "    )\n",
    "\n",
    "def load_par_from_s3(bucket_name, key_name, s3_client):\n",
    "    parquet_buffer = io.BytesIO()\n",
    "    s3_client.download_fileobj(bucket_name, key_name, parquet_buffer)\n",
    "    parquet_buffer.seek(0)\n",
    "    df = pd.read_parquet(parquet_buffer)\n",
    "    return df\n",
    " \n",
    "s3 = get_session_student()\n",
    "bucket_name = os.environ.get('S3_BUCKET_NAME')\n",
    "\n",
    "events = load_par_from_s3(\n",
    "    bucket_name=bucket_name,\n",
    "    key_name='recsys/data/events.parquet',\n",
    "    s3_client=s3\n",
    ")\n",
    "\n",
    "items = load_par_from_s3(\n",
    "    bucket_name=bucket_name,\n",
    "    key_name='recsys/data/items.parquet',\n",
    "    s3_client=s3\n",
    ")\n",
    "\n",
    "catalog = load_par_from_s3(\n",
    "    bucket_name=bucket_name,\n",
    "    key_name='recsys/data/catalog.parquet',\n",
    "    s3_client=s3\n",
    ")\n",
    "\n",
    "# als_recommendations = load_csv_from_s3(\n",
    "#     bucket_name=bucket_name,\n",
    "#     key_name='recsys/data/als_recommendations.csv',\n",
    "#     s3_client=s3\n",
    "# )"
   ]
  },
  {
   "cell_type": "code",
   "execution_count": 45,
   "id": "6630aac5",
   "metadata": {
    "trusted": false
   },
   "outputs": [
    {
     "name": "stdout",
     "output_type": "stream",
     "text": [
      "recsys/data/als_recommendations.npz\n",
      "recsys/data/catalog.parquet\n",
      "recsys/data/events.parquet\n",
      "recsys/data/genres_encoder.npy\n",
      "recsys/data/items.parquet\n",
      "recsys/data/items_encoder.npy\n",
      "recsys/data/user_encoder.npy\n",
      "recsys/recommendations/personal_als.parquet\n",
      "recsys/recommendations/similar.parquet\n"
     ]
    }
   ],
   "source": [
    "if s3.list_objects(Bucket=bucket_name).get('Contents'):\n",
    "    for key in s3.list_objects(Bucket=bucket_name)['Contents']:\n",
    "        if 'recsys' in key['Key']:\n",
    "            print(key['Key'])"
   ]
  },
  {
   "cell_type": "markdown",
   "id": "a694c023-6477-490b-939d-1cfa6f5f1b72",
   "metadata": {},
   "source": [
    "# Разбиение данных"
   ]
  },
  {
   "cell_type": "markdown",
   "id": "fbd5f6e0-54e7-4428-8678-eabce505d82c",
   "metadata": {},
   "source": [
    "Разбиваем данные на тренировочную, тестовую выборки."
   ]
  },
  {
   "cell_type": "code",
   "execution_count": 40,
   "id": "26fe3e3c-8c5f-4437-bf13-9191adef08bb",
   "metadata": {
    "trusted": false
   },
   "outputs": [],
   "source": [
    "date_to_slice_by = pd.to_datetime('2022-12-16')\n",
    "train_idices = events['started_at'] < date_to_slice_by\n",
    "\n",
    "events_train = events[train_idices].copy()\n",
    "events_test = events[~train_idices].copy()"
   ]
  },
  {
   "cell_type": "code",
   "execution_count": 41,
   "id": "a2ff4d2e",
   "metadata": {
    "trusted": false
   },
   "outputs": [
    {
     "name": "stdout",
     "output_type": "stream",
     "text": [
      "Num users in train:  1339127\n",
      "Num users in test:  781881\n",
      "Num common users:  751404\n",
      "Num cold users:  30477\n"
     ]
    }
   ],
   "source": [
    "users_train = events_train['user_id'].drop_duplicates()\n",
    "users_test = events_test['user_id'].drop_duplicates()\n",
    "\n",
    "common_users = set(users_train).intersection(set(users_test))\n",
    "cold_users = list(set(users_test) - set(users_train))\n",
    "\n",
    "print('Num users in train: ', str(len(users_train)))\n",
    "print('Num users in test: ', str(len(users_test)))\n",
    "print('Num common users: ', str(len(common_users)))\n",
    "print('Num cold users: ', str(len(cold_users)))"
   ]
  },
  {
   "cell_type": "markdown",
   "id": "57a78ecc",
   "metadata": {},
   "source": [
    "<b>Комментарий от ревьюера v1</b>\n",
    "\n",
    "<div class=\"alert alert-block alert-success\">\n",
    "    \n",
    "✔️ Отлично, выборки train / test сформированы. \n",
    "\n",
    "Выборки train / test можно получать несколькими способами (см. картинку ниже)\n",
    "</div>"
   ]
  },
  {
   "attachments": {
    "%D1%80%D0%B0%D0%B7%D0%B1%D0%B8%D0%B5%D0%BD%D0%B8%D0%B5.PNG": {
     "image/png": "[encoded data removed]"
    }
   },
   "cell_type": "markdown",
   "id": "3a237387",
   "metadata": {},
   "source": [
    "![%D1%80%D0%B0%D0%B7%D0%B1%D0%B8%D0%B5%D0%BD%D0%B8%D0%B5.PNG](attachment:%D1%80%D0%B0%D0%B7%D0%B1%D0%B8%D0%B5%D0%BD%D0%B8%D0%B5.PNG)"
   ]
  },
  {
   "cell_type": "markdown",
   "id": "ec26ac7a",
   "metadata": {},
   "source": [
    "[Ссылка на картинку](https://disk.yandex.ru/i/L6hBTf6KLYRa-g)"
   ]
  },
  {
   "cell_type": "code",
   "execution_count": 42,
   "id": "db56c782",
   "metadata": {
    "trusted": false
   },
   "outputs": [],
   "source": [
    "all_genres_ids = set(catalog.loc[catalog['type'] == 'genre', 'id'])\n",
    "exploded_tracks = items.explode('genres')\n",
    "unidentified_genres = exploded_tracks[~exploded_tracks['genres'].apply(lambda x: True if x in all_genres_ids else False)]\n",
    "\n",
    "genre_ids = list(unidentified_genres['genres'].dropna().unique())\n",
    "genre_types = ['genre' for i in range(len(genre_ids))]\n",
    "genre_names = ['other' for i in range(len(genre_ids))]\n",
    "\n",
    "added_genres = pd.DataFrame({'id':genre_ids,\n",
    "                             'type':genre_types,\n",
    "                             'name':genre_names})\n",
    "catalog = pd.concat([catalog, added_genres], ignore_index=True)"
   ]
  },
  {
   "cell_type": "markdown",
   "id": "9131c7e6-8852-4556-b510-51f7253cc299",
   "metadata": {},
   "source": [
    "# Топ популярных"
   ]
  },
  {
   "cell_type": "markdown",
   "id": "dd70d43a-88cc-4719-b291-feaed7136f30",
   "metadata": {},
   "source": [
    "Рассчитаем рекомендации как топ популярных."
   ]
  },
  {
   "cell_type": "code",
   "execution_count": 46,
   "id": "668d060b",
   "metadata": {},
   "outputs": [
    {
     "name": "stdout",
     "output_type": "stream",
     "text": [
      "Variable                Type         Data/Info\n",
      "----------------------------------------------\n",
      "added_genres            DataFrame         id   type   name\\n0 <...>er\\n29  148  genre  other\n",
      "catalog                 DataFrame              id   type      <...>1812501 rows x 3 columns]\n",
      "events                  DataFrame               user_id    ite<...>2619423 rows x 4 columns]\n",
      "events_test             DataFrame               user_id    ite<...>3896365 rows x 4 columns]\n",
      "events_train            DataFrame               user_id   item<...>8723058 rows x 4 columns]\n",
      "exploded_tracks         DataFrame              item_id        <...>1656345 rows x 4 columns]\n",
      "items                   DataFrame              item_id        <...>1000000 rows x 4 columns]\n",
      "track_aggregate_plays   DataFrame             item_id  num_pla<...>1000000 rows x 2 columns]\n",
      "unidentified_genres     DataFrame              item_id        <...>n[52056 rows x 4 columns]\n"
     ]
    }
   ],
   "source": [
    "%whos DataFrame"
   ]
  },
  {
   "cell_type": "code",
   "execution_count": 47,
   "id": "ee45e200-b7d6-4f56-9077-aad431689b96",
   "metadata": {
    "trusted": false
   },
   "outputs": [],
   "source": [
    "track_aggregate_plays = events_train.groupby('item_id')\\\n",
    "    .agg({'user_id': 'count'})\\\n",
    "        .rename(columns={'user_id': 'num_plays'})\n",
    "\n",
    "track_aggregate_plays = track_aggregate_plays.sort_values(by='num_plays', \n",
    "                                                          ascending=False).reset_index()"
   ]
  },
  {
   "cell_type": "code",
   "execution_count": 49,
   "id": "7690c86f-7aa9-46ed-bba5-2c837626411e",
   "metadata": {
    "trusted": false
   },
   "outputs": [
    {
     "name": "stdout",
     "output_type": "stream",
     "text": [
      "Uploaded recsys/recommendations/top_popular.parquet to s3-student-mle-20240625-3348db98ef.\n"
     ]
    }
   ],
   "source": [
    "top_popular = pd.merge(track_aggregate_plays.loc[:99, :], \n",
    "                       catalog[catalog['type'] == 'track'], \n",
    "                       left_on='item_id', \n",
    "                       right_on='id',\n",
    "                       how='left').drop(['id', 'type'], axis=1)\n",
    "\n",
    "\n",
    "def put_df_to_s3(df: pd.DataFrame, bucket_name: str, file_key: str, s3_client):\n",
    "    buffer = io.BytesIO()\n",
    "    df.to_parquet(buffer, index=False)\n",
    "    buffer.seek(0)\n",
    "    \n",
    "    s3_client.put_object(Bucket=bucket_name, Key=file_key, Body=buffer)\n",
    "    print(f\"Uploaded {file_key} to {bucket_name}.\")\n",
    "\n",
    "put_df_to_s3(top_popular, bucket_name, 'recsys/recommendations/top_popular.parquet', s3)"
   ]
  },
  {
   "cell_type": "code",
   "execution_count": 50,
   "id": "8ab7a48d",
   "metadata": {
    "trusted": false
   },
   "outputs": [
    {
     "data": {
      "text/html": [
       "<div>\n",
       "<style scoped>\n",
       "    .dataframe tbody tr th:only-of-type {\n",
       "        vertical-align: middle;\n",
       "    }\n",
       "\n",
       "    .dataframe tbody tr th {\n",
       "        vertical-align: top;\n",
       "    }\n",
       "\n",
       "    .dataframe thead th {\n",
       "        text-align: right;\n",
       "    }\n",
       "</style>\n",
       "<table border=\"1\" class=\"dataframe\">\n",
       "  <thead>\n",
       "    <tr style=\"text-align: right;\">\n",
       "      <th></th>\n",
       "      <th>item_id</th>\n",
       "      <th>num_plays</th>\n",
       "      <th>name</th>\n",
       "    </tr>\n",
       "  </thead>\n",
       "  <tbody>\n",
       "    <tr>\n",
       "      <th>0</th>\n",
       "      <td>53404</td>\n",
       "      <td>110021</td>\n",
       "      <td>Smells Like Teen Spirit</td>\n",
       "    </tr>\n",
       "    <tr>\n",
       "      <th>1</th>\n",
       "      <td>33311009</td>\n",
       "      <td>101072</td>\n",
       "      <td>Believer</td>\n",
       "    </tr>\n",
       "    <tr>\n",
       "      <th>2</th>\n",
       "      <td>178529</td>\n",
       "      <td>100864</td>\n",
       "      <td>Numb</td>\n",
       "    </tr>\n",
       "    <tr>\n",
       "      <th>3</th>\n",
       "      <td>35505245</td>\n",
       "      <td>95520</td>\n",
       "      <td>I Got Love</td>\n",
       "    </tr>\n",
       "    <tr>\n",
       "      <th>4</th>\n",
       "      <td>24692821</td>\n",
       "      <td>84153</td>\n",
       "      <td>Way Down We Go</td>\n",
       "    </tr>\n",
       "    <tr>\n",
       "      <th>...</th>\n",
       "      <td>...</td>\n",
       "      <td>...</td>\n",
       "      <td>...</td>\n",
       "    </tr>\n",
       "    <tr>\n",
       "      <th>95</th>\n",
       "      <td>68562711</td>\n",
       "      <td>47588</td>\n",
       "      <td>Сияй</td>\n",
       "    </tr>\n",
       "    <tr>\n",
       "      <th>96</th>\n",
       "      <td>75944934</td>\n",
       "      <td>47536</td>\n",
       "      <td>Astronaut In The Ocean</td>\n",
       "    </tr>\n",
       "    <tr>\n",
       "      <th>97</th>\n",
       "      <td>75642961</td>\n",
       "      <td>47437</td>\n",
       "      <td>Венера-Юпитер</td>\n",
       "    </tr>\n",
       "    <tr>\n",
       "      <th>98</th>\n",
       "      <td>29175370</td>\n",
       "      <td>47319</td>\n",
       "      <td>Рапапам</td>\n",
       "    </tr>\n",
       "    <tr>\n",
       "      <th>99</th>\n",
       "      <td>68348389</td>\n",
       "      <td>47224</td>\n",
       "      <td>Minor</td>\n",
       "    </tr>\n",
       "  </tbody>\n",
       "</table>\n",
       "<p>100 rows × 3 columns</p>\n",
       "</div>"
      ],
      "text/plain": [
       "     item_id  num_plays                     name\n",
       "0      53404     110021  Smells Like Teen Spirit\n",
       "1   33311009     101072                 Believer\n",
       "2     178529     100864                     Numb\n",
       "3   35505245      95520               I Got Love\n",
       "4   24692821      84153           Way Down We Go\n",
       "..       ...        ...                      ...\n",
       "95  68562711      47588                     Сияй\n",
       "96  75944934      47536   Astronaut In The Ocean\n",
       "97  75642961      47437            Венера-Юпитер\n",
       "98  29175370      47319                  Рапапам\n",
       "99  68348389      47224                    Minor\n",
       "\n",
       "[100 rows x 3 columns]"
      ]
     },
     "execution_count": 50,
     "metadata": {},
     "output_type": "execute_result"
    }
   ],
   "source": [
    "top_popular"
   ]
  },
  {
   "cell_type": "markdown",
   "id": "1440227a",
   "metadata": {},
   "source": [
    "\n",
    "<b> Комментарий от ревьюера v1</b>\n",
    "\n",
    "<div class=\"alert alert-block alert-success\">\n",
    "    \n",
    "✔️ Отлично, топ-100 треков сформированы.\n",
    "</div>\n",
    "\n",
    "<div class=\"alert alert-warning\">\n",
    "    \n",
    "⚠️ Топ в таких случаях стоит считать на `train` выборке. Так мы честно сможем оценить качество рекомендаций на `test` выборке."
   ]
  },
  {
   "cell_type": "markdown",
   "id": "a64df96c",
   "metadata": {},
   "source": [
    "<div class=\"alert alert-block alert-info\">\n",
    "<b>Да, спасибо, пересчитал на трейне</b>\n",
    "</div>"
   ]
  },
  {
   "cell_type": "markdown",
   "id": "2ad231f2-6158-421a-b7fa-01d8bc3ed572",
   "metadata": {},
   "source": [
    "# Персональные"
   ]
  },
  {
   "cell_type": "markdown",
   "id": "86159460-cd9d-4b63-8248-604ea3c9aebf",
   "metadata": {},
   "source": [
    "Рассчитаем персональные рекомендации."
   ]
  },
  {
   "cell_type": "code",
   "execution_count": 7,
   "id": "987ff2bf",
   "metadata": {
    "trusted": false
   },
   "outputs": [],
   "source": [
    "import scipy \n",
    "import sklearn.preprocessing \n",
    "\n",
    "user_encoder = sklearn.preprocessing.LabelEncoder()\n",
    "user_encoder.fit(events['user_id'])\n",
    "\n",
    "events_train['user_id'] = user_encoder.transform(events_train['user_id'])\n",
    "events_test['user_id'] = user_encoder.transform(events_test['user_id'])\n",
    "\n",
    "items_encoder = sklearn.preprocessing.LabelEncoder()\n",
    "items_encoder.fit(items['item_id'])\n",
    "\n",
    "items['item_id'] = items_encoder.transform(items['item_id'])\n",
    "events_train['item_id'] = items_encoder.transform(events_train['item_id'])\n",
    "events_test['item_id'] = items_encoder.transform(events_test['item_id'])"
   ]
  },
  {
   "cell_type": "code",
   "execution_count": 8,
   "id": "71e68193",
   "metadata": {
    "trusted": false
   },
   "outputs": [
    {
     "data": {
      "text/plain": [
       "1000000"
      ]
     },
     "execution_count": 8,
     "metadata": {},
     "output_type": "execute_result"
    }
   ],
   "source": [
    "len(set(items['item_id']))"
   ]
  },
  {
   "cell_type": "markdown",
   "id": "755ace8a",
   "metadata": {},
   "source": [
    "Заметим, что у нас нет рейтингов или оценок пользователями треков. Го посмотрим на количество прослушиванний одних треков каждым юзером:"
   ]
  },
  {
   "cell_type": "code",
   "execution_count": 8,
   "id": "80e6ecec",
   "metadata": {
    "trusted": false
   },
   "outputs": [
    {
     "data": {
      "text/plain": [
       "array([1])"
      ]
     },
     "execution_count": 8,
     "metadata": {},
     "output_type": "execute_result"
    }
   ],
   "source": [
    "events_train['num_of_plays'] = events_train.groupby(['user_id', 'item_id'])['user_id'].transform('count')\n",
    "events_train['num_of_plays'].unique()"
   ]
  },
  {
   "cell_type": "code",
   "execution_count": null,
   "id": "41cd49f2",
   "metadata": {
    "trusted": false
   },
   "outputs": [],
   "source": [
    "events_train = events_train.drop(columns='num_of_plays')"
   ]
  },
  {
   "cell_type": "markdown",
   "id": "d2e4d431",
   "metadata": {},
   "source": [
    "О-о, каждый юзер в выборке послушал любой трек не больше 1го раза.\n",
    "\n",
    "Тогда для аппроксимации рейтинга можем взять последовательность прослушанного трека и разделить это число на сумму мне порядков треков в очереди для юзера.  Таким образом, мы будем придавать больший вес недавним трекам, и чем меньше треков прослушал пользователь, тем больший вес присваивается последним трекам."
   ]
  },
  {
   "cell_type": "markdown",
   "id": "c52fcf6e",
   "metadata": {},
   "source": [
    "\n",
    "<b> Комментарий от ревьюера v1</b>\n",
    "\n",
    "<div class=\"alert alert-block alert-success\">\n",
    "    \n",
    "✔️ Хорошая гипотеза!\n",
    "</div>\n"
   ]
  },
  {
   "cell_type": "code",
   "execution_count": 11,
   "id": "5549bd70",
   "metadata": {
    "trusted": false
   },
   "outputs": [],
   "source": [
    "events_train['so_called_rating'] = events_train['track_seq']/events_train.groupby('user_id')['track_seq'].transform('sum')"
   ]
  },
  {
   "cell_type": "code",
   "execution_count": 12,
   "id": "42e483d3",
   "metadata": {
    "trusted": false
   },
   "outputs": [],
   "source": [
    "user_item_matrix_train = scipy.sparse.csr_matrix(\n",
    "    (\n",
    "        events_train['so_called_rating'],\n",
    "        (events_train['user_id'], events_train['item_id'])\n",
    "    ),\n",
    "    dtype=np.int8\n",
    ")"
   ]
  },
  {
   "cell_type": "code",
   "execution_count": 13,
   "id": "7da9a85b",
   "metadata": {
    "trusted": false
   },
   "outputs": [
    {
     "name": "stderr",
     "output_type": "stream",
     "text": [
      "100%|██████████| 20/20 [08:25<00:00, 25.26s/it]\n"
     ]
    }
   ],
   "source": [
    "from implicit.als import AlternatingLeastSquares \n",
    "\n",
    "als_model = AlternatingLeastSquares(factors=20,\n",
    "                                    iterations=20,\n",
    "                                    regularization=0.05,\n",
    "                                    random_state=0)\n",
    "als_model.fit(user_item_matrix_train)"
   ]
  },
  {
   "cell_type": "code",
   "execution_count": 115,
   "id": "e2c73c96",
   "metadata": {
    "trusted": false
   },
   "outputs": [],
   "source": [
    "user_ids_encoded = range(len(user_encoder.classes_))\n",
    "\n",
    "als_recommendations = als_model.recommend(user_ids_encoded, \n",
    "    user_item_matrix_train[user_ids_encoded], \n",
    "    filter_already_liked_items=False, N=20) "
   ]
  },
  {
   "cell_type": "code",
   "execution_count": 116,
   "id": "c49be23e",
   "metadata": {
    "trusted": false
   },
   "outputs": [
    {
     "data": {
      "text/plain": [
       "{'ResponseMetadata': {'RequestId': '1cc526b13fd71ea0',\n",
       "  'HostId': '',\n",
       "  'HTTPStatusCode': 200,\n",
       "  'HTTPHeaders': {'server': 'nginx',\n",
       "   'date': 'Sun, 08 Dec 2024 21:32:42 GMT',\n",
       "   'content-type': 'application/octet-stream',\n",
       "   'transfer-encoding': 'chunked',\n",
       "   'connection': 'keep-alive',\n",
       "   'keep-alive': 'timeout=60',\n",
       "   'etag': '\"a3b1d8cdf27132c50e82f45d10d4c40a\"',\n",
       "   'x-amz-request-id': '1cc526b13fd71ea0',\n",
       "   'x-amz-version-id': '000628C8FCF5E0F4'},\n",
       "  'RetryAttempts': 0},\n",
       " 'ETag': '\"a3b1d8cdf27132c50e82f45d10d4c40a\"',\n",
       " 'VersionId': '000628C8FCF5E0F4'}"
      ]
     },
     "execution_count": 116,
     "metadata": {},
     "output_type": "execute_result"
    }
   ],
   "source": [
    "item_ids_enc = als_recommendations[0]\n",
    "als_scores = als_recommendations[1]\n",
    "\n",
    "buffer = io.BytesIO()\n",
    "np.savez_compressed(buffer, id=item_ids_enc, scores=als_scores)\n",
    "buffer.seek(0)\n",
    "\n",
    "s3.put_object(Bucket=bucket_name, Key='recsys/data/als_recommendations.npz', Body=buffer)"
   ]
  },
  {
   "cell_type": "code",
   "execution_count": 118,
   "id": "458f1428",
   "metadata": {
    "trusted": false
   },
   "outputs": [
    {
     "data": {
      "text/plain": [
       "{'ResponseMetadata': {'RequestId': '9c3c2f24c7f2407b',\n",
       "  'HostId': '',\n",
       "  'HTTPStatusCode': 200,\n",
       "  'HTTPHeaders': {'server': 'nginx',\n",
       "   'date': 'Sun, 08 Dec 2024 21:34:35 GMT',\n",
       "   'content-type': 'application/octet-stream',\n",
       "   'transfer-encoding': 'chunked',\n",
       "   'connection': 'keep-alive',\n",
       "   'keep-alive': 'timeout=60',\n",
       "   'etag': '\"e784821e9234007ba17c0fe7d20abee4\"',\n",
       "   'x-amz-request-id': '9c3c2f24c7f2407b',\n",
       "   'x-amz-version-id': '000628C903A84F71'},\n",
       "  'RetryAttempts': 0},\n",
       " 'ETag': '\"e784821e9234007ba17c0fe7d20abee4\"',\n",
       " 'VersionId': '000628C903A84F71'}"
      ]
     },
     "execution_count": 118,
     "metadata": {},
     "output_type": "execute_result"
    }
   ],
   "source": [
    "buffer = io.BytesIO()\n",
    "np.save(buffer, user_encoder.classes_)\n",
    "buffer.seek(0)\n",
    "\n",
    "s3.put_object(Bucket=bucket_name, Key='recsys/data/user_encoder.npy', Body=buffer)"
   ]
  },
  {
   "cell_type": "code",
   "execution_count": 119,
   "id": "e331cf52",
   "metadata": {
    "trusted": false
   },
   "outputs": [
    {
     "data": {
      "text/plain": [
       "{'ResponseMetadata': {'RequestId': 'd3a0f7366ccad878',\n",
       "  'HostId': '',\n",
       "  'HTTPStatusCode': 200,\n",
       "  'HTTPHeaders': {'server': 'nginx',\n",
       "   'date': 'Sun, 08 Dec 2024 21:34:37 GMT',\n",
       "   'content-type': 'application/octet-stream',\n",
       "   'transfer-encoding': 'chunked',\n",
       "   'connection': 'keep-alive',\n",
       "   'keep-alive': 'timeout=60',\n",
       "   'etag': '\"6e7c5542f5d44627e4f3cd83669c72c5\"',\n",
       "   'x-amz-request-id': 'd3a0f7366ccad878',\n",
       "   'x-amz-version-id': '000628C903CD3BDE'},\n",
       "  'RetryAttempts': 0},\n",
       " 'ETag': '\"6e7c5542f5d44627e4f3cd83669c72c5\"',\n",
       " 'VersionId': '000628C903CD3BDE'}"
      ]
     },
     "execution_count": 119,
     "metadata": {},
     "output_type": "execute_result"
    }
   ],
   "source": [
    "buffer = io.BytesIO()\n",
    "np.save(buffer, items_encoder.classes_)\n",
    "buffer.seek(0)\n",
    "\n",
    "s3.put_object(Bucket=bucket_name, Key='recsys/data/items_encoder.npy', Body=buffer)"
   ]
  },
  {
   "cell_type": "code",
   "execution_count": 120,
   "id": "0ed99e4a",
   "metadata": {
    "trusted": false
   },
   "outputs": [
    {
     "name": "stdout",
     "output_type": "stream",
     "text": [
      "recsys/data/als_recommendations.npz\n",
      "recsys/data/catalog.parquet\n",
      "recsys/data/events.parquet\n",
      "recsys/data/items.parquet\n",
      "recsys/data/items_encoder.npy\n",
      "recsys/data/user_encoder.npy\n",
      "recsys/recommendations/top_popular.parquet\n"
     ]
    }
   ],
   "source": [
    "if s3.list_objects(Bucket=bucket_name).get('Contents'):\n",
    "    for key in s3.list_objects(Bucket=bucket_name)['Contents']:\n",
    "        if 'recsys' in str(key['Key']):\n",
    "            print(key['Key'])"
   ]
  },
  {
   "cell_type": "code",
   "execution_count": 121,
   "id": "278e7d60",
   "metadata": {
    "trusted": false
   },
   "outputs": [],
   "source": [
    "# download_buffer = io.BytesIO()\n",
    "# s3.download_fileobj(bucket_name, 'recsys/data/als_recommendations.npz', download_buffer)\n",
    "# download_buffer.seek(0)\n",
    "# loaded_data = np.load(download_buffer)\n",
    "\n",
    "# item_ids_enc = loaded_data['id']\n",
    "# als_scores = loaded_data['scores']\n",
    "\n",
    "item_ids_enc = als_recommendations[0]\n",
    "als_scores = als_recommendations[1]\n",
    "\n",
    "als_recommendations_pd = pd.DataFrame({\n",
    "    \"user_id_enc\": user_ids_encoded,\n",
    "    \"item_id_enc\": item_ids_enc.tolist(), \n",
    "    \"score\": als_scores.tolist()})\n"
   ]
  },
  {
   "cell_type": "code",
   "execution_count": 122,
   "id": "bee185b0",
   "metadata": {
    "trusted": false
   },
   "outputs": [
    {
     "data": {
      "text/html": [
       "<div>\n",
       "<style scoped>\n",
       "    .dataframe tbody tr th:only-of-type {\n",
       "        vertical-align: middle;\n",
       "    }\n",
       "\n",
       "    .dataframe tbody tr th {\n",
       "        vertical-align: top;\n",
       "    }\n",
       "\n",
       "    .dataframe thead th {\n",
       "        text-align: right;\n",
       "    }\n",
       "</style>\n",
       "<table border=\"1\" class=\"dataframe\">\n",
       "  <thead>\n",
       "    <tr style=\"text-align: right;\">\n",
       "      <th></th>\n",
       "      <th>user_id_enc</th>\n",
       "      <th>item_id_enc</th>\n",
       "      <th>score</th>\n",
       "    </tr>\n",
       "  </thead>\n",
       "  <tbody>\n",
       "    <tr>\n",
       "      <th>0</th>\n",
       "      <td>0</td>\n",
       "      <td>2054</td>\n",
       "      <td>0.0</td>\n",
       "    </tr>\n",
       "    <tr>\n",
       "      <th>1</th>\n",
       "      <td>0</td>\n",
       "      <td>10603</td>\n",
       "      <td>0.0</td>\n",
       "    </tr>\n",
       "    <tr>\n",
       "      <th>2</th>\n",
       "      <td>0</td>\n",
       "      <td>308801</td>\n",
       "      <td>0.0</td>\n",
       "    </tr>\n",
       "    <tr>\n",
       "      <th>3</th>\n",
       "      <td>0</td>\n",
       "      <td>58621</td>\n",
       "      <td>0.0</td>\n",
       "    </tr>\n",
       "    <tr>\n",
       "      <th>4</th>\n",
       "      <td>0</td>\n",
       "      <td>6669</td>\n",
       "      <td>0.0</td>\n",
       "    </tr>\n",
       "    <tr>\n",
       "      <th>...</th>\n",
       "      <td>...</td>\n",
       "      <td>...</td>\n",
       "      <td>...</td>\n",
       "    </tr>\n",
       "    <tr>\n",
       "      <th>27392075</th>\n",
       "      <td>1369603</td>\n",
       "      <td>7620</td>\n",
       "      <td>0.0</td>\n",
       "    </tr>\n",
       "    <tr>\n",
       "      <th>27392076</th>\n",
       "      <td>1369603</td>\n",
       "      <td>618207</td>\n",
       "      <td>0.0</td>\n",
       "    </tr>\n",
       "    <tr>\n",
       "      <th>27392077</th>\n",
       "      <td>1369603</td>\n",
       "      <td>17505</td>\n",
       "      <td>0.0</td>\n",
       "    </tr>\n",
       "    <tr>\n",
       "      <th>27392078</th>\n",
       "      <td>1369603</td>\n",
       "      <td>19854</td>\n",
       "      <td>0.0</td>\n",
       "    </tr>\n",
       "    <tr>\n",
       "      <th>27392079</th>\n",
       "      <td>1369603</td>\n",
       "      <td>15636</td>\n",
       "      <td>0.0</td>\n",
       "    </tr>\n",
       "  </tbody>\n",
       "</table>\n",
       "<p>27392080 rows × 3 columns</p>\n",
       "</div>"
      ],
      "text/plain": [
       "          user_id_enc item_id_enc score\n",
       "0                   0        2054   0.0\n",
       "1                   0       10603   0.0\n",
       "2                   0      308801   0.0\n",
       "3                   0       58621   0.0\n",
       "4                   0        6669   0.0\n",
       "...               ...         ...   ...\n",
       "27392075      1369603        7620   0.0\n",
       "27392076      1369603      618207   0.0\n",
       "27392077      1369603       17505   0.0\n",
       "27392078      1369603       19854   0.0\n",
       "27392079      1369603       15636   0.0\n",
       "\n",
       "[27392080 rows x 3 columns]"
      ]
     },
     "execution_count": 122,
     "metadata": {},
     "output_type": "execute_result"
    }
   ],
   "source": [
    "als_recommendations_pd_exploded = als_recommendations_pd.explode([\"item_id_enc\", \"score\"], ignore_index=True)\n",
    "als_recommendations_pd_exploded"
   ]
  },
  {
   "cell_type": "code",
   "execution_count": 123,
   "id": "77b69d39",
   "metadata": {
    "trusted": false
   },
   "outputs": [],
   "source": [
    "# приводим типы данных\n",
    "als_recommendations_pd_exploded[\"item_id_enc\"] = als_recommendations_pd_exploded[\"item_id_enc\"].astype(\"int\")\n",
    "als_recommendations_pd_exploded[\"score\"] = als_recommendations_pd_exploded[\"score\"].astype(\"float\")\n",
    "\n",
    "# получаем изначальные идентификаторы\n",
    "als_recommendations_pd_exploded[\"user_id\"] = user_encoder.inverse_transform(als_recommendations_pd_exploded[\"user_id_enc\"])\n",
    "als_recommendations_pd_exploded[\"item_id\"] = items_encoder.inverse_transform(als_recommendations_pd_exploded[\"item_id_enc\"])\n",
    "als_recommendations_pd_exploded = als_recommendations_pd_exploded.drop(columns=[\"user_id_enc\", \"item_id_enc\"])"
   ]
  },
  {
   "cell_type": "code",
   "execution_count": 125,
   "id": "37351ab5",
   "metadata": {
    "trusted": false
   },
   "outputs": [
    {
     "name": "stdout",
     "output_type": "stream",
     "text": [
      "Uploaded recsys/recommendations/personal_als.parquet to s3-student-mle-20240625-3348db98ef.\n"
     ]
    }
   ],
   "source": [
    "import io\n",
    "\n",
    "def put_df_to_s3(df: pd.DataFrame, bucket_name: str, file_key: str, s3_client):\n",
    "    buffer = io.BytesIO()\n",
    "    df.to_parquet(buffer, index=False)\n",
    "    buffer.seek(0)\n",
    "    \n",
    "    s3_client.put_object(Bucket=bucket_name, Key=file_key, Body=buffer)\n",
    "    print(f\"Uploaded {file_key} to {bucket_name}.\")\n",
    "\n",
    "put_df_to_s3(als_recommendations_pd_exploded, bucket_name, 'recsys/recommendations/personal_als.parquet', s3)"
   ]
  },
  {
   "cell_type": "code",
   "execution_count": 52,
   "id": "d47f0354",
   "metadata": {
    "trusted": false
   },
   "outputs": [
    {
     "name": "stdout",
     "output_type": "stream",
     "text": [
      "recsys/data/als_recommendations.npz\n",
      "recsys/data/catalog.parquet\n",
      "recsys/data/events.parquet\n",
      "recsys/data/genres_encoder.npy\n",
      "recsys/data/items.parquet\n",
      "recsys/data/items_encoder.npy\n",
      "recsys/data/user_encoder.npy\n",
      "recsys/recommendations/personal_als.parquet\n",
      "recsys/recommendations/top_popular.parquet\n"
     ]
    }
   ],
   "source": [
    "if s3.list_objects(Bucket=bucket_name).get('Contents'):\n",
    "    for key in s3.list_objects(Bucket=bucket_name)['Contents']:\n",
    "        if 'recsys' in str(key['Key']):\n",
    "            print(key['Key'])"
   ]
  },
  {
   "cell_type": "code",
   "execution_count": 27,
   "id": "81ea85e5",
   "metadata": {
    "trusted": false
   },
   "outputs": [],
   "source": [
    "# s3.delete_object(Bucket='s3-student-mle-20240625-3348db98ef', Key='recsys/data/genres.npy')\n",
    "# s3.delete_object(Bucket='s3-student-mle-20240625-3348db98ef', Key='recsys/data/items_encoder.npy')\n",
    "# s3.delete_object(Bucket='s3-student-mle-20240625-3348db98ef', Key='recsys/data/user_encoder.npy')\n",
    "# s3.delete_object(Bucket='s3-student-mle-20240625-3348db98ef', Key='recsys/recommendations/personal_als.parquet')"
   ]
  },
  {
   "cell_type": "code",
   "execution_count": 28,
   "id": "0883dea8",
   "metadata": {
    "trusted": false
   },
   "outputs": [
    {
     "name": "stdout",
     "output_type": "stream",
     "text": [
      "Variable              Type         Data/Info\n",
      "--------------------------------------------\n",
      "added_genres          DataFrame         id   type   name\\n0 <...>er\\n29  148  genre  other\n",
      "catalog               DataFrame              id   type      <...>1812501 rows x 3 columns]\n",
      "events                DataFrame               user_id    ite<...>2619423 rows x 4 columns]\n",
      "events_test           DataFrame               user_id    ite<...>3896365 rows x 4 columns]\n",
      "events_train          DataFrame               user_id   item<...>8723058 rows x 4 columns]\n",
      "exploded_tracks       DataFrame              item_id        <...>1656345 rows x 4 columns]\n",
      "items                 DataFrame              item_id        <...>1000000 rows x 4 columns]\n",
      "unidentified_genres   DataFrame              item_id        <...>n[52056 rows x 4 columns]\n"
     ]
    }
   ],
   "source": [
    "# del als_recommendations\n",
    "# del als_recommendations_pd\n",
    "# del track_aggregate_plays\n",
    "\n",
    "%whos DataFrame"
   ]
  },
  {
   "cell_type": "markdown",
   "id": "94d10b05",
   "metadata": {},
   "source": [
    "\n",
    "<b>Комментарий от ревьюера v1</b>\n",
    "\n",
    "<div class=\"alert alert-block alert-success\">\n",
    "✔️ Отлично, персональные рекомендации сформированы!\n",
    "</div>"
   ]
  },
  {
   "cell_type": "markdown",
   "id": "5f09dc7e-7c91-4355-860a-b9cfb9f33f15",
   "metadata": {},
   "source": [
    "# Похожие"
   ]
  },
  {
   "cell_type": "markdown",
   "id": "1dfcb683-b440-40a8-9975-894156a53872",
   "metadata": {},
   "source": [
    "Рассчитаем похожие, они позже пригодятся для онлайн-рекомендаций."
   ]
  },
  {
   "cell_type": "code",
   "execution_count": 20,
   "id": "c7fd116e",
   "metadata": {
    "trusted": false
   },
   "outputs": [
    {
     "data": {
      "text/html": [
       "<style>#sk-container-id-3 {color: black;}#sk-container-id-3 pre{padding: 0;}#sk-container-id-3 div.sk-toggleable {background-color: white;}#sk-container-id-3 label.sk-toggleable__label {cursor: pointer;display: block;width: 100%;margin-bottom: 0;padding: 0.3em;box-sizing: border-box;text-align: center;}#sk-container-id-3 label.sk-toggleable__label-arrow:before {content: \"▸\";float: left;margin-right: 0.25em;color: #696969;}#sk-container-id-3 label.sk-toggleable__label-arrow:hover:before {color: black;}#sk-container-id-3 div.sk-estimator:hover label.sk-toggleable__label-arrow:before {color: black;}#sk-container-id-3 div.sk-toggleable__content {max-height: 0;max-width: 0;overflow: hidden;text-align: left;background-color: #f0f8ff;}#sk-container-id-3 div.sk-toggleable__content pre {margin: 0.2em;color: black;border-radius: 0.25em;background-color: #f0f8ff;}#sk-container-id-3 input.sk-toggleable__control:checked~div.sk-toggleable__content {max-height: 200px;max-width: 100%;overflow: auto;}#sk-container-id-3 input.sk-toggleable__control:checked~label.sk-toggleable__label-arrow:before {content: \"▾\";}#sk-container-id-3 div.sk-estimator input.sk-toggleable__control:checked~label.sk-toggleable__label {background-color: #d4ebff;}#sk-container-id-3 div.sk-label input.sk-toggleable__control:checked~label.sk-toggleable__label {background-color: #d4ebff;}#sk-container-id-3 input.sk-hidden--visually {border: 0;clip: rect(1px 1px 1px 1px);clip: rect(1px, 1px, 1px, 1px);height: 1px;margin: -1px;overflow: hidden;padding: 0;position: absolute;width: 1px;}#sk-container-id-3 div.sk-estimator {font-family: monospace;background-color: #f0f8ff;border: 1px dotted black;border-radius: 0.25em;box-sizing: border-box;margin-bottom: 0.5em;}#sk-container-id-3 div.sk-estimator:hover {background-color: #d4ebff;}#sk-container-id-3 div.sk-parallel-item::after {content: \"\";width: 100%;border-bottom: 1px solid gray;flex-grow: 1;}#sk-container-id-3 div.sk-label:hover label.sk-toggleable__label {background-color: #d4ebff;}#sk-container-id-3 div.sk-serial::before {content: \"\";position: absolute;border-left: 1px solid gray;box-sizing: border-box;top: 0;bottom: 0;left: 50%;z-index: 0;}#sk-container-id-3 div.sk-serial {display: flex;flex-direction: column;align-items: center;background-color: white;padding-right: 0.2em;padding-left: 0.2em;position: relative;}#sk-container-id-3 div.sk-item {position: relative;z-index: 1;}#sk-container-id-3 div.sk-parallel {display: flex;align-items: stretch;justify-content: center;background-color: white;position: relative;}#sk-container-id-3 div.sk-item::before, #sk-container-id-3 div.sk-parallel-item::before {content: \"\";position: absolute;border-left: 1px solid gray;box-sizing: border-box;top: 0;bottom: 0;left: 50%;z-index: -1;}#sk-container-id-3 div.sk-parallel-item {display: flex;flex-direction: column;z-index: 1;position: relative;background-color: white;}#sk-container-id-3 div.sk-parallel-item:first-child::after {align-self: flex-end;width: 50%;}#sk-container-id-3 div.sk-parallel-item:last-child::after {align-self: flex-start;width: 50%;}#sk-container-id-3 div.sk-parallel-item:only-child::after {width: 0;}#sk-container-id-3 div.sk-dashed-wrapped {border: 1px dashed gray;margin: 0 0.4em 0.5em 0.4em;box-sizing: border-box;padding-bottom: 0.4em;background-color: white;}#sk-container-id-3 div.sk-label label {font-family: monospace;font-weight: bold;display: inline-block;line-height: 1.2em;}#sk-container-id-3 div.sk-label-container {text-align: center;}#sk-container-id-3 div.sk-container {/* jupyter's `normalize.less` sets `[hidden] { display: none; }` but bootstrap.min.css set `[hidden] { display: none !important; }` so we also need the `!important` here to be able to override the default hidden behavior on the sphinx rendered scikit-learn.org. See: https://github.com/scikit-learn/scikit-learn/issues/21755 */display: inline-block !important;position: relative;}#sk-container-id-3 div.sk-text-repr-fallback {display: none;}</style><div id=\"sk-container-id-3\" class=\"sk-top-container\"><div class=\"sk-text-repr-fallback\"><pre>LabelEncoder()</pre><b>In a Jupyter environment, please rerun this cell to show the HTML representation or trust the notebook. <br />On GitHub, the HTML representation is unable to render, please try loading this page with nbviewer.org.</b></div><div class=\"sk-container\" hidden><div class=\"sk-item\"><div class=\"sk-estimator sk-toggleable\"><input class=\"sk-toggleable__control sk-hidden--visually\" id=\"sk-estimator-id-3\" type=\"checkbox\" checked><label for=\"sk-estimator-id-3\" class=\"sk-toggleable__label sk-toggleable__label-arrow\">LabelEncoder</label><div class=\"sk-toggleable__content\"><pre>LabelEncoder()</pre></div></div></div></div></div>"
      ],
      "text/plain": [
       "LabelEncoder()"
      ]
     },
     "execution_count": 20,
     "metadata": {},
     "output_type": "execute_result"
    }
   ],
   "source": [
    "# user_encoder\n",
    "# items_encoder\n",
    "# genres_encoder"
   ]
  },
  {
   "cell_type": "code",
   "execution_count": 14,
   "id": "7fbd2970",
   "metadata": {
    "trusted": false
   },
   "outputs": [
    {
     "name": "stdout",
     "output_type": "stream",
     "text": [
      "Composed Similar Items pandas\n"
     ]
    }
   ],
   "source": [
    "train_item_ids = events_train['item_id'].unique()\n",
    "max_similar_items = 10\n",
    "\n",
    "similar_items = als_model.similar_items(train_item_ids,\n",
    "                                        N=max_similar_items)\n",
    "sim_item_ids = similar_items[0]\n",
    "sim_item_scores = similar_items[1]\n",
    "\n",
    "similar_items = pd.DataFrame({\n",
    "    'item_id': train_item_ids,\n",
    "    'sim_item_ids': sim_item_ids.tolist(),\n",
    "    'score': sim_item_scores.tolist()\n",
    "})\n",
    "\n",
    "print('Composed Similar Items pandas')\n",
    "\n",
    "similar_items_exploded = similar_items.explode(['sim_item_ids', 'score'],\n",
    "                                               ignore_index=True)"
   ]
  },
  {
   "cell_type": "code",
   "execution_count": 15,
   "id": "64bd137c",
   "metadata": {
    "trusted": false
   },
   "outputs": [],
   "source": [
    "similar_items_exploded['sim_item_ids'] = similar_items_exploded['sim_item_ids'].astype('int')\n",
    "similar_items_exploded['score'] = similar_items_exploded['score'].astype('float')\n",
    "\n",
    "similar_items_exploded[\"item_id_1\"] = items_encoder.inverse_transform(similar_items_exploded[\"item_id\"])\n",
    "similar_items_exploded[\"item_id_2\"] = items_encoder.inverse_transform(similar_items_exploded[\"sim_item_ids\"])\n",
    "similar_items_exploded = similar_items_exploded.drop(columns=[\"item_id\", \"sim_item_ids\"])\n",
    "\n",
    "similar_items_exploded = similar_items_exploded.query(\"item_id_1 != item_id_2\") "
   ]
  },
  {
   "cell_type": "code",
   "execution_count": 17,
   "id": "a7b2d8d7",
   "metadata": {
    "trusted": false
   },
   "outputs": [
    {
     "name": "stdout",
     "output_type": "stream",
     "text": [
      "Uploaded recsys/recommendations/similar.parquet to s3-student-mle-20240625-3348db98ef.\n"
     ]
    }
   ],
   "source": [
    "import io\n",
    "\n",
    "def put_df_to_s3(df: pd.DataFrame, bucket_name: str, file_key: str, s3_client):\n",
    "    buffer = io.BytesIO()\n",
    "    df.to_parquet(buffer, index=False)\n",
    "    buffer.seek(0)\n",
    "    \n",
    "    s3_client.put_object(Bucket=bucket_name, Key=file_key, Body=buffer)\n",
    "    print(f\"Uploaded {file_key} to {bucket_name}.\")\n",
    "\n",
    "put_df_to_s3(similar_items_exploded, bucket_name, 'recsys/recommendations/similar.parquet', s3)"
   ]
  },
  {
   "cell_type": "code",
   "execution_count": 7,
   "id": "d9f195ad",
   "metadata": {
    "trusted": false
   },
   "outputs": [
    {
     "name": "stdout",
     "output_type": "stream",
     "text": [
      "recsys/data/als_recommendations.npz\n",
      "recsys/data/catalog.parquet\n",
      "recsys/data/events.parquet\n",
      "recsys/data/genres_encoder.npy\n",
      "recsys/data/items.parquet\n",
      "recsys/data/items_encoder.npy\n",
      "recsys/data/user_encoder.npy\n",
      "recsys/recommendations/personal_als.parquet\n",
      "recsys/recommendations/similar.parquet\n",
      "recsys/recommendations/top_popular.parquet\n"
     ]
    }
   ],
   "source": [
    "if s3.list_objects(Bucket=bucket_name).get('Contents'):\n",
    "    for key in s3.list_objects(Bucket=bucket_name)['Contents']:\n",
    "        if 'recsys' in str(key['Key']):\n",
    "            print(key['Key'])"
   ]
  },
  {
   "cell_type": "markdown",
   "id": "0087a3e7-ca9f-42cd-944c-944222c1baef",
   "metadata": {},
   "source": [
    "# Построение признаков"
   ]
  },
  {
   "cell_type": "markdown",
   "id": "e82a32e1-b90b-4eaf-9439-fc8deab9f34b",
   "metadata": {},
   "source": [
    "Построим три признака, можно больше, для ранжирующей модели."
   ]
  },
  {
   "cell_type": "code",
   "execution_count": 52,
   "id": "05b4ae84-406a-44a4-abec-4f80f93e3004",
   "metadata": {
    "trusted": false
   },
   "outputs": [
    {
     "name": "stdout",
     "output_type": "stream",
     "text": [
      "Variable                 Type         Data/Info\n",
      "-----------------------------------------------\n",
      "candidates               DataFrame              user_id   item_<...>7392080 rows x 4 columns]\n",
      "candidates_for_train     DataFrame                         user<...>n\\n[620 rows x 4 columns]\n",
      "candidates_to_sample     DataFrame              user_id   item_<...>\\n[1240 rows x 4 columns]\n",
      "catalog                  DataFrame              id   type      <...>1812501 rows x 3 columns]\n",
      "events_labels            DataFrame               user_id  item_<...>9286980 rows x 5 columns]\n",
      "events_test              DataFrame               user_id  item_<...>3896365 rows x 4 columns]\n",
      "events_test_2            DataFrame               user_id  item_<...>4609385 rows x 4 columns]\n",
      "events_train             DataFrame               user_id  item_<...>8723058 rows x 5 columns]\n",
      "exploded_tracks          DataFrame              item_id        <...>1656345 rows x 4 columns]\n",
      "items                    DataFrame            item_id          <...>1000000 rows x 4 columns]\n",
      "personal_als             DataFrame                     score  u<...>7392080 rows x 3 columns]\n",
      "similar_items_exploded   DataFrame                score  item_i<...>8997246 rows x 3 columns]\n"
     ]
    }
   ],
   "source": [
    "# del similar_items\n",
    "# del events\n",
    "# del added_genres\n",
    "# del unidentified_genres\n",
    "\n",
    "%whos DataFrame"
   ]
  },
  {
   "cell_type": "code",
   "execution_count": 9,
   "id": "70e45239",
   "metadata": {
    "trusted": false
   },
   "outputs": [],
   "source": [
    "import boto3\n",
    "import os\n",
    "import io\n",
    "from dotenv import load_dotenv\n",
    "load_dotenv()\n",
    "\n",
    "def get_session_student():\n",
    "    session = boto3.session.Session()\n",
    "    return session.client(\n",
    "        service_name='s3',\n",
    "        endpoint_url='https://storage.yandexcloud.net',\n",
    "        aws_access_key_id=os.environ.get('AWS_ACCESS_KEY_ID_STUDENT'),\n",
    "        aws_secret_access_key=os.environ.get('AWS_SECRET_ACCESS_KEY_STUDENT')\n",
    "    )\n",
    "\n",
    "def load_par_from_s3(bucket_name, key_name, s3_client):\n",
    "    parquet_buffer = io.BytesIO()\n",
    "    s3_client.download_fileobj(bucket_name, key_name, parquet_buffer)\n",
    "    parquet_buffer.seek(0)\n",
    "    df = pd.read_parquet(parquet_buffer)\n",
    "    return df\n",
    " \n",
    "s3 = get_session_student()\n",
    "bucket_name = os.environ.get('S3_BUCKET_NAME')\n",
    "\n",
    "events = load_par_from_s3(\n",
    "    bucket_name=bucket_name,\n",
    "    key_name='recsys/data/events.parquet',\n",
    "    s3_client=s3\n",
    ")\n",
    "\n",
    "items = load_par_from_s3(\n",
    "    bucket_name=bucket_name,\n",
    "    key_name='recsys/data/items.parquet',\n",
    "    s3_client=s3\n",
    ")\n",
    "\n",
    "catalog = load_par_from_s3(\n",
    "    bucket_name=bucket_name,\n",
    "    key_name='recsys/data/catalog.parquet',\n",
    "    s3_client=s3\n",
    ")"
   ]
  },
  {
   "cell_type": "code",
   "execution_count": 10,
   "id": "0e73b487",
   "metadata": {
    "trusted": false
   },
   "outputs": [],
   "source": [
    "date_to_slice_by = pd.to_datetime('2022-12-16')\n",
    "train_idices = events['started_at'] < date_to_slice_by\n",
    "\n",
    "events_train = events[train_idices].copy()\n",
    "events_test = events[~train_idices].copy()"
   ]
  },
  {
   "cell_type": "code",
   "execution_count": 11,
   "id": "015b6038",
   "metadata": {
    "trusted": false
   },
   "outputs": [],
   "source": [
    "split_date_for_labels = pd.to_datetime('2022-12-25')\n",
    "split_date_for_labels_idx = events_test['started_at'] < split_date_for_labels\n",
    "\n",
    "events_labels = events_test[split_date_for_labels_idx].copy()\n",
    "events_test_2 = events_test[~split_date_for_labels_idx].copy()"
   ]
  },
  {
   "cell_type": "code",
   "execution_count": 12,
   "id": "81a4f1d4",
   "metadata": {
    "trusted": false
   },
   "outputs": [],
   "source": [
    "def get_user_features(events):\n",
    "    user_features = events.groupby('user_id').agg(\n",
    "        listening_days=('started_at', lambda x: (x.max()-x.min()).days),\n",
    "        tracks_played=('item_id', 'nunique')\n",
    "    )\n",
    "    \n",
    "    user_features['tracks_per_month'] = user_features['tracks_played']/user_features['listening_days']/30.5\n",
    "\n",
    "    return user_features\n",
    "\n",
    "events_for_features = pd.concat([events_train, events_labels], ignore_index=True)\n",
    "user_features_for_train = get_user_features(events_for_features)\n",
    "user_features_for_train = user_features_for_train.replace([np.inf, -np.inf], 0)"
   ]
  },
  {
   "cell_type": "code",
   "execution_count": 13,
   "id": "d47e8f1d",
   "metadata": {
    "trusted": false
   },
   "outputs": [],
   "source": [
    "# import boto3\n",
    "# import os\n",
    "# import io\n",
    "# import csv\n",
    "# from dotenv import load_dotenv\n",
    "# load_dotenv()\n",
    "\n",
    "# def get_session_student():\n",
    "#     session = boto3.session.Session()\n",
    "#     return session.client(\n",
    "#         service_name='s3',\n",
    "#         endpoint_url='https://storage.yandexcloud.net',\n",
    "#         aws_access_key_id=os.environ.get('AWS_ACCESS_KEY_ID_STUDENT'),\n",
    "#         aws_secret_access_key=os.environ.get('AWS_SECRET_ACCESS_KEY_STUDENT')\n",
    "#     )\n",
    "\n",
    "# def load_par_from_s3(bucket_name, key_name, s3_client):\n",
    "#     parquet_buffer = io.BytesIO()\n",
    "#     s3_client.download_fileobj(bucket_name, key_name, parquet_buffer)\n",
    "#     parquet_buffer.seek(0)\n",
    "#     df = pd.read_parquet(parquet_buffer)\n",
    "#     return df\n",
    " \n",
    "# s3 = get_session_student()\n",
    "# bucket_name = os.environ.get('S3_BUCKET_NAME')\n",
    "\n",
    "personal_als = load_par_from_s3(\n",
    "    bucket_name=bucket_name,\n",
    "    key_name='recsys/recommendations/personal_als.parquet',\n",
    "    s3_client=s3\n",
    "    )"
   ]
  },
  {
   "cell_type": "code",
   "execution_count": 14,
   "id": "e55fc226",
   "metadata": {
    "trusted": false
   },
   "outputs": [],
   "source": [
    "candidates = personal_als[[\"user_id\", \"item_id\", \"score\"]].copy()\n",
    "\n",
    "events_labels['target'] = 1\n",
    "candidates = candidates.merge(events_labels[[\"user_id\", \"item_id\", \"target\"]], on=['user_id', 'item_id'], how='outer')\n",
    "candidates[\"target\"] = candidates[\"target\"].fillna(0).astype(\"int\")\n",
    "\n",
    "candidates_to_sample = candidates.groupby(\"user_id\").filter(lambda x: x[\"target\"].sum() > 0)"
   ]
  },
  {
   "cell_type": "code",
   "execution_count": 15,
   "id": "29f1bed9",
   "metadata": {
    "trusted": false
   },
   "outputs": [
    {
     "data": {
      "text/html": [
       "<div>\n",
       "<style scoped>\n",
       "    .dataframe tbody tr th:only-of-type {\n",
       "        vertical-align: middle;\n",
       "    }\n",
       "\n",
       "    .dataframe tbody tr th {\n",
       "        vertical-align: top;\n",
       "    }\n",
       "\n",
       "    .dataframe thead th {\n",
       "        text-align: right;\n",
       "    }\n",
       "</style>\n",
       "<table border=\"1\" class=\"dataframe\">\n",
       "  <thead>\n",
       "    <tr style=\"text-align: right;\">\n",
       "      <th></th>\n",
       "      <th>user_id</th>\n",
       "      <th>item_id</th>\n",
       "      <th>score</th>\n",
       "      <th>target</th>\n",
       "    </tr>\n",
       "  </thead>\n",
       "  <tbody>\n",
       "    <tr>\n",
       "      <th>60</th>\n",
       "      <td>3</td>\n",
       "      <td>40461</td>\n",
       "      <td>2.229038e-12</td>\n",
       "      <td>0</td>\n",
       "    </tr>\n",
       "    <tr>\n",
       "      <th>61</th>\n",
       "      <td>3</td>\n",
       "      <td>16884</td>\n",
       "      <td>2.222117e-12</td>\n",
       "      <td>0</td>\n",
       "    </tr>\n",
       "    <tr>\n",
       "      <th>62</th>\n",
       "      <td>3</td>\n",
       "      <td>39946956</td>\n",
       "      <td>1.936096e-12</td>\n",
       "      <td>0</td>\n",
       "    </tr>\n",
       "    <tr>\n",
       "      <th>63</th>\n",
       "      <td>3</td>\n",
       "      <td>106716</td>\n",
       "      <td>1.740006e-12</td>\n",
       "      <td>0</td>\n",
       "    </tr>\n",
       "    <tr>\n",
       "      <th>64</th>\n",
       "      <td>3</td>\n",
       "      <td>10177</td>\n",
       "      <td>1.609044e-12</td>\n",
       "      <td>0</td>\n",
       "    </tr>\n",
       "    <tr>\n",
       "      <th>...</th>\n",
       "      <td>...</td>\n",
       "      <td>...</td>\n",
       "      <td>...</td>\n",
       "      <td>...</td>\n",
       "    </tr>\n",
       "    <tr>\n",
       "      <th>36673736</th>\n",
       "      <td>1374582</td>\n",
       "      <td>85923303</td>\n",
       "      <td>NaN</td>\n",
       "      <td>1</td>\n",
       "    </tr>\n",
       "    <tr>\n",
       "      <th>36673737</th>\n",
       "      <td>1374582</td>\n",
       "      <td>86169470</td>\n",
       "      <td>NaN</td>\n",
       "      <td>1</td>\n",
       "    </tr>\n",
       "    <tr>\n",
       "      <th>36673738</th>\n",
       "      <td>1374582</td>\n",
       "      <td>86263362</td>\n",
       "      <td>NaN</td>\n",
       "      <td>1</td>\n",
       "    </tr>\n",
       "    <tr>\n",
       "      <th>36673739</th>\n",
       "      <td>1374582</td>\n",
       "      <td>86351412</td>\n",
       "      <td>NaN</td>\n",
       "      <td>1</td>\n",
       "    </tr>\n",
       "    <tr>\n",
       "      <th>36673740</th>\n",
       "      <td>1374582</td>\n",
       "      <td>86640773</td>\n",
       "      <td>NaN</td>\n",
       "      <td>1</td>\n",
       "    </tr>\n",
       "  </tbody>\n",
       "</table>\n",
       "<p>23560781 rows × 4 columns</p>\n",
       "</div>"
      ],
      "text/plain": [
       "          user_id   item_id         score  target\n",
       "60              3     40461  2.229038e-12       0\n",
       "61              3     16884  2.222117e-12       0\n",
       "62              3  39946956  1.936096e-12       0\n",
       "63              3    106716  1.740006e-12       0\n",
       "64              3     10177  1.609044e-12       0\n",
       "...           ...       ...           ...     ...\n",
       "36673736  1374582  85923303           NaN       1\n",
       "36673737  1374582  86169470           NaN       1\n",
       "36673738  1374582  86263362           NaN       1\n",
       "36673739  1374582  86351412           NaN       1\n",
       "36673740  1374582  86640773           NaN       1\n",
       "\n",
       "[23560781 rows x 4 columns]"
      ]
     },
     "execution_count": 15,
     "metadata": {},
     "output_type": "execute_result"
    }
   ],
   "source": [
    "candidates_to_sample"
   ]
  },
  {
   "cell_type": "code",
   "execution_count": 16,
   "id": "a04c010e",
   "metadata": {
    "trusted": false
   },
   "outputs": [],
   "source": [
    "negatives_per_user = 10\n",
    "candidates_for_train = pd.concat([\n",
    "    candidates_to_sample.query('target == 1'),\n",
    "    candidates_to_sample.query(\"target == 0\") \\\n",
    "        .groupby(\"user_id\") \\\n",
    "        .apply(lambda x: x.sample(negatives_per_user, random_state=0))\n",
    "    ]) \n",
    "\n",
    "candidates_for_train = pd.merge(candidates_for_train.reset_index(drop=True), user_features_for_train.reset_index(), left_on='user_id', right_on='user_id', how='left')"
   ]
  },
  {
   "cell_type": "code",
   "execution_count": 17,
   "id": "97f91ae7",
   "metadata": {
    "trusted": false
   },
   "outputs": [
    {
     "data": {
      "text/html": [
       "<div>\n",
       "<style scoped>\n",
       "    .dataframe tbody tr th:only-of-type {\n",
       "        vertical-align: middle;\n",
       "    }\n",
       "\n",
       "    .dataframe tbody tr th {\n",
       "        vertical-align: top;\n",
       "    }\n",
       "\n",
       "    .dataframe thead th {\n",
       "        text-align: right;\n",
       "    }\n",
       "</style>\n",
       "<table border=\"1\" class=\"dataframe\">\n",
       "  <thead>\n",
       "    <tr style=\"text-align: right;\">\n",
       "      <th></th>\n",
       "      <th>user_id</th>\n",
       "      <th>item_id</th>\n",
       "      <th>score</th>\n",
       "      <th>target</th>\n",
       "      <th>listening_days</th>\n",
       "      <th>tracks_played</th>\n",
       "      <th>tracks_per_month</th>\n",
       "    </tr>\n",
       "  </thead>\n",
       "  <tbody>\n",
       "    <tr>\n",
       "      <th>0</th>\n",
       "      <td>300</td>\n",
       "      <td>560473</td>\n",
       "      <td>1.415704e-12</td>\n",
       "      <td>1</td>\n",
       "      <td>10</td>\n",
       "      <td>35</td>\n",
       "      <td>0.114754</td>\n",
       "    </tr>\n",
       "    <tr>\n",
       "      <th>1</th>\n",
       "      <td>310</td>\n",
       "      <td>39307896</td>\n",
       "      <td>1.000319e-12</td>\n",
       "      <td>1</td>\n",
       "      <td>41</td>\n",
       "      <td>45</td>\n",
       "      <td>0.035986</td>\n",
       "    </tr>\n",
       "    <tr>\n",
       "      <th>2</th>\n",
       "      <td>637</td>\n",
       "      <td>469369</td>\n",
       "      <td>4.195606e-08</td>\n",
       "      <td>1</td>\n",
       "      <td>6</td>\n",
       "      <td>8</td>\n",
       "      <td>0.043716</td>\n",
       "    </tr>\n",
       "    <tr>\n",
       "      <th>3</th>\n",
       "      <td>991</td>\n",
       "      <td>19972786</td>\n",
       "      <td>8.830814e-13</td>\n",
       "      <td>1</td>\n",
       "      <td>203</td>\n",
       "      <td>16</td>\n",
       "      <td>0.002584</td>\n",
       "    </tr>\n",
       "    <tr>\n",
       "      <th>4</th>\n",
       "      <td>1093</td>\n",
       "      <td>39307896</td>\n",
       "      <td>5.986285e-13</td>\n",
       "      <td>1</td>\n",
       "      <td>51</td>\n",
       "      <td>116</td>\n",
       "      <td>0.074574</td>\n",
       "    </tr>\n",
       "    <tr>\n",
       "      <th>...</th>\n",
       "      <td>...</td>\n",
       "      <td>...</td>\n",
       "      <td>...</td>\n",
       "      <td>...</td>\n",
       "      <td>...</td>\n",
       "      <td>...</td>\n",
       "      <td>...</td>\n",
       "    </tr>\n",
       "    <tr>\n",
       "      <th>16426535</th>\n",
       "      <td>1374582</td>\n",
       "      <td>106865</td>\n",
       "      <td>4.416409e-12</td>\n",
       "      <td>0</td>\n",
       "      <td>47</td>\n",
       "      <td>258</td>\n",
       "      <td>0.179979</td>\n",
       "    </tr>\n",
       "    <tr>\n",
       "      <th>16426536</th>\n",
       "      <td>1374582</td>\n",
       "      <td>20009250</td>\n",
       "      <td>8.635616e-12</td>\n",
       "      <td>0</td>\n",
       "      <td>47</td>\n",
       "      <td>258</td>\n",
       "      <td>0.179979</td>\n",
       "    </tr>\n",
       "    <tr>\n",
       "      <th>16426537</th>\n",
       "      <td>1374582</td>\n",
       "      <td>1721</td>\n",
       "      <td>5.761272e-12</td>\n",
       "      <td>0</td>\n",
       "      <td>47</td>\n",
       "      <td>258</td>\n",
       "      <td>0.179979</td>\n",
       "    </tr>\n",
       "    <tr>\n",
       "      <th>16426538</th>\n",
       "      <td>1374582</td>\n",
       "      <td>53404</td>\n",
       "      <td>1.018620e-11</td>\n",
       "      <td>0</td>\n",
       "      <td>47</td>\n",
       "      <td>258</td>\n",
       "      <td>0.179979</td>\n",
       "    </tr>\n",
       "    <tr>\n",
       "      <th>16426539</th>\n",
       "      <td>1374582</td>\n",
       "      <td>38318</td>\n",
       "      <td>1.145713e-11</td>\n",
       "      <td>0</td>\n",
       "      <td>47</td>\n",
       "      <td>258</td>\n",
       "      <td>0.179979</td>\n",
       "    </tr>\n",
       "  </tbody>\n",
       "</table>\n",
       "<p>16426540 rows × 7 columns</p>\n",
       "</div>"
      ],
      "text/plain": [
       "          user_id   item_id         score  target  listening_days  \\\n",
       "0             300    560473  1.415704e-12       1              10   \n",
       "1             310  39307896  1.000319e-12       1              41   \n",
       "2             637    469369  4.195606e-08       1               6   \n",
       "3             991  19972786  8.830814e-13       1             203   \n",
       "4            1093  39307896  5.986285e-13       1              51   \n",
       "...           ...       ...           ...     ...             ...   \n",
       "16426535  1374582    106865  4.416409e-12       0              47   \n",
       "16426536  1374582  20009250  8.635616e-12       0              47   \n",
       "16426537  1374582      1721  5.761272e-12       0              47   \n",
       "16426538  1374582     53404  1.018620e-11       0              47   \n",
       "16426539  1374582     38318  1.145713e-11       0              47   \n",
       "\n",
       "          tracks_played  tracks_per_month  \n",
       "0                    35          0.114754  \n",
       "1                    45          0.035986  \n",
       "2                     8          0.043716  \n",
       "3                    16          0.002584  \n",
       "4                   116          0.074574  \n",
       "...                 ...               ...  \n",
       "16426535            258          0.179979  \n",
       "16426536            258          0.179979  \n",
       "16426537            258          0.179979  \n",
       "16426538            258          0.179979  \n",
       "16426539            258          0.179979  \n",
       "\n",
       "[16426540 rows x 7 columns]"
      ]
     },
     "execution_count": 17,
     "metadata": {},
     "output_type": "execute_result"
    }
   ],
   "source": [
    "candidates_for_train"
   ]
  },
  {
   "cell_type": "markdown",
   "id": "47bcf88d-b236-46f0-a6f3-38ddd64895fe",
   "metadata": {},
   "source": [
    "# Ранжирование рекомендаций"
   ]
  },
  {
   "cell_type": "markdown",
   "id": "e8cd8223-3418-4493-8c87-1f76286ebda0",
   "metadata": {},
   "source": [
    "Построим ранжирующую модель, чтобы сделать рекомендации более точными. Отранжируем рекомендации."
   ]
  },
  {
   "cell_type": "code",
   "execution_count": 18,
   "id": "79f1dd92-32a9-463d-827e-8bb9ee5bbb54",
   "metadata": {
    "trusted": false
   },
   "outputs": [
    {
     "name": "stdout",
     "output_type": "stream",
     "text": [
      "0:\tlearn: 0.3263733\ttotal: 568ms\tremaining: 9m 27s\n",
      "100:\tlearn: 0.0024059\ttotal: 38.6s\tremaining: 5m 43s\n",
      "200:\tlearn: 0.0024059\ttotal: 1m 15s\tremaining: 4m 58s\n",
      "300:\tlearn: 0.0024059\ttotal: 1m 52s\tremaining: 4m 20s\n",
      "400:\tlearn: 0.0024059\ttotal: 2m 29s\tremaining: 3m 43s\n",
      "500:\tlearn: 0.0024059\ttotal: 3m 7s\tremaining: 3m 6s\n",
      "600:\tlearn: 0.0024059\ttotal: 3m 44s\tremaining: 2m 29s\n",
      "700:\tlearn: 0.0024059\ttotal: 4m 22s\tremaining: 1m 51s\n",
      "800:\tlearn: 0.0024059\ttotal: 4m 59s\tremaining: 1m 14s\n",
      "900:\tlearn: 0.0024059\ttotal: 5m 37s\tremaining: 37.1s\n",
      "999:\tlearn: 0.0024059\ttotal: 6m 15s\tremaining: 0us\n"
     ]
    },
    {
     "data": {
      "text/plain": [
       "<catboost.core.CatBoostClassifier at 0x33576b640>"
      ]
     },
     "execution_count": 18,
     "metadata": {},
     "output_type": "execute_result"
    }
   ],
   "source": [
    "from catboost import CatBoostClassifier, Pool\n",
    "\n",
    "features = ['score', 'listening_days', 'tracks_played', 'tracks_per_month']\n",
    "target = 'target'\n",
    "\n",
    "train_data = Pool(\n",
    "    data=candidates_for_train[features],\n",
    "    label=candidates_for_train[target]\n",
    ")\n",
    "\n",
    "cb_model = CatBoostClassifier(\n",
    "    iterations=1000,\n",
    "    learning_rate=0.1,\n",
    "    depth=6,\n",
    "    loss_function='Logloss',\n",
    "    verbose=100,\n",
    "    random_seed=0\n",
    ")\n",
    "\n",
    "cb_model.fit(train_data, early_stopping_rounds=50)"
   ]
  },
  {
   "cell_type": "code",
   "execution_count": 19,
   "id": "6dbe4db4-1ac5-44da-a13c-8e7f9768ab73",
   "metadata": {
    "trusted": false
   },
   "outputs": [
    {
     "data": {
      "text/html": [
       "<div>\n",
       "<style scoped>\n",
       "    .dataframe tbody tr th:only-of-type {\n",
       "        vertical-align: middle;\n",
       "    }\n",
       "\n",
       "    .dataframe tbody tr th {\n",
       "        vertical-align: top;\n",
       "    }\n",
       "\n",
       "    .dataframe thead th {\n",
       "        text-align: right;\n",
       "    }\n",
       "</style>\n",
       "<table border=\"1\" class=\"dataframe\">\n",
       "  <thead>\n",
       "    <tr style=\"text-align: right;\">\n",
       "      <th></th>\n",
       "      <th>listening_days</th>\n",
       "      <th>tracks_played</th>\n",
       "      <th>tracks_per_month</th>\n",
       "    </tr>\n",
       "    <tr>\n",
       "      <th>user_id</th>\n",
       "      <th></th>\n",
       "      <th></th>\n",
       "      <th></th>\n",
       "    </tr>\n",
       "  </thead>\n",
       "  <tbody>\n",
       "    <tr>\n",
       "      <th>4</th>\n",
       "      <td>3</td>\n",
       "      <td>6</td>\n",
       "      <td>0.065574</td>\n",
       "    </tr>\n",
       "    <tr>\n",
       "      <th>5</th>\n",
       "      <td>4</td>\n",
       "      <td>3</td>\n",
       "      <td>0.024590</td>\n",
       "    </tr>\n",
       "    <tr>\n",
       "      <th>7</th>\n",
       "      <td>0</td>\n",
       "      <td>1</td>\n",
       "      <td>0.000000</td>\n",
       "    </tr>\n",
       "    <tr>\n",
       "      <th>9</th>\n",
       "      <td>4</td>\n",
       "      <td>4</td>\n",
       "      <td>0.032787</td>\n",
       "    </tr>\n",
       "    <tr>\n",
       "      <th>11</th>\n",
       "      <td>5</td>\n",
       "      <td>10</td>\n",
       "      <td>0.065574</td>\n",
       "    </tr>\n",
       "    <tr>\n",
       "      <th>...</th>\n",
       "      <td>...</td>\n",
       "      <td>...</td>\n",
       "      <td>...</td>\n",
       "    </tr>\n",
       "    <tr>\n",
       "      <th>1374563</th>\n",
       "      <td>0</td>\n",
       "      <td>1</td>\n",
       "      <td>0.000000</td>\n",
       "    </tr>\n",
       "    <tr>\n",
       "      <th>1374567</th>\n",
       "      <td>0</td>\n",
       "      <td>1</td>\n",
       "      <td>0.000000</td>\n",
       "    </tr>\n",
       "    <tr>\n",
       "      <th>1374573</th>\n",
       "      <td>3</td>\n",
       "      <td>9</td>\n",
       "      <td>0.098361</td>\n",
       "    </tr>\n",
       "    <tr>\n",
       "      <th>1374574</th>\n",
       "      <td>6</td>\n",
       "      <td>19</td>\n",
       "      <td>0.103825</td>\n",
       "    </tr>\n",
       "    <tr>\n",
       "      <th>1374582</th>\n",
       "      <td>5</td>\n",
       "      <td>34</td>\n",
       "      <td>0.222951</td>\n",
       "    </tr>\n",
       "  </tbody>\n",
       "</table>\n",
       "<p>533701 rows × 3 columns</p>\n",
       "</div>"
      ],
      "text/plain": [
       "         listening_days  tracks_played  tracks_per_month\n",
       "user_id                                                 \n",
       "4                     3              6          0.065574\n",
       "5                     4              3          0.024590\n",
       "7                     0              1          0.000000\n",
       "9                     4              4          0.032787\n",
       "11                    5             10          0.065574\n",
       "...                 ...            ...               ...\n",
       "1374563               0              1          0.000000\n",
       "1374567               0              1          0.000000\n",
       "1374573               3              9          0.098361\n",
       "1374574               6             19          0.103825\n",
       "1374582               5             34          0.222951\n",
       "\n",
       "[533701 rows x 3 columns]"
      ]
     },
     "execution_count": 19,
     "metadata": {},
     "output_type": "execute_result"
    }
   ],
   "source": [
    "events_for_features_test = events_test_2.copy().reset_index()\n",
    "user_features_for_inference = get_user_features(events_for_features_test)\n",
    "user_features_for_inference = user_features_for_inference.replace([np.inf, -np.inf], 0)\n",
    "user_features_for_inference"
   ]
  },
  {
   "cell_type": "code",
   "execution_count": 20,
   "id": "7ea3f151",
   "metadata": {
    "trusted": false
   },
   "outputs": [
    {
     "data": {
      "text/html": [
       "<div>\n",
       "<style scoped>\n",
       "    .dataframe tbody tr th:only-of-type {\n",
       "        vertical-align: middle;\n",
       "    }\n",
       "\n",
       "    .dataframe tbody tr th {\n",
       "        vertical-align: top;\n",
       "    }\n",
       "\n",
       "    .dataframe thead th {\n",
       "        text-align: right;\n",
       "    }\n",
       "</style>\n",
       "<table border=\"1\" class=\"dataframe\">\n",
       "  <thead>\n",
       "    <tr style=\"text-align: right;\">\n",
       "      <th></th>\n",
       "      <th>user_id</th>\n",
       "      <th>item_id</th>\n",
       "      <th>score</th>\n",
       "      <th>listening_days</th>\n",
       "      <th>tracks_played</th>\n",
       "      <th>tracks_per_month</th>\n",
       "    </tr>\n",
       "  </thead>\n",
       "  <tbody>\n",
       "    <tr>\n",
       "      <th>0</th>\n",
       "      <td>4</td>\n",
       "      <td>9769</td>\n",
       "      <td>2.895414e-11</td>\n",
       "      <td>3</td>\n",
       "      <td>6</td>\n",
       "      <td>0.065574</td>\n",
       "    </tr>\n",
       "    <tr>\n",
       "      <th>1</th>\n",
       "      <td>4</td>\n",
       "      <td>17902234</td>\n",
       "      <td>2.327229e-11</td>\n",
       "      <td>3</td>\n",
       "      <td>6</td>\n",
       "      <td>0.065574</td>\n",
       "    </tr>\n",
       "    <tr>\n",
       "      <th>2</th>\n",
       "      <td>4</td>\n",
       "      <td>39946956</td>\n",
       "      <td>1.812591e-11</td>\n",
       "      <td>3</td>\n",
       "      <td>6</td>\n",
       "      <td>0.065574</td>\n",
       "    </tr>\n",
       "    <tr>\n",
       "      <th>3</th>\n",
       "      <td>4</td>\n",
       "      <td>35171835</td>\n",
       "      <td>1.707393e-11</td>\n",
       "      <td>3</td>\n",
       "      <td>6</td>\n",
       "      <td>0.065574</td>\n",
       "    </tr>\n",
       "    <tr>\n",
       "      <th>4</th>\n",
       "      <td>4</td>\n",
       "      <td>70492</td>\n",
       "      <td>1.631981e-11</td>\n",
       "      <td>3</td>\n",
       "      <td>6</td>\n",
       "      <td>0.065574</td>\n",
       "    </tr>\n",
       "    <tr>\n",
       "      <th>...</th>\n",
       "      <td>...</td>\n",
       "      <td>...</td>\n",
       "      <td>...</td>\n",
       "      <td>...</td>\n",
       "      <td>...</td>\n",
       "      <td>...</td>\n",
       "    </tr>\n",
       "    <tr>\n",
       "      <th>10674015</th>\n",
       "      <td>1374582</td>\n",
       "      <td>43163</td>\n",
       "      <td>5.248356e-12</td>\n",
       "      <td>5</td>\n",
       "      <td>34</td>\n",
       "      <td>0.222951</td>\n",
       "    </tr>\n",
       "    <tr>\n",
       "      <th>10674016</th>\n",
       "      <td>1374582</td>\n",
       "      <td>43052381</td>\n",
       "      <td>4.751167e-12</td>\n",
       "      <td>5</td>\n",
       "      <td>34</td>\n",
       "      <td>0.222951</td>\n",
       "    </tr>\n",
       "    <tr>\n",
       "      <th>10674017</th>\n",
       "      <td>1374582</td>\n",
       "      <td>106865</td>\n",
       "      <td>4.416409e-12</td>\n",
       "      <td>5</td>\n",
       "      <td>34</td>\n",
       "      <td>0.222951</td>\n",
       "    </tr>\n",
       "    <tr>\n",
       "      <th>10674018</th>\n",
       "      <td>1374582</td>\n",
       "      <td>113665</td>\n",
       "      <td>3.854101e-12</td>\n",
       "      <td>5</td>\n",
       "      <td>34</td>\n",
       "      <td>0.222951</td>\n",
       "    </tr>\n",
       "    <tr>\n",
       "      <th>10674019</th>\n",
       "      <td>1374582</td>\n",
       "      <td>96079</td>\n",
       "      <td>3.797124e-12</td>\n",
       "      <td>5</td>\n",
       "      <td>34</td>\n",
       "      <td>0.222951</td>\n",
       "    </tr>\n",
       "  </tbody>\n",
       "</table>\n",
       "<p>10674020 rows × 6 columns</p>\n",
       "</div>"
      ],
      "text/plain": [
       "          user_id   item_id         score  listening_days  tracks_played  \\\n",
       "0               4      9769  2.895414e-11               3              6   \n",
       "1               4  17902234  2.327229e-11               3              6   \n",
       "2               4  39946956  1.812591e-11               3              6   \n",
       "3               4  35171835  1.707393e-11               3              6   \n",
       "4               4     70492  1.631981e-11               3              6   \n",
       "...           ...       ...           ...             ...            ...   \n",
       "10674015  1374582     43163  5.248356e-12               5             34   \n",
       "10674016  1374582  43052381  4.751167e-12               5             34   \n",
       "10674017  1374582    106865  4.416409e-12               5             34   \n",
       "10674018  1374582    113665  3.854101e-12               5             34   \n",
       "10674019  1374582     96079  3.797124e-12               5             34   \n",
       "\n",
       "          tracks_per_month  \n",
       "0                 0.065574  \n",
       "1                 0.065574  \n",
       "2                 0.065574  \n",
       "3                 0.065574  \n",
       "4                 0.065574  \n",
       "...                    ...  \n",
       "10674015          0.222951  \n",
       "10674016          0.222951  \n",
       "10674017          0.222951  \n",
       "10674018          0.222951  \n",
       "10674019          0.222951  \n",
       "\n",
       "[10674020 rows x 6 columns]"
      ]
     },
     "execution_count": 20,
     "metadata": {},
     "output_type": "execute_result"
    }
   ],
   "source": [
    "candidates_to_rank = personal_als[[\"user_id\", \"item_id\", \"score\"]].copy()\n",
    "candidates_to_rank = candidates_to_rank[candidates_to_rank[\"user_id\"].isin(events_test_2[\"user_id\"].drop_duplicates())]\n",
    "candidates_to_rank = pd.merge(candidates_to_rank.reset_index(drop=True), user_features_for_inference.reset_index(), left_on='user_id', right_on='user_id', how='left')\n",
    "candidates_to_rank"
   ]
  },
  {
   "cell_type": "code",
   "execution_count": 21,
   "id": "9ebe0e6f",
   "metadata": {
    "trusted": false
   },
   "outputs": [],
   "source": [
    "inference_data = Pool(data=candidates_to_rank[features])\n",
    "predictions = cb_model.predict_proba(inference_data)\n",
    "\n",
    "candidates_to_rank[\"cb_score\"] = predictions[:, 1]\n",
    "\n",
    "candidates_to_rank = candidates_to_rank.sort_values([\"user_id\", \"cb_score\"], ascending=[True, False])\n",
    "candidates_to_rank['rank'] = candidates_to_rank.groupby('user_id').cumcount() + 1\n",
    "\n",
    "max_recommendations_per_user = 100\n",
    "final_recommendations = candidates_to_rank.query(\"rank <= @max_recommendations_per_user\")\n"
   ]
  },
  {
   "cell_type": "code",
   "execution_count": 22,
   "id": "36776110",
   "metadata": {
    "trusted": false
   },
   "outputs": [
    {
     "data": {
      "text/html": [
       "<div>\n",
       "<style scoped>\n",
       "    .dataframe tbody tr th:only-of-type {\n",
       "        vertical-align: middle;\n",
       "    }\n",
       "\n",
       "    .dataframe tbody tr th {\n",
       "        vertical-align: top;\n",
       "    }\n",
       "\n",
       "    .dataframe thead th {\n",
       "        text-align: right;\n",
       "    }\n",
       "</style>\n",
       "<table border=\"1\" class=\"dataframe\">\n",
       "  <thead>\n",
       "    <tr style=\"text-align: right;\">\n",
       "      <th></th>\n",
       "      <th>user_id</th>\n",
       "      <th>item_id</th>\n",
       "      <th>score</th>\n",
       "      <th>listening_days</th>\n",
       "      <th>tracks_played</th>\n",
       "      <th>tracks_per_month</th>\n",
       "      <th>cb_score</th>\n",
       "      <th>rank</th>\n",
       "    </tr>\n",
       "  </thead>\n",
       "  <tbody>\n",
       "    <tr>\n",
       "      <th>18</th>\n",
       "      <td>4</td>\n",
       "      <td>48951</td>\n",
       "      <td>4.992136e-12</td>\n",
       "      <td>3</td>\n",
       "      <td>6</td>\n",
       "      <td>0.065574</td>\n",
       "      <td>0.002266</td>\n",
       "      <td>1</td>\n",
       "    </tr>\n",
       "    <tr>\n",
       "      <th>19</th>\n",
       "      <td>4</td>\n",
       "      <td>105322</td>\n",
       "      <td>4.736321e-12</td>\n",
       "      <td>3</td>\n",
       "      <td>6</td>\n",
       "      <td>0.065574</td>\n",
       "      <td>0.002266</td>\n",
       "      <td>2</td>\n",
       "    </tr>\n",
       "    <tr>\n",
       "      <th>6</th>\n",
       "      <td>4</td>\n",
       "      <td>178529</td>\n",
       "      <td>1.456923e-11</td>\n",
       "      <td>3</td>\n",
       "      <td>6</td>\n",
       "      <td>0.065574</td>\n",
       "      <td>0.002253</td>\n",
       "      <td>3</td>\n",
       "    </tr>\n",
       "    <tr>\n",
       "      <th>7</th>\n",
       "      <td>4</td>\n",
       "      <td>43163</td>\n",
       "      <td>1.319794e-11</td>\n",
       "      <td>3</td>\n",
       "      <td>6</td>\n",
       "      <td>0.065574</td>\n",
       "      <td>0.002253</td>\n",
       "      <td>4</td>\n",
       "    </tr>\n",
       "    <tr>\n",
       "      <th>8</th>\n",
       "      <td>4</td>\n",
       "      <td>214503</td>\n",
       "      <td>1.317315e-11</td>\n",
       "      <td>3</td>\n",
       "      <td>6</td>\n",
       "      <td>0.065574</td>\n",
       "      <td>0.002253</td>\n",
       "      <td>5</td>\n",
       "    </tr>\n",
       "    <tr>\n",
       "      <th>...</th>\n",
       "      <td>...</td>\n",
       "      <td>...</td>\n",
       "      <td>...</td>\n",
       "      <td>...</td>\n",
       "      <td>...</td>\n",
       "      <td>...</td>\n",
       "      <td>...</td>\n",
       "      <td>...</td>\n",
       "    </tr>\n",
       "    <tr>\n",
       "      <th>10674009</th>\n",
       "      <td>1374582</td>\n",
       "      <td>65011</td>\n",
       "      <td>6.635880e-12</td>\n",
       "      <td>5</td>\n",
       "      <td>34</td>\n",
       "      <td>0.222951</td>\n",
       "      <td>0.001559</td>\n",
       "      <td>16</td>\n",
       "    </tr>\n",
       "    <tr>\n",
       "      <th>10674010</th>\n",
       "      <td>1374582</td>\n",
       "      <td>469369</td>\n",
       "      <td>6.364538e-12</td>\n",
       "      <td>5</td>\n",
       "      <td>34</td>\n",
       "      <td>0.222951</td>\n",
       "      <td>0.001559</td>\n",
       "      <td>17</td>\n",
       "    </tr>\n",
       "    <tr>\n",
       "      <th>10674011</th>\n",
       "      <td>1374582</td>\n",
       "      <td>9282507</td>\n",
       "      <td>6.223734e-12</td>\n",
       "      <td>5</td>\n",
       "      <td>34</td>\n",
       "      <td>0.222951</td>\n",
       "      <td>0.001559</td>\n",
       "      <td>18</td>\n",
       "    </tr>\n",
       "    <tr>\n",
       "      <th>10674012</th>\n",
       "      <td>1374582</td>\n",
       "      <td>2214166</td>\n",
       "      <td>6.222355e-12</td>\n",
       "      <td>5</td>\n",
       "      <td>34</td>\n",
       "      <td>0.222951</td>\n",
       "      <td>0.001559</td>\n",
       "      <td>19</td>\n",
       "    </tr>\n",
       "    <tr>\n",
       "      <th>10674013</th>\n",
       "      <td>1374582</td>\n",
       "      <td>1721</td>\n",
       "      <td>5.761272e-12</td>\n",
       "      <td>5</td>\n",
       "      <td>34</td>\n",
       "      <td>0.222951</td>\n",
       "      <td>0.001559</td>\n",
       "      <td>20</td>\n",
       "    </tr>\n",
       "  </tbody>\n",
       "</table>\n",
       "<p>10674020 rows × 8 columns</p>\n",
       "</div>"
      ],
      "text/plain": [
       "          user_id  item_id         score  listening_days  tracks_played  \\\n",
       "18              4    48951  4.992136e-12               3              6   \n",
       "19              4   105322  4.736321e-12               3              6   \n",
       "6               4   178529  1.456923e-11               3              6   \n",
       "7               4    43163  1.319794e-11               3              6   \n",
       "8               4   214503  1.317315e-11               3              6   \n",
       "...           ...      ...           ...             ...            ...   \n",
       "10674009  1374582    65011  6.635880e-12               5             34   \n",
       "10674010  1374582   469369  6.364538e-12               5             34   \n",
       "10674011  1374582  9282507  6.223734e-12               5             34   \n",
       "10674012  1374582  2214166  6.222355e-12               5             34   \n",
       "10674013  1374582     1721  5.761272e-12               5             34   \n",
       "\n",
       "          tracks_per_month  cb_score  rank  \n",
       "18                0.065574  0.002266     1  \n",
       "19                0.065574  0.002266     2  \n",
       "6                 0.065574  0.002253     3  \n",
       "7                 0.065574  0.002253     4  \n",
       "8                 0.065574  0.002253     5  \n",
       "...                    ...       ...   ...  \n",
       "10674009          0.222951  0.001559    16  \n",
       "10674010          0.222951  0.001559    17  \n",
       "10674011          0.222951  0.001559    18  \n",
       "10674012          0.222951  0.001559    19  \n",
       "10674013          0.222951  0.001559    20  \n",
       "\n",
       "[10674020 rows x 8 columns]"
      ]
     },
     "execution_count": 22,
     "metadata": {},
     "output_type": "execute_result"
    }
   ],
   "source": [
    "final_recommendations"
   ]
  },
  {
   "cell_type": "markdown",
   "id": "b3c84071-45b5-4a15-a683-e0ab034a3128",
   "metadata": {},
   "source": [
    "# Оценка качества"
   ]
  },
  {
   "cell_type": "markdown",
   "id": "1b107fe4-554e-42b1-87d9-c435a52bb77a",
   "metadata": {},
   "source": [
    "Проверим оценку качества трёх типов рекомендаций: \n",
    "\n",
    "- топ популярных,\n",
    "- персональных, полученных при помощи ALS,\n",
    "- итоговых\n",
    "  \n",
    "по четырем метрикам: recall, precision, coverage, novelty."
   ]
  },
  {
   "cell_type": "code",
   "execution_count": 23,
   "id": "ce049787",
   "metadata": {
    "trusted": false
   },
   "outputs": [],
   "source": [
    "def process_events_recs_for_binary_metrics(events_train, events_test, recs, top_k=None):\n",
    "\n",
    "    \"\"\"\n",
    "    размечает пары <user_id, item_id> для общего множества пользователей признаками\n",
    "    - gt (ground truth)\n",
    "    - pr (prediction)\n",
    "    top_k: расчёт ведётся только для top k-рекомендаций\n",
    "    \"\"\"\n",
    "\n",
    "    events_test[\"gt\"] = True\n",
    "    common_users = set(events_test[\"user_id\"]) & set(recs[\"user_id\"])\n",
    "\n",
    "    print(f\"Common users: {len(common_users)}\")\n",
    "    \n",
    "    events_for_common_users = events_test[events_test[\"user_id\"].isin(common_users)].copy()\n",
    "    recs_for_common_users = recs[recs[\"user_id\"].isin(common_users)].copy()\n",
    "\n",
    "    recs_for_common_users = recs_for_common_users.sort_values([\"user_id\", \"finale_score\"], ascending=[True, False])\n",
    "\n",
    "    # оставляет только те item_id, которые были в events_train, \n",
    "    # т. к. модель не имела никакой возможности давать рекомендации для новых айтемов\n",
    "    events_for_common_users = events_for_common_users[events_for_common_users[\"item_id\"].isin(events_train[\"item_id\"].unique())]\n",
    "\n",
    "    if top_k is not None:\n",
    "        recs_for_common_users = recs_for_common_users.groupby(\"user_id\").head(top_k)\n",
    "    \n",
    "    events_recs_common = events_for_common_users[[\"user_id\", \"item_id\", \"gt\"]].merge(\n",
    "        recs_for_common_users[[\"user_id\", \"item_id\", \"finale_score\"]], \n",
    "        on=[\"user_id\", \"item_id\"], how=\"outer\")    \n",
    "\n",
    "    events_recs_common[\"gt\"] = events_recs_common[\"gt\"].fillna(False)\n",
    "    events_recs_common[\"pr\"] = ~events_recs_common[\"finale_score\"].isnull()\n",
    "    \n",
    "    events_recs_common[\"tp\"] = events_recs_common[\"gt\"] & events_recs_common[\"pr\"]\n",
    "    events_recs_common[\"fp\"] = ~events_recs_common[\"gt\"] & events_recs_common[\"pr\"]\n",
    "    events_recs_common[\"fn\"] = events_recs_common[\"gt\"] & ~events_recs_common[\"pr\"]\n",
    "\n",
    "    return events_recs_common"
   ]
  },
  {
   "cell_type": "code",
   "execution_count": 29,
   "id": "d9104c11",
   "metadata": {
    "trusted": false
   },
   "outputs": [
    {
     "name": "stdout",
     "output_type": "stream",
     "text": [
      "Variable                Type         Data/Info\n",
      "----------------------------------------------\n",
      "candidates              DataFrame              user_id   item_<...>6673741 rows x 4 columns]\n",
      "candidates_for_train    DataFrame              user_id   item_<...>6426540 rows x 7 columns]\n",
      "candidates_to_rank      DataFrame              user_id  item_i<...>0674020 rows x 8 columns]\n",
      "candidates_to_sample    DataFrame              user_id   item_<...>3560781 rows x 4 columns]\n",
      "catalog                 DataFrame                    id   type<...>1812471 rows x 3 columns]\n",
      "events_labels           DataFrame               user_id   item<...>9286980 rows x 5 columns]\n",
      "events_test_2           DataFrame               user_id    ite<...>4609385 rows x 4 columns]\n",
      "events_train            DataFrame               user_id   item<...>8723058 rows x 4 columns]\n",
      "final_recommendations   DataFrame              user_id  item_i<...>0674020 rows x 8 columns]\n",
      "items                   DataFrame              item_id        <...>1000000 rows x 4 columns]\n",
      "personal_als            DataFrame                     score  u<...>7392080 rows x 3 columns]\n"
     ]
    }
   ],
   "source": [
    "%whos DataFrame"
   ]
  },
  {
   "cell_type": "code",
   "execution_count": null,
   "id": "3d9c8133",
   "metadata": {
    "trusted": false
   },
   "outputs": [],
   "source": [
    "del events\n",
    "del events_for_features\n",
    "del events_test\n",
    "# del events_for_features\n",
    "del events_for_features_test\n",
    "del user_features_for_inference\n",
    "del user_features_for_train"
   ]
  },
  {
   "cell_type": "code",
   "execution_count": 30,
   "id": "94d6f388-aecb-443e-8647-14014e932d4d",
   "metadata": {
    "trusted": false
   },
   "outputs": [
    {
     "name": "stdout",
     "output_type": "stream",
     "text": [
      "Common users: 533701\n"
     ]
    }
   ],
   "source": [
    "events_inference = pd.concat([events_train, events_labels])\n",
    "\n",
    "events_recs_for_binary_metrics_5 = process_events_recs_for_binary_metrics(\n",
    "    events_inference,\n",
    "    events_test_2,\n",
    "    final_recommendations.rename(columns={\"cb_score\": \"finale_score\"}), \n",
    "    top_k=5)"
   ]
  },
  {
   "cell_type": "code",
   "execution_count": 31,
   "id": "249607a0",
   "metadata": {
    "trusted": false
   },
   "outputs": [
    {
     "data": {
      "text/plain": [
       "(0.00013865441511258175, 0.00012689913701545614)"
      ]
     },
     "execution_count": 31,
     "metadata": {},
     "output_type": "execute_result"
    }
   ],
   "source": [
    "def compute_cls_metrics(events_recs_for_binary_metric):\n",
    "    \n",
    "    groupper = events_recs_for_binary_metric.groupby(\"user_id\")\n",
    "\n",
    "    # precision = tp / (tp + fp)\n",
    "    precision = groupper[\"tp\"].sum()/(groupper[\"tp\"].sum()+groupper[\"fp\"].sum())\n",
    "    precision = precision.fillna(0).mean()\n",
    "    \n",
    "    # recall = tp / (tp + fn)\n",
    "    recall = groupper['tp'].sum()/(groupper['tp'].sum()+groupper['fn'].sum())\n",
    "    recall = recall.fillna(0).mean()\n",
    "\n",
    "    return precision, recall\n",
    "\n",
    "compute_cls_metrics(events_recs_for_binary_metrics_5)"
   ]
  },
  {
   "cell_type": "markdown",
   "id": "f1c8d38c-32b0-46a4-96f0-cd01dac708bc",
   "metadata": {},
   "source": [
    "# === Выводы, метрики ==="
   ]
  },
  {
   "cell_type": "markdown",
   "id": "f7d7d5d8-7d1e-4fdf-a6cd-83e5ce92c684",
   "metadata": {},
   "source": [
    "Основные выводы при работе над расчётом рекомендаций, рассчитанные метрики."
   ]
  },
  {
   "cell_type": "markdown",
   "id": "b8b195e6",
   "metadata": {},
   "source": [
    "В проекте мы сформировали несколько типов рекоммендаций, включая топ-100 популярных, персональных и похожих рекоммендаций. Также мы отранжировали персональные рекоммендации используя бустинг, натренерованный на признаках пользователя (количество дней, в течение которых пользователь слушал треки - listening days, количество прослушанных треков - tracks_played и среднее количество прослушанных треков в месяц) и скору из ALS. Точность и полнота составляют ~0.014 и ~0.13 процента соотвественно.\n",
    "\n",
    "Также мы подготовили рекоммендации похожих треков, которые которые мы будем в дальнейшем использовать для online рекомендаций при построении рекомендательного сервиса."
   ]
  },
  {
   "cell_type": "markdown",
   "id": "f8643522",
   "metadata": {},
   "source": [
    "<b> Комментарий от ревьюера v1</b>\n",
    "\n",
    "<div class=\"alert alert-warning\">\n",
    "    \n",
    "⚠️ Метрики действительно получатся не очень большими и это нормально."
   ]
  },
  {
   "cell_type": "markdown",
   "id": "490a3fdf",
   "metadata": {},
   "source": [
    "\n",
    "<b>Комментарий от ревьюера v1</b>\n",
    "\n",
    "<div class=\"alert alert-block alert-danger\">\n",
    "❌ По результатам твоей работы стоило сформировать выводы с метриками. Так ты сможешь финализировать свою работу и подготовить ее для презентации перед заказчиком.\n",
    "</div>\n"
   ]
  },
  {
   "cell_type": "markdown",
   "id": "bd71c837",
   "metadata": {},
   "source": [
    "<div class=\"alert alert-block alert-info\">\n",
    "<b>Справедливо! Добавил в ячейку выше</b>\n",
    "</div>"
   ]
  },
  {
   "cell_type": "markdown",
   "id": "667ed0cf",
   "metadata": {},
   "source": [
    "# Общий вывод\n",
    "\n",
    "<div class=\"alert alert-block alert-success\">\n",
    "    \n",
    "\n",
    "Спасибо за работу, у тебя получился отличный проект!\\\n",
    "Удалось протестировать различные алгоритмы для формирования рекомендаций.  После исправления критического замечания, я буду готов принять твой проект.\n",
    "Есть небольшие советы, просьба ознакомиться с ними.\n",
    "Если есть вопросы или желание улучшить твой проект - оставь вопросы комментарии после этой ячейки. Постараюсь тебе помочь с ответами и улучшением твоего проекта! \n",
    "</div>\n",
    "\n",
    "Для дальнейшего изучения стоит ознакомиться с библиотеками:\n",
    "- [Implicit](https://github.com/benfred/implicit)\n",
    "- [RecTools](https://github.com/MobileTeleSystems/RecTools)\n",
    "- [RePlay](https://github.com/sb-ai-lab/RePlay)\n",
    "- [LightFM](https://github.com/lyst/lightfm)\n",
    "   \n",
    "Прочитать:\n",
    "- обзорную [статью](https://education.yandex.ru/handbook/ml/article/intro-recsys) и ее продолжение.\n",
    "- полазить на [сайте](https://paperswithcode.com/task/recommendation-systems). Тут очень много примеров реальных рекомендательных систем с имплементацией.\n"
   ]
  },
  {
   "cell_type": "markdown",
   "id": "367e2008",
   "metadata": {},
   "source": [
    "<div class=\"alert alert-block alert-info\">\n",
    "<b> Артем, спасибо тебе за доп материалы и фидбек по проекту </b>\n",
    "</div>"
   ]
  }
 ],
 "metadata": {
  "ExecuteTimeLog": [
   {
    "duration": 128,
    "start_time": "2024-12-15T16:17:05.321Z"
   }
  ],
  "kernelspec": {
   "display_name": ".venv_recsys_start",
   "language": "python",
   "name": "python3"
  },
  "language_info": {
   "codemirror_mode": {
    "name": "ipython",
    "version": 3
   },
   "file_extension": ".py",
   "mimetype": "text/x-python",
   "name": "python",
   "nbconvert_exporter": "python",
   "pygments_lexer": "ipython3",
   "version": "3.10.12"
  },
  "toc": {
   "base_numbering": 1,
   "nav_menu": {},
   "number_sections": true,
   "sideBar": true,
   "skip_h1_title": true,
   "title_cell": "Table of Contents",
   "title_sidebar": "Contents",
   "toc_cell": false,
   "toc_position": {},
   "toc_section_display": true,
   "toc_window_display": true
  }
 },
 "nbformat": 4,
 "nbformat_minor": 5
}
